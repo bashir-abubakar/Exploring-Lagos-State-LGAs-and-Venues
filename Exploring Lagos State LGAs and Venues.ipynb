{
 "cells": [
  {
   "cell_type": "markdown",
   "metadata": {
    "colab_type": "text",
    "id": "view-in-github"
   },
   "source": [
    "## Exploring Lagos States LGA(s) and Venues"
   ]
  },
  {
   "cell_type": "code",
   "execution_count": 1,
   "metadata": {
    "colab": {
     "base_uri": "https://localhost:8080/",
     "height": 34
    },
    "colab_type": "code",
    "id": "GdpbL_of3uqe",
    "outputId": "beefbd6a-f178-459e-c851-13ef5c39c93a"
   },
   "outputs": [
    {
     "name": "stdout",
     "output_type": "stream",
     "text": [
      "Hello My name is Bashir Abubakar and welcome to this exploration!\n"
     ]
    }
   ],
   "source": [
    "print('Hello My name is Bashir Abubakar and welcome to this exploration!')"
   ]
  },
  {
   "cell_type": "markdown",
   "metadata": {
    "colab_type": "text",
    "id": "gSwz2Tl9QeNY"
   },
   "source": [
    "<h2>Description</h2>"
   ]
  },
  {
   "cell_type": "markdown",
   "metadata": {
    "colab_type": "text",
    "id": "ydbJ0Q1TQfgQ"
   },
   "source": [
    "Exploring Lagos state data to get the top 10 venues for each LGA.\n",
    "Then clustered Lagos state into 5 clusters using the K-means algorithm, and finally displayed the Top venue categories in Lagos state using a word cloud object."
   ]
  },
  {
   "cell_type": "markdown",
   "metadata": {
    "colab_type": "text",
    "id": "OeJz-T3-Qv0K"
   },
   "source": [
    "<h2>Data Requirements and Overview</h2>"
   ]
  },
  {
   "cell_type": "markdown",
   "metadata": {
    "colab_type": "text",
    "id": "rHYrw2Hm0L1H"
   },
   "source": [
    "**The Dataset is the wikipedia page of Lagos state** see [link](https://en.wikipedia.org/wiki/List_of_Lagos_State_local_government_areas_by_population)"
   ]
  },
  {
   "cell_type": "markdown",
   "metadata": {
    "colab_type": "text",
    "id": "ZDfmwP_cQ1k7"
   },
   "source": [
    "We shall explore Lagos city through its respective Local Government Areas. The above link is a web page that shows the respective LGAs in Lagos State and each population data. It's a Wikipedia data page.\n",
    "<br>This data shall be analysed thoroughly through the following steps:-\n",
    "<br>Scrape the web page using the beautiful soup library\n",
    "<br>Use the Foursquare API calls to retrieve geolocation data\n",
    "<br>Fetch the text data using the requests library\n",
    "<br>Convert it from JSON to Pandas data frame using the json_normalize module\n",
    "<br>Use The folium library to render the maps and plot these via The Matplotlib library. Then we shall explore respective LGAs and analyse each area.\n",
    "<br>After this, we shall select our top location.\n",
    "<br>Finally, to add some fun, we shall use the word-cloud library to display the names of the top categories of venues per LGAs."
   ]
  },
  {
   "cell_type": "markdown",
   "metadata": {
    "colab_type": "text",
    "id": "rXvgbEkIOLpy"
   },
   "source": [
    "**So please sit back, relax and enjoy the ride as we explore Lagos City**"
   ]
  },
  {
   "cell_type": "markdown",
   "metadata": {
    "colab_type": "text",
    "id": "2Opd6xcCz44c"
   },
   "source": [
    "First let's import required libraries"
   ]
  },
  {
   "cell_type": "code",
   "execution_count": 91,
   "metadata": {
    "colab": {
     "base_uri": "https://localhost:8080/",
     "height": 34
    },
    "colab_type": "code",
    "id": "Yxg7Cp0nNaI-",
    "outputId": "4c6fd14b-f8de-4060-9a22-a1f93f49a683"
   },
   "outputs": [
    {
     "data": {
      "text/html": [
       "        <script type=\"text/javascript\">\n",
       "        window.PlotlyConfig = {MathJaxConfig: 'local'};\n",
       "        if (window.MathJax) {MathJax.Hub.Config({SVG: {font: \"STIX-Web\"}});}\n",
       "        if (typeof require !== 'undefined') {\n",
       "        require.undef(\"plotly\");\n",
       "        requirejs.config({\n",
       "            paths: {\n",
       "                'plotly': ['https://cdn.plot.ly/plotly-latest.min']\n",
       "            }\n",
       "        });\n",
       "        require(['plotly'], function(Plotly) {\n",
       "            window._Plotly = Plotly;\n",
       "        });\n",
       "        }\n",
       "        </script>\n",
       "        "
      ]
     },
     "metadata": {},
     "output_type": "display_data"
    },
    {
     "name": "stdout",
     "output_type": "stream",
     "text": [
      "All modules imported\n"
     ]
    }
   ],
   "source": [
    "from bs4 import BeautifulSoup\n",
    "import requests  # library to handle requests\n",
    "import pandas as pd\n",
    "import json  # library to handle JSON files\n",
    "from pandas.io.json import json_normalize  # transform json files to pandas dataframes\n",
    "from geopy.geocoders import Nominatim  # convert an address into latitude and longitude values\n",
    "\n",
    "# Matplotlib and associated plotting modules\n",
    "import matplotlib.pyplot as plt\n",
    "import matplotlib.cm as cm\n",
    "import matplotlib.colors as colors\n",
    "\n",
    "# import k-means for clustering stage\n",
    "from sklearn.cluster import KMeans\n",
    "\n",
    "#!conda install -c conda-forge folium=0.5.0 --yes\n",
    "import folium # map rendering library\n",
    "# chart studio library\n",
    "from chart_studio.plotly import plot, iplot\n",
    "import plotly.graph_objects as go\n",
    "import plotly.offline as pyo\n",
    "pyo.init_notebook_mode(connected=True)\n",
    "\n",
    "import numpy as np\n",
    "import csv\n",
    "\n",
    "print('All modules imported')"
   ]
  },
  {
   "cell_type": "code",
   "execution_count": 3,
   "metadata": {
    "colab": {},
    "colab_type": "code",
    "id": "hyHRivq_2hom"
   },
   "outputs": [],
   "source": [
    "# Lets save the webpage for The Lagos State Data\n",
    "\n",
    "lagos_state_link = 'https://en.wikipedia.org/wiki/List_of_Lagos_State_local_government_areas_by_population'"
   ]
  },
  {
   "cell_type": "markdown",
   "metadata": {
    "colab_type": "text",
    "id": "HmkJLYfhyKtp"
   },
   "source": [
    "Get the source code HTML data from the website"
   ]
  },
  {
   "cell_type": "code",
   "execution_count": 4,
   "metadata": {
    "colab": {},
    "colab_type": "code",
    "id": "VC5GhczSyMU4"
   },
   "outputs": [],
   "source": [
    "source = requests.get(lagos_state_link).text"
   ]
  },
  {
   "cell_type": "markdown",
   "metadata": {
    "colab_type": "text",
    "id": "AexSEq_Wu84U"
   },
   "source": [
    "Lets Use BeautifulSoup to parse it"
   ]
  },
  {
   "cell_type": "code",
   "execution_count": 5,
   "metadata": {
    "colab": {},
    "colab_type": "code",
    "id": "8-rdg0tGyqGz"
   },
   "outputs": [
    {
     "name": "stdout",
     "output_type": "stream",
     "text": [
      "<!DOCTYPE html>\n",
      "<html class=\"client-nojs\" dir=\"ltr\" lang=\"en\">\n",
      " <head>\n",
      "  <meta charset=\"utf-8\"/>\n",
      "  <title>\n",
      "   List of Lagos State local government areas by population - Wikipedia\n",
      "  </title>\n",
      "  <script>\n",
      "   document.documentElement.className=\"client-js\";RLCONF={\"wgBreakFrames\":!1,\"wgSeparatorTransformTable\":[\"\",\"\"],\"wgDigitTransformTable\":[\"\",\"\"],\"wgDefaultDateFormat\":\"dmy\",\"wgMonthNames\":[\"\",\"January\",\"February\",\"March\",\"April\",\"May\",\"June\",\"July\",\"August\",\"September\",\"October\",\"November\",\"December\"],\"wgRequestId\":\"bcd13452-4b03-43e0-bd8a-3aae59f4e91e\",\"wgCSPNonce\":!1,\"wgCanonicalNamespace\":\"\",\"wgCanonicalSpecialPageName\":!1,\"wgNamespaceNumber\":0,\"wgPageName\":\"List_of_Lagos_State_local_government_areas_by_population\",\"wgTitle\":\"List of Lagos State local government areas by population\",\"wgCurRevisionId\":960244447,\"wgRevisionId\":960244447,\"wgArticleId\":35585260,\"wgIsArticle\":!0,\"wgIsRedirect\":!1,\"wgAction\":\"view\",\"wgUserName\":null,\"wgUserGroups\":[\"*\"],\"wgCategories\":[\"Articles with short description\",\"Wikipedia articles in need of updating from March 2015\",\"All Wikipedia articles in need of updating\",\"Articles lacking sources from June 2015\",\"All articles lacking sources\",\n",
      "\"Wikipedia articles needing clarification from April 2020\",\"Local Government Areas in Lagos State\",\"Nigeria geography-related lists\",\"Lists by population\"],\"wgPageContentLanguage\":\"en\",\"wgPageContentModel\":\"wikitext\",\"wgRelevantPageName\":\"List_of_Lagos_State_local_government_areas_by_population\",\"wgRelevantArticleId\":35585260,\"wgIsProbablyEditable\":!0,\"wgRelevantPageIsProbablyEditable\":!0,\"wgRestrictionEdit\":[],\"wgRestrictionMove\":[],\"wgMediaViewerOnClick\":!0,\"wgMediaViewerEnabledByDefault\":!0,\"wgPopupsReferencePreviews\":!1,\"wgPopupsConflictsWithNavPopupGadget\":!1,\"wgVisualEditor\":{\"pageLanguageCode\":\"en\",\"pageLanguageDir\":\"ltr\",\"pageVariantFallbacks\":\"en\"},\"wgMFDisplayWikibaseDescriptions\":{\"search\":!0,\"nearby\":!0,\"watchlist\":!0,\"tagline\":!1},\"wgWMESchemaEditAttemptStepOversample\":!1,\"wgULSCurrentAutonym\":\"English\",\"wgNoticeProject\":\"wikipedia\",\"wgWikibaseItemId\":\"Q6576379\",\"wgCentralAuthMobileDomain\":!1,\"wgEditSubmitButtonLabelPublish\":!0};RLSTATE={\n",
      "\"ext.globalCssJs.user.styles\":\"ready\",\"site.styles\":\"ready\",\"noscript\":\"ready\",\"user.styles\":\"ready\",\"ext.globalCssJs.user\":\"ready\",\"user\":\"ready\",\"user.options\":\"loading\",\"skins.vector.styles.legacy\":\"ready\",\"wikibase.client.init\":\"ready\",\"ext.visualEditor.desktopArticleTarget.noscript\":\"ready\",\"ext.uls.interlanguage\":\"ready\",\"ext.wikimediaBadges\":\"ready\"};RLPAGEMODULES=[\"site\",\"mediawiki.page.startup\",\"mediawiki.page.ready\",\"skins.vector.legacy.js\",\"ext.gadget.ReferenceTooltips\",\"ext.gadget.charinsert\",\"ext.gadget.refToolbar\",\"ext.gadget.extra-toolbar-buttons\",\"ext.gadget.switcher\",\"ext.centralauth.centralautologin\",\"mmv.head\",\"mmv.bootstrap.autostart\",\"ext.popups\",\"ext.visualEditor.desktopArticleTarget.init\",\"ext.visualEditor.targetLoader\",\"ext.eventLogging\",\"ext.wikimediaEvents\",\"ext.navigationTiming\",\"ext.uls.compactlinks\",\"ext.uls.interface\",\"ext.cx.eventlogging.campaigns\",\"ext.quicksurveys.init\",\"ext.centralNotice.geoIP\",\"ext.centralNotice.startUp\"];\n",
      "  </script>\n",
      "  <script>\n",
      "   (RLQ=window.RLQ||[]).push(function(){mw.loader.implement(\"user.options@1hzgi\",function($,jQuery,require,module){/*@nomin*/mw.user.tokens.set({\"patrolToken\":\"+\\\\\",\"watchToken\":\"+\\\\\",\"csrfToken\":\"+\\\\\"});\n",
      "});});\n",
      "  </script>\n",
      "  <link href=\"/w/load.php?lang=en&amp;modules=ext.uls.interlanguage%7Cext.visualEditor.desktopArticleTarget.noscript%7Cext.wikimediaBadges%7Cskins.vector.styles.legacy%7Cwikibase.client.init&amp;only=styles&amp;skin=vector\" rel=\"stylesheet\"/>\n",
      "  <script async=\"\" src=\"/w/load.php?lang=en&amp;modules=startup&amp;only=scripts&amp;raw=1&amp;skin=vector\">\n",
      "  </script>\n",
      "  <meta content=\"\" name=\"ResourceLoaderDynamicStyles\"/>\n",
      "  <link href=\"/w/load.php?lang=en&amp;modules=site.styles&amp;only=styles&amp;skin=vector\" rel=\"stylesheet\"/>\n",
      "  <meta content=\"MediaWiki 1.35.0-wmf.36\" name=\"generator\"/>\n",
      "  <meta content=\"origin\" name=\"referrer\"/>\n",
      "  <meta content=\"origin-when-crossorigin\" name=\"referrer\"/>\n",
      "  <meta content=\"origin-when-cross-origin\" name=\"referrer\"/>\n",
      "  <link href=\"/w/index.php?title=List_of_Lagos_State_local_government_areas_by_population&amp;action=edit\" rel=\"alternate\" title=\"Edit this page\" type=\"application/x-wiki\"/>\n",
      "  <link href=\"/w/index.php?title=List_of_Lagos_State_local_government_areas_by_population&amp;action=edit\" rel=\"edit\" title=\"Edit this page\"/>\n",
      "  <link href=\"/static/apple-touch/wikipedia.png\" rel=\"apple-touch-icon\"/>\n",
      "  <link href=\"/static/favicon/wikipedia.ico\" rel=\"shortcut icon\"/>\n",
      "  <link href=\"/w/opensearch_desc.php\" rel=\"search\" title=\"Wikipedia (en)\" type=\"application/opensearchdescription+xml\"/>\n",
      "  <link href=\"//en.wikipedia.org/w/api.php?action=rsd\" rel=\"EditURI\" type=\"application/rsd+xml\"/>\n",
      "  <link href=\"//creativecommons.org/licenses/by-sa/3.0/\" rel=\"license\"/>\n",
      "  <link href=\"/w/index.php?title=Special:RecentChanges&amp;feed=atom\" rel=\"alternate\" title=\"Wikipedia Atom feed\" type=\"application/atom+xml\"/>\n",
      "  <link href=\"https://en.wikipedia.org/wiki/List_of_Lagos_State_local_government_areas_by_population\" rel=\"canonical\"/>\n",
      "  <link href=\"//login.wikimedia.org\" rel=\"dns-prefetch\"/>\n",
      "  <link href=\"//meta.wikimedia.org\" rel=\"dns-prefetch\"/>\n",
      "  <!--[if lt IE 9]><script src=\"/w/resources/lib/html5shiv/html5shiv.js\"></script><![endif]-->\n",
      " </head>\n",
      " <body class=\"mediawiki ltr sitedir-ltr mw-hide-empty-elt ns-0 ns-subject mw-editable page-List_of_Lagos_State_local_government_areas_by_population rootpage-List_of_Lagos_State_local_government_areas_by_population skin-vector action-view skin-vector-legacy\">\n",
      "  <div class=\"noprint\" id=\"mw-page-base\">\n",
      "  </div>\n",
      "  <div class=\"noprint\" id=\"mw-head-base\">\n",
      "  </div>\n",
      "  <div class=\"mw-body\" id=\"content\" role=\"main\">\n",
      "   <a id=\"top\">\n",
      "   </a>\n",
      "   <div class=\"mw-body-content\" id=\"siteNotice\">\n",
      "    <!-- CentralNotice -->\n",
      "   </div>\n",
      "   <div class=\"mw-indicators mw-body-content\">\n",
      "   </div>\n",
      "   <h1 class=\"firstHeading\" id=\"firstHeading\" lang=\"en\">\n",
      "    List of Lagos State local government areas by population\n",
      "   </h1>\n",
      "   <div class=\"mw-body-content\" id=\"bodyContent\">\n",
      "    <div class=\"noprint\" id=\"siteSub\">\n",
      "     From Wikipedia, the free encyclopedia\n",
      "    </div>\n",
      "    <div id=\"contentSub\">\n",
      "    </div>\n",
      "    <div id=\"jump-to-nav\">\n",
      "    </div>\n",
      "    <a class=\"mw-jump-link\" href=\"#mw-head\">\n",
      "     Jump to navigation\n",
      "    </a>\n",
      "    <a class=\"mw-jump-link\" href=\"#p-search\">\n",
      "     Jump to search\n",
      "    </a>\n",
      "    <div class=\"mw-content-ltr\" dir=\"ltr\" id=\"mw-content-text\" lang=\"en\">\n",
      "     <div class=\"mw-parser-output\">\n",
      "      <div class=\"shortdescription nomobile noexcerpt noprint searchaux\" style=\"display:none\">\n",
      "       Wikipedia list article\n",
      "      </div>\n",
      "      <table class=\"box-Update plainlinks metadata ambox ambox-content ambox-Update\" role=\"presentation\">\n",
      "       <tbody>\n",
      "        <tr>\n",
      "         <td class=\"mbox-image\">\n",
      "          <div style=\"width:52px\">\n",
      "           <img alt=\"Ambox current red Americas.svg\" data-file-height=\"290\" data-file-width=\"360\" decoding=\"async\" height=\"34\" src=\"//upload.wikimedia.org/wikipedia/commons/thumb/5/53/Ambox_current_red_Americas.svg/42px-Ambox_current_red_Americas.svg.png\" srcset=\"//upload.wikimedia.org/wikipedia/commons/thumb/5/53/Ambox_current_red_Americas.svg/63px-Ambox_current_red_Americas.svg.png 1.5x, //upload.wikimedia.org/wikipedia/commons/thumb/5/53/Ambox_current_red_Americas.svg/84px-Ambox_current_red_Americas.svg.png 2x\" width=\"42\"/>\n",
      "          </div>\n",
      "         </td>\n",
      "         <td class=\"mbox-text\">\n",
      "          <div class=\"mbox-text-span\">\n",
      "           This article needs to be\n",
      "           <b>\n",
      "            updated\n",
      "           </b>\n",
      "           .\n",
      "           <span class=\"hide-when-compact\">\n",
      "            Please update this article to reflect recent events or newly available information.\n",
      "           </span>\n",
      "           <small class=\"date-container\">\n",
      "            <i>\n",
      "             (\n",
      "             <span class=\"date\">\n",
      "              March 2015\n",
      "             </span>\n",
      "             )\n",
      "            </i>\n",
      "           </small>\n",
      "          </div>\n",
      "         </td>\n",
      "        </tr>\n",
      "       </tbody>\n",
      "      </table>\n",
      "      <table class=\"box-Unreferenced plainlinks metadata ambox ambox-content ambox-Unreferenced\" role=\"presentation\">\n",
      "       <tbody>\n",
      "        <tr>\n",
      "         <td class=\"mbox-image\">\n",
      "          <div style=\"width:52px\">\n",
      "           <a class=\"image\" href=\"/wiki/File:Question_book-new.svg\">\n",
      "            <img alt=\"\" data-file-height=\"399\" data-file-width=\"512\" decoding=\"async\" height=\"39\" src=\"//upload.wikimedia.org/wikipedia/en/thumb/9/99/Question_book-new.svg/50px-Question_book-new.svg.png\" srcset=\"//upload.wikimedia.org/wikipedia/en/thumb/9/99/Question_book-new.svg/75px-Question_book-new.svg.png 1.5x, //upload.wikimedia.org/wikipedia/en/thumb/9/99/Question_book-new.svg/100px-Question_book-new.svg.png 2x\" width=\"50\"/>\n",
      "           </a>\n",
      "          </div>\n",
      "         </td>\n",
      "         <td class=\"mbox-text\">\n",
      "          <div class=\"mbox-text-span\">\n",
      "           This article\n",
      "           <b>\n",
      "            does not\n",
      "            <a href=\"/wiki/Wikipedia:Citing_sources\" title=\"Wikipedia:Citing sources\">\n",
      "             cite\n",
      "            </a>\n",
      "            any\n",
      "            <a href=\"/wiki/Wikipedia:Verifiability\" title=\"Wikipedia:Verifiability\">\n",
      "             sources\n",
      "            </a>\n",
      "           </b>\n",
      "           .\n",
      "           <span class=\"hide-when-compact\">\n",
      "            Please help\n",
      "            <a class=\"external text\" href=\"https://en.wikipedia.org/w/index.php?title=List_of_Lagos_State_local_government_areas_by_population&amp;action=edit\">\n",
      "             improve this article\n",
      "            </a>\n",
      "            by\n",
      "            <a href=\"/wiki/Help:Referencing_for_beginners\" title=\"Help:Referencing for beginners\">\n",
      "             adding citations to reliable sources\n",
      "            </a>\n",
      "            . Unsourced material may be challenged and\n",
      "            <a href=\"/wiki/Wikipedia:Verifiability#Burden_of_evidence\" title=\"Wikipedia:Verifiability\">\n",
      "             removed\n",
      "            </a>\n",
      "            .\n",
      "            <br/>\n",
      "            <small>\n",
      "             <span class=\"plainlinks\">\n",
      "              <i>\n",
      "               Find sources:\n",
      "              </i>\n",
      "              <a class=\"external text\" href=\"//www.google.com/search?as_eq=wikipedia&amp;q=%22List+of+Lagos+State+local+government+areas+by+population%22\" rel=\"nofollow\">\n",
      "               \"List of Lagos State local government areas by population\"\n",
      "              </a>\n",
      "              –\n",
      "              <a class=\"external text\" href=\"//www.google.com/search?tbm=nws&amp;q=%22List+of+Lagos+State+local+government+areas+by+population%22+-wikipedia\" rel=\"nofollow\">\n",
      "               news\n",
      "              </a>\n",
      "              <b>\n",
      "               ·\n",
      "              </b>\n",
      "              <a class=\"external text\" href=\"//www.google.com/search?&amp;q=%22List+of+Lagos+State+local+government+areas+by+population%22+site:news.google.com/newspapers&amp;source=newspapers\" rel=\"nofollow\">\n",
      "               newspapers\n",
      "              </a>\n",
      "              <b>\n",
      "               ·\n",
      "              </b>\n",
      "              <a class=\"external text\" href=\"//www.google.com/search?tbs=bks:1&amp;q=%22List+of+Lagos+State+local+government+areas+by+population%22+-wikipedia\" rel=\"nofollow\">\n",
      "               books\n",
      "              </a>\n",
      "              <b>\n",
      "               ·\n",
      "              </b>\n",
      "              <a class=\"external text\" href=\"//scholar.google.com/scholar?q=%22List+of+Lagos+State+local+government+areas+by+population%22\" rel=\"nofollow\">\n",
      "               scholar\n",
      "              </a>\n",
      "              <b>\n",
      "               ·\n",
      "              </b>\n",
      "              <a class=\"external text\" href=\"https://www.jstor.org/action/doBasicSearch?Query=%22List+of+Lagos+State+local+government+areas+by+population%22&amp;acc=on&amp;wc=on\" rel=\"nofollow\">\n",
      "               JSTOR\n",
      "              </a>\n",
      "             </span>\n",
      "            </small>\n",
      "           </span>\n",
      "           <small class=\"date-container\">\n",
      "            <i>\n",
      "             (\n",
      "             <span class=\"date\">\n",
      "              June 2015\n",
      "             </span>\n",
      "             )\n",
      "            </i>\n",
      "           </small>\n",
      "           <small class=\"hide-when-compact\">\n",
      "            <i>\n",
      "             (\n",
      "             <a href=\"/wiki/Help:Maintenance_template_removal\" title=\"Help:Maintenance template removal\">\n",
      "              Learn how and when to remove this template message\n",
      "             </a>\n",
      "             )\n",
      "            </i>\n",
      "           </small>\n",
      "          </div>\n",
      "         </td>\n",
      "        </tr>\n",
      "       </tbody>\n",
      "      </table>\n",
      "      <table border=\"1\" cellpadding=\"4\" cellspacing=\"0\" style=\"margin: 1em 1em 1em 0; background: #f9f9f9; border: 1px #aaa solid; border-collapse: collapse; font-size: 95%;\">\n",
      "       <tbody>\n",
      "        <tr bgcolor=\"#e8e8e8\">\n",
      "         <th align=\"left\" scope=\"col\">\n",
      "          Rank\n",
      "         </th>\n",
      "         <th align=\"left\" scope=\"col\">\n",
      "          LGA\n",
      "         </th>\n",
      "         <th scope=\"col\">\n",
      "          Population\n",
      "         </th>\n",
      "        </tr>\n",
      "        <tr>\n",
      "         <td align=\"left\">\n",
      "          1\n",
      "         </td>\n",
      "         <td align=\"left\">\n",
      "          <a href=\"/wiki/Alimosho\" title=\"Alimosho\">\n",
      "           Alimosho\n",
      "          </a>\n",
      "         </td>\n",
      "         <td align=\"center\">\n",
      "          11,456,783\n",
      "         </td>\n",
      "        </tr>\n",
      "        <tr>\n",
      "         <td align=\"left\">\n",
      "          2\n",
      "         </td>\n",
      "         <td align=\"left\">\n",
      "          <a href=\"/wiki/Ajeromi-Ifelodun\" title=\"Ajeromi-Ifelodun\">\n",
      "           Ajeromi-Ifelodun\n",
      "          </a>\n",
      "         </td>\n",
      "         <td align=\"center\">\n",
      "          2,000,346\n",
      "         </td>\n",
      "        </tr>\n",
      "        <tr>\n",
      "         <td align=\"left\">\n",
      "          3\n",
      "         </td>\n",
      "         <td align=\"left\">\n",
      "          <a href=\"/wiki/Kosofe\" title=\"Kosofe\">\n",
      "           Kosofe\n",
      "          </a>\n",
      "         </td>\n",
      "         <td align=\"center\">\n",
      "          665,421\n",
      "         </td>\n",
      "        </tr>\n",
      "        <tr>\n",
      "         <td align=\"left\">\n",
      "          4\n",
      "         </td>\n",
      "         <td align=\"left\">\n",
      "          <a href=\"/wiki/Mushin,_Lagos\" title=\"Mushin, Lagos\">\n",
      "           Mushin\n",
      "          </a>\n",
      "         </td>\n",
      "         <td align=\"center\">\n",
      "          633,543\n",
      "         </td>\n",
      "        </tr>\n",
      "        <tr>\n",
      "         <td align=\"left\">\n",
      "          5\n",
      "         </td>\n",
      "         <td align=\"left\">\n",
      "          <a href=\"/wiki/Oshodi-Isolo\" title=\"Oshodi-Isolo\">\n",
      "           Oshodi-Isolo\n",
      "          </a>\n",
      "         </td>\n",
      "         <td align=\"center\">\n",
      "          10,621,789\n",
      "         </td>\n",
      "        </tr>\n",
      "        <tr>\n",
      "         <td align=\"left\">\n",
      "          6\n",
      "         </td>\n",
      "         <td align=\"left\">\n",
      "          <a class=\"mw-redirect\" href=\"/wiki/Ojo,_Lagos_State\" title=\"Ojo, Lagos State\">\n",
      "           Ojo\n",
      "          </a>\n",
      "         </td>\n",
      "         <td align=\"center\">\n",
      "          598,336\n",
      "         </td>\n",
      "        </tr>\n",
      "        <tr>\n",
      "         <td align=\"left\">\n",
      "          7\n",
      "         </td>\n",
      "         <td align=\"left\">\n",
      "          <a href=\"/wiki/Ikorodu\" title=\"Ikorodu\">\n",
      "           Ikorodu\n",
      "          </a>\n",
      "         </td>\n",
      "         <td align=\"center\">\n",
      "          535,811\n",
      "         </td>\n",
      "        </tr>\n",
      "        <tr>\n",
      "         <td align=\"left\">\n",
      "          8\n",
      "         </td>\n",
      "         <td align=\"left\">\n",
      "          <a href=\"/wiki/Surulere\" title=\"Surulere\">\n",
      "           Surulere\n",
      "          </a>\n",
      "         </td>\n",
      "         <td align=\"center\">\n",
      "          504,409\n",
      "         </td>\n",
      "        </tr>\n",
      "        <tr>\n",
      "         <td align=\"left\">\n",
      "          9\n",
      "         </td>\n",
      "         <td align=\"left\">\n",
      "          <a href=\"/wiki/Agege\" title=\"Agege\">\n",
      "           Agege\n",
      "          </a>\n",
      "         </td>\n",
      "         <td align=\"center\">\n",
      "          461,123\n",
      "         </td>\n",
      "        </tr>\n",
      "        <tr>\n",
      "         <td align=\"left\">\n",
      "          10\n",
      "         </td>\n",
      "         <td align=\"left\">\n",
      "          <a href=\"/wiki/Ifako-Ijaiye\" title=\"Ifako-Ijaiye\">\n",
      "           Ifako-Ijaiye\n",
      "          </a>\n",
      "         </td>\n",
      "         <td align=\"center\">\n",
      "          428,812\n",
      "         </td>\n",
      "        </tr>\n",
      "        <tr>\n",
      "         <td align=\"left\">\n",
      "          11\n",
      "         </td>\n",
      "         <td align=\"left\">\n",
      "          <a class=\"mw-redirect\" href=\"/wiki/Shomolu\" title=\"Shomolu\">\n",
      "           Somolu\n",
      "          </a>\n",
      "         </td>\n",
      "         <td align=\"center\">\n",
      "          402,992\n",
      "         </td>\n",
      "        </tr>\n",
      "        <tr>\n",
      "         <td align=\"left\">\n",
      "          12\n",
      "         </td>\n",
      "         <td align=\"left\">\n",
      "          <a href=\"/wiki/Amuwo-Odofin\" title=\"Amuwo-Odofin\">\n",
      "           Amuwo-Odofin\n",
      "          </a>\n",
      "         </td>\n",
      "         <td align=\"center\">\n",
      "          318,576\n",
      "         </td>\n",
      "        </tr>\n",
      "        <tr>\n",
      "         <td align=\"left\">\n",
      "          13\n",
      "         </td>\n",
      "         <td align=\"left\">\n",
      "          <a href=\"/wiki/Lagos_Mainland\" title=\"Lagos Mainland\">\n",
      "           Lagos Mainland\n",
      "          </a>\n",
      "         </td>\n",
      "         <td align=\"center\">\n",
      "          317,980\n",
      "         </td>\n",
      "        </tr>\n",
      "        <tr>\n",
      "         <td align=\"left\">\n",
      "          14\n",
      "         </td>\n",
      "         <td align=\"left\">\n",
      "          <a href=\"/wiki/Ikeja\" title=\"Ikeja\">\n",
      "           Ikeja\n",
      "          </a>\n",
      "         </td>\n",
      "         <td align=\"center\">\n",
      "          313,333\n",
      "         </td>\n",
      "        </tr>\n",
      "        <tr>\n",
      "         <td align=\"left\">\n",
      "          15\n",
      "         </td>\n",
      "         <td align=\"left\">\n",
      "          <a href=\"/wiki/Eti-Osa\" title=\"Eti-Osa\">\n",
      "           Eti-Osa\n",
      "          </a>\n",
      "         </td>\n",
      "         <td align=\"center\">\n",
      "          287,958\n",
      "         </td>\n",
      "        </tr>\n",
      "        <tr>\n",
      "         <td align=\"left\">\n",
      "          16\n",
      "         </td>\n",
      "         <td align=\"left\">\n",
      "          <a href=\"/wiki/Badagry\" title=\"Badagry\">\n",
      "           Badagry\n",
      "          </a>\n",
      "         </td>\n",
      "         <td align=\"center\">\n",
      "          241,437\n",
      "         </td>\n",
      "        </tr>\n",
      "        <tr>\n",
      "         <td align=\"left\">\n",
      "          17\n",
      "         </td>\n",
      "         <td align=\"left\">\n",
      "          <a href=\"/wiki/Apapa\" title=\"Apapa\">\n",
      "           Apapa\n",
      "          </a>\n",
      "         </td>\n",
      "         <td align=\"center\">\n",
      "          217,661\n",
      "         </td>\n",
      "        </tr>\n",
      "        <tr>\n",
      "         <td align=\"left\">\n",
      "          18\n",
      "         </td>\n",
      "         <td align=\"left\">\n",
      "          <a href=\"/wiki/Lagos_Island\" title=\"Lagos Island\">\n",
      "           Lagos Island\n",
      "          </a>\n",
      "         </td>\n",
      "         <td align=\"center\">\n",
      "          209,665\n",
      "         </td>\n",
      "        </tr>\n",
      "        <tr>\n",
      "         <td align=\"left\">\n",
      "          19\n",
      "         </td>\n",
      "         <td align=\"left\">\n",
      "          <a class=\"mw-redirect\" href=\"/wiki/Epe,_Lagos_State\" title=\"Epe, Lagos State\">\n",
      "           Epe\n",
      "          </a>\n",
      "         </td>\n",
      "         <td align=\"center\">\n",
      "          181,715\n",
      "         </td>\n",
      "        </tr>\n",
      "        <tr>\n",
      "         <td align=\"left\">\n",
      "          20\n",
      "         </td>\n",
      "         <td align=\"left\">\n",
      "          <a href=\"/wiki/Ibeju-Lekki\" title=\"Ibeju-Lekki\">\n",
      "           Ibeju-Lekki\n",
      "          </a>\n",
      "         </td>\n",
      "         <td align=\"center\">\n",
      "          117,542\n",
      "         </td>\n",
      "        </tr>\n",
      "        <tr>\n",
      "         <td align=\"left\">\n",
      "         </td>\n",
      "         <td align=\"left\">\n",
      "          <b>\n",
      "           <a href=\"/wiki/Lagos_State\" title=\"Lagos State\">\n",
      "            Lagos State\n",
      "           </a>\n",
      "          </b>\n",
      "         </td>\n",
      "         <td align=\"center\">\n",
      "          <b>\n",
      "           16,506,023\n",
      "          </b>\n",
      "          <sup class=\"noprint Inline-Template\" style=\"margin-left:0.1em; white-space:nowrap;\">\n",
      "           [\n",
      "           <i>\n",
      "            <a href=\"/wiki/Wikipedia:Please_clarify\" title=\"Wikipedia:Please clarify\">\n",
      "             <span title=\"less than total of the 20 LGAs (April 2020)\">\n",
      "              clarification needed\n",
      "             </span>\n",
      "            </a>\n",
      "           </i>\n",
      "           ]\n",
      "          </sup>\n",
      "         </td>\n",
      "        </tr>\n",
      "       </tbody>\n",
      "      </table>\n",
      "      <!-- \n",
      "NewPP limit report\n",
      "Parsed by mw1331\n",
      "Cached time: 20200614191751\n",
      "Cache expiry: 2592000\n",
      "Dynamic content: false\n",
      "Complications: []\n",
      "CPU time usage: 0.132 seconds\n",
      "Real time usage: 0.225 seconds\n",
      "Preprocessor visited node count: 401/1000000\n",
      "Post‐expand include size: 16355/2097152 bytes\n",
      "Template argument size: 1337/2097152 bytes\n",
      "Highest expansion depth: 13/40\n",
      "Expensive parser function count: 3/500\n",
      "Unstrip recursion depth: 0/20\n",
      "Unstrip post‐expand size: 0/5000000 bytes\n",
      "Number of Wikibase entities loaded: 0/400\n",
      "Lua time usage: 0.060/10.000 seconds\n",
      "Lua memory usage: 2 MB/50 MB\n",
      "-->\n",
      "      <!--\n",
      "Transclusion expansion time report (%,ms,calls,template)\n",
      "100.00%  200.493      1 -total\n",
      " 43.33%   86.865      2 Template:Ambox\n",
      " 27.78%   55.690      1 Template:Outdated\n",
      " 27.39%   54.912      1 Template:Short_description\n",
      " 25.39%   50.902      1 Template:Unsourced\n",
      " 24.03%   48.173      2 Template:Main_other\n",
      " 19.23%   38.554      1 Template:Clarification_needed\n",
      " 19.21%   38.506      1 Template:Pagetype\n",
      " 19.09%   38.270      1 Template:Find_sources_mainspace\n",
      " 16.06%   32.208      1 Template:Fix-span\n",
      "-->\n",
      "      <!-- Saved in parser cache with key enwiki:pcache:idhash:35585260-0!canonical and timestamp 20200614191751 and revision id 960244447\n",
      " -->\n",
      "     </div>\n",
      "     <noscript>\n",
      "      <img alt=\"\" height=\"1\" src=\"//en.wikipedia.org/wiki/Special:CentralAutoLogin/start?type=1x1\" style=\"border: none; position: absolute;\" title=\"\" width=\"1\"/>\n",
      "     </noscript>\n",
      "    </div>\n",
      "    <div class=\"printfooter\">\n",
      "     Retrieved from \"\n",
      "     <a dir=\"ltr\" href=\"https://en.wikipedia.org/w/index.php?title=List_of_Lagos_State_local_government_areas_by_population&amp;oldid=960244447\">\n",
      "      https://en.wikipedia.org/w/index.php?title=List_of_Lagos_State_local_government_areas_by_population&amp;oldid=960244447\n",
      "     </a>\n",
      "     \"\n",
      "    </div>\n",
      "    <div class=\"catlinks\" data-mw=\"interface\" id=\"catlinks\">\n",
      "     <div class=\"mw-normal-catlinks\" id=\"mw-normal-catlinks\">\n",
      "      <a href=\"/wiki/Help:Category\" title=\"Help:Category\">\n",
      "       Categories\n",
      "      </a>\n",
      "      :\n",
      "      <ul>\n",
      "       <li>\n",
      "        <a href=\"/wiki/Category:Local_Government_Areas_in_Lagos_State\" title=\"Category:Local Government Areas in Lagos State\">\n",
      "         Local Government Areas in Lagos State\n",
      "        </a>\n",
      "       </li>\n",
      "       <li>\n",
      "        <a href=\"/wiki/Category:Nigeria_geography-related_lists\" title=\"Category:Nigeria geography-related lists\">\n",
      "         Nigeria geography-related lists\n",
      "        </a>\n",
      "       </li>\n",
      "       <li>\n",
      "        <a href=\"/wiki/Category:Lists_by_population\" title=\"Category:Lists by population\">\n",
      "         Lists by population\n",
      "        </a>\n",
      "       </li>\n",
      "      </ul>\n",
      "     </div>\n",
      "     <div class=\"mw-hidden-catlinks mw-hidden-cats-hidden\" id=\"mw-hidden-catlinks\">\n",
      "      Hidden categories:\n",
      "      <ul>\n",
      "       <li>\n",
      "        <a href=\"/wiki/Category:Articles_with_short_description\" title=\"Category:Articles with short description\">\n",
      "         Articles with short description\n",
      "        </a>\n",
      "       </li>\n",
      "       <li>\n",
      "        <a href=\"/wiki/Category:Wikipedia_articles_in_need_of_updating_from_March_2015\" title=\"Category:Wikipedia articles in need of updating from March 2015\">\n",
      "         Wikipedia articles in need of updating from March 2015\n",
      "        </a>\n",
      "       </li>\n",
      "       <li>\n",
      "        <a href=\"/wiki/Category:All_Wikipedia_articles_in_need_of_updating\" title=\"Category:All Wikipedia articles in need of updating\">\n",
      "         All Wikipedia articles in need of updating\n",
      "        </a>\n",
      "       </li>\n",
      "       <li>\n",
      "        <a href=\"/wiki/Category:Articles_lacking_sources_from_June_2015\" title=\"Category:Articles lacking sources from June 2015\">\n",
      "         Articles lacking sources from June 2015\n",
      "        </a>\n",
      "       </li>\n",
      "       <li>\n",
      "        <a href=\"/wiki/Category:All_articles_lacking_sources\" title=\"Category:All articles lacking sources\">\n",
      "         All articles lacking sources\n",
      "        </a>\n",
      "       </li>\n",
      "       <li>\n",
      "        <a href=\"/wiki/Category:Wikipedia_articles_needing_clarification_from_April_2020\" title=\"Category:Wikipedia articles needing clarification from April 2020\">\n",
      "         Wikipedia articles needing clarification from April 2020\n",
      "        </a>\n",
      "       </li>\n",
      "      </ul>\n",
      "     </div>\n",
      "    </div>\n",
      "    <div class=\"visualClear\">\n",
      "    </div>\n",
      "   </div>\n",
      "  </div>\n",
      "  <div id=\"mw-data-after-content\">\n",
      "   <div class=\"read-more-container\">\n",
      "   </div>\n",
      "  </div>\n",
      "  <div id=\"mw-navigation\">\n",
      "   <h2>\n",
      "    Navigation menu\n",
      "   </h2>\n",
      "   <div id=\"mw-head\">\n",
      "    <div aria-labelledby=\"p-personal-label\" class=\"vector-menu\" id=\"p-personal\">\n",
      "     <h3 id=\"p-personal-label\">\n",
      "      <span>\n",
      "       Personal tools\n",
      "      </span>\n",
      "     </h3>\n",
      "     <!-- Please do not use the .body class, it is deprecated. -->\n",
      "     <div class=\"body vector-menu-content\">\n",
      "      <!-- Please do not use the .menu class, it is deprecated. -->\n",
      "      <ul class=\"vector-menu-content-list\">\n",
      "       <li id=\"pt-anonuserpage\">\n",
      "        Not logged in\n",
      "       </li>\n",
      "       <li id=\"pt-anontalk\">\n",
      "        <a accesskey=\"n\" href=\"/wiki/Special:MyTalk\" title=\"Discussion about edits from this IP address [n]\">\n",
      "         Talk\n",
      "        </a>\n",
      "       </li>\n",
      "       <li id=\"pt-anoncontribs\">\n",
      "        <a accesskey=\"y\" href=\"/wiki/Special:MyContributions\" title=\"A list of edits made from this IP address [y]\">\n",
      "         Contributions\n",
      "        </a>\n",
      "       </li>\n",
      "       <li id=\"pt-createaccount\">\n",
      "        <a href=\"/w/index.php?title=Special:CreateAccount&amp;returnto=List+of+Lagos+State+local+government+areas+by+population\" title=\"You are encouraged to create an account and log in; however, it is not mandatory\">\n",
      "         Create account\n",
      "        </a>\n",
      "       </li>\n",
      "       <li id=\"pt-login\">\n",
      "        <a accesskey=\"o\" href=\"/w/index.php?title=Special:UserLogin&amp;returnto=List+of+Lagos+State+local+government+areas+by+population\" title=\"You're encouraged to log in; however, it's not mandatory. [o]\">\n",
      "         Log in\n",
      "        </a>\n",
      "       </li>\n",
      "      </ul>\n",
      "     </div>\n",
      "    </div>\n",
      "    <div id=\"left-navigation\">\n",
      "     <div aria-labelledby=\"p-namespaces-label\" class=\"vector-menu vector-menu-tabs vectorTabs\" id=\"p-namespaces\">\n",
      "      <h3 id=\"p-namespaces-label\">\n",
      "       <span>\n",
      "        Namespaces\n",
      "       </span>\n",
      "      </h3>\n",
      "      <!-- Please do not use the .body class, it is deprecated. -->\n",
      "      <div class=\"body vector-menu-content\">\n",
      "       <!-- Please do not use the .menu class, it is deprecated. -->\n",
      "       <ul class=\"vector-menu-content-list\">\n",
      "        <li class=\"selected\" id=\"ca-nstab-main\">\n",
      "         <a accesskey=\"c\" href=\"/wiki/List_of_Lagos_State_local_government_areas_by_population\" title=\"View the content page [c]\">\n",
      "          Article\n",
      "         </a>\n",
      "        </li>\n",
      "        <li id=\"ca-talk\">\n",
      "         <a accesskey=\"t\" href=\"/wiki/Talk:List_of_Lagos_State_local_government_areas_by_population\" rel=\"discussion\" title=\"Discuss improvements to the content page [t]\">\n",
      "          Talk\n",
      "         </a>\n",
      "        </li>\n",
      "       </ul>\n",
      "      </div>\n",
      "     </div>\n",
      "     <div aria-labelledby=\"p-variants-label\" class=\"vector-menu-empty emptyPortlet vector-menu vector-menu-dropdown vectorMenu\" id=\"p-variants\">\n",
      "      <input aria-labelledby=\"p-variants-label\" class=\"vectorMenuCheckbox vector-menu-checkbox\" type=\"checkbox\"/>\n",
      "      <h3 id=\"p-variants-label\">\n",
      "       <span>\n",
      "        Variants\n",
      "       </span>\n",
      "      </h3>\n",
      "      <!-- Please do not use the .body class, it is deprecated. -->\n",
      "      <div class=\"body vector-menu-content\">\n",
      "       <!-- Please do not use the .menu class, it is deprecated. -->\n",
      "       <ul class=\"menu vector-menu-content-list\">\n",
      "       </ul>\n",
      "      </div>\n",
      "     </div>\n",
      "    </div>\n",
      "    <div id=\"right-navigation\">\n",
      "     <div aria-labelledby=\"p-views-label\" class=\"vector-menu vector-menu-tabs vectorTabs\" id=\"p-views\">\n",
      "      <h3 id=\"p-views-label\">\n",
      "       <span>\n",
      "        Views\n",
      "       </span>\n",
      "      </h3>\n",
      "      <!-- Please do not use the .body class, it is deprecated. -->\n",
      "      <div class=\"body vector-menu-content\">\n",
      "       <!-- Please do not use the .menu class, it is deprecated. -->\n",
      "       <ul class=\"vector-menu-content-list\">\n",
      "        <li class=\"collapsible selected\" id=\"ca-view\">\n",
      "         <a href=\"/wiki/List_of_Lagos_State_local_government_areas_by_population\">\n",
      "          Read\n",
      "         </a>\n",
      "        </li>\n",
      "        <li class=\"collapsible\" id=\"ca-edit\">\n",
      "         <a accesskey=\"e\" href=\"/w/index.php?title=List_of_Lagos_State_local_government_areas_by_population&amp;action=edit\" title=\"Edit this page [e]\">\n",
      "          Edit\n",
      "         </a>\n",
      "        </li>\n",
      "        <li class=\"collapsible\" id=\"ca-history\">\n",
      "         <a accesskey=\"h\" href=\"/w/index.php?title=List_of_Lagos_State_local_government_areas_by_population&amp;action=history\" title=\"Past revisions of this page [h]\">\n",
      "          View history\n",
      "         </a>\n",
      "        </li>\n",
      "       </ul>\n",
      "      </div>\n",
      "     </div>\n",
      "     <div aria-labelledby=\"p-cactions-label\" class=\"vector-menu-empty emptyPortlet vector-menu vector-menu-dropdown vectorMenu\" id=\"p-cactions\">\n",
      "      <input aria-labelledby=\"p-cactions-label\" class=\"vectorMenuCheckbox vector-menu-checkbox\" type=\"checkbox\"/>\n",
      "      <h3 id=\"p-cactions-label\">\n",
      "       <span>\n",
      "        More\n",
      "       </span>\n",
      "      </h3>\n",
      "      <!-- Please do not use the .body class, it is deprecated. -->\n",
      "      <div class=\"body vector-menu-content\">\n",
      "       <!-- Please do not use the .menu class, it is deprecated. -->\n",
      "       <ul class=\"menu vector-menu-content-list\">\n",
      "       </ul>\n",
      "      </div>\n",
      "     </div>\n",
      "     <div id=\"p-search\" role=\"search\">\n",
      "      <h3>\n",
      "       <label for=\"searchInput\">\n",
      "        Search\n",
      "       </label>\n",
      "      </h3>\n",
      "      <form action=\"/w/index.php\" id=\"searchform\">\n",
      "       <div id=\"simpleSearch\">\n",
      "        <input accesskey=\"f\" id=\"searchInput\" name=\"search\" placeholder=\"Search Wikipedia\" title=\"Search Wikipedia [f]\" type=\"search\"/>\n",
      "        <input name=\"title\" type=\"hidden\" value=\"Special:Search\"/>\n",
      "        <input class=\"searchButton mw-fallbackSearchButton\" id=\"mw-searchButton\" name=\"fulltext\" title=\"Search Wikipedia for this text\" type=\"submit\" value=\"Search\"/>\n",
      "        <input class=\"searchButton\" id=\"searchButton\" name=\"go\" title=\"Go to a page with this exact name if it exists\" type=\"submit\" value=\"Go\"/>\n",
      "       </div>\n",
      "      </form>\n",
      "     </div>\n",
      "    </div>\n",
      "   </div>\n",
      "   <div id=\"mw-panel\">\n",
      "    <div id=\"p-logo\" role=\"banner\">\n",
      "     <a class=\"mw-wiki-logo\" href=\"/wiki/Main_Page\" title=\"Visit the main page\">\n",
      "     </a>\n",
      "    </div>\n",
      "    <div aria-labelledby=\"p-navigation-label\" class=\"vector-menu vector-menu-portal portal portal-first\" id=\"p-navigation\">\n",
      "     <h3 id=\"p-navigation-label\">\n",
      "      <span>\n",
      "       Navigation\n",
      "      </span>\n",
      "     </h3>\n",
      "     <!-- Please do not use the .body class, it is deprecated. -->\n",
      "     <div class=\"body vector-menu-content\">\n",
      "      <!-- Please do not use the .menu class, it is deprecated. -->\n",
      "      <ul class=\"vector-menu-content-list\">\n",
      "       <li id=\"n-mainpage-description\">\n",
      "        <a accesskey=\"z\" href=\"/wiki/Main_Page\" title=\"Visit the main page [z]\">\n",
      "         Main page\n",
      "        </a>\n",
      "       </li>\n",
      "       <li id=\"n-contents\">\n",
      "        <a href=\"/wiki/Wikipedia:Contents\" title=\"Guides to browsing Wikipedia\">\n",
      "         Contents\n",
      "        </a>\n",
      "       </li>\n",
      "       <li id=\"n-currentevents\">\n",
      "        <a href=\"/wiki/Portal:Current_events\" title=\"Find background information on current events\">\n",
      "         Current events\n",
      "        </a>\n",
      "       </li>\n",
      "       <li id=\"n-randompage\">\n",
      "        <a accesskey=\"x\" href=\"/wiki/Special:Random\" title=\"Visit a randomly selected article [x]\">\n",
      "         Random article\n",
      "        </a>\n",
      "       </li>\n",
      "       <li id=\"n-aboutsite\">\n",
      "        <a href=\"/wiki/Wikipedia:About\" title=\"Learn about Wikipedia and how it works\">\n",
      "         About Wikipedia\n",
      "        </a>\n",
      "       </li>\n",
      "       <li id=\"n-contactpage\">\n",
      "        <a href=\"//en.wikipedia.org/wiki/Wikipedia:Contact_us\" title=\"How to contact Wikipedia\">\n",
      "         Contact us\n",
      "        </a>\n",
      "       </li>\n",
      "       <li id=\"n-sitesupport\">\n",
      "        <a href=\"https://donate.wikimedia.org/wiki/Special:FundraiserRedirector?utm_source=donate&amp;utm_medium=sidebar&amp;utm_campaign=C13_en.wikipedia.org&amp;uselang=en\" title=\"Support us by donating to the Wikimedia Foundation\">\n",
      "         Donate\n",
      "        </a>\n",
      "       </li>\n",
      "       <li id=\"n-shoplink\">\n",
      "        <a href=\"//shop.wikimedia.org\" title=\"Visit the Wikipedia store\">\n",
      "         Wikipedia store\n",
      "        </a>\n",
      "       </li>\n",
      "      </ul>\n",
      "     </div>\n",
      "    </div>\n",
      "    <div aria-labelledby=\"p-interaction-label\" class=\"vector-menu vector-menu-portal portal\" id=\"p-interaction\">\n",
      "     <h3 id=\"p-interaction-label\">\n",
      "      <span>\n",
      "       Contribute\n",
      "      </span>\n",
      "     </h3>\n",
      "     <!-- Please do not use the .body class, it is deprecated. -->\n",
      "     <div class=\"body vector-menu-content\">\n",
      "      <!-- Please do not use the .menu class, it is deprecated. -->\n",
      "      <ul class=\"vector-menu-content-list\">\n",
      "       <li id=\"n-help\">\n",
      "        <a href=\"/wiki/Help:Contents\" title=\"Guidance on how to use and edit Wikipedia\">\n",
      "         Help\n",
      "        </a>\n",
      "       </li>\n",
      "       <li id=\"n-portal\">\n",
      "        <a href=\"/wiki/Wikipedia:Community_portal\" title=\"About the project, what you can do, where to find things\">\n",
      "         Community portal\n",
      "        </a>\n",
      "       </li>\n",
      "       <li id=\"n-recentchanges\">\n",
      "        <a accesskey=\"r\" href=\"/wiki/Special:RecentChanges\" title=\"A list of recent changes to Wikipedia [r]\">\n",
      "         Recent changes\n",
      "        </a>\n",
      "       </li>\n",
      "       <li id=\"n-upload\">\n",
      "        <a href=\"/wiki/Wikipedia:File_Upload_Wizard\" title=\"Add images or other media for use on Wikipedia\">\n",
      "         Upload file\n",
      "        </a>\n",
      "       </li>\n",
      "      </ul>\n",
      "     </div>\n",
      "    </div>\n",
      "    <div aria-labelledby=\"p-tb-label\" class=\"vector-menu vector-menu-portal portal\" id=\"p-tb\">\n",
      "     <h3 id=\"p-tb-label\">\n",
      "      <span>\n",
      "       Tools\n",
      "      </span>\n",
      "     </h3>\n",
      "     <!-- Please do not use the .body class, it is deprecated. -->\n",
      "     <div class=\"body vector-menu-content\">\n",
      "      <!-- Please do not use the .menu class, it is deprecated. -->\n",
      "      <ul class=\"vector-menu-content-list\">\n",
      "       <li id=\"t-whatlinkshere\">\n",
      "        <a accesskey=\"j\" href=\"/wiki/Special:WhatLinksHere/List_of_Lagos_State_local_government_areas_by_population\" title=\"List of all English Wikipedia pages containing links to this page [j]\">\n",
      "         What links here\n",
      "        </a>\n",
      "       </li>\n",
      "       <li id=\"t-recentchangeslinked\">\n",
      "        <a accesskey=\"k\" href=\"/wiki/Special:RecentChangesLinked/List_of_Lagos_State_local_government_areas_by_population\" rel=\"nofollow\" title=\"Recent changes in pages linked from this page [k]\">\n",
      "         Related changes\n",
      "        </a>\n",
      "       </li>\n",
      "       <li id=\"t-upload\">\n",
      "        <a accesskey=\"u\" href=\"/wiki/Wikipedia:File_Upload_Wizard\" title=\"Upload files [u]\">\n",
      "         Upload file\n",
      "        </a>\n",
      "       </li>\n",
      "       <li id=\"t-specialpages\">\n",
      "        <a accesskey=\"q\" href=\"/wiki/Special:SpecialPages\" title=\"A list of all special pages [q]\">\n",
      "         Special pages\n",
      "        </a>\n",
      "       </li>\n",
      "       <li id=\"t-permalink\">\n",
      "        <a href=\"/w/index.php?title=List_of_Lagos_State_local_government_areas_by_population&amp;oldid=960244447\" title=\"Permanent link to this revision of this page\">\n",
      "         Permanent link\n",
      "        </a>\n",
      "       </li>\n",
      "       <li id=\"t-info\">\n",
      "        <a href=\"/w/index.php?title=List_of_Lagos_State_local_government_areas_by_population&amp;action=info\" title=\"More information about this page\">\n",
      "         Page information\n",
      "        </a>\n",
      "       </li>\n",
      "       <li id=\"t-wikibase\">\n",
      "        <a accesskey=\"g\" href=\"https://www.wikidata.org/wiki/Special:EntityPage/Q6576379\" title=\"Structured data on this page hosted by Wikidata [g]\">\n",
      "         Wikidata item\n",
      "        </a>\n",
      "       </li>\n",
      "       <li id=\"t-cite\">\n",
      "        <a href=\"/w/index.php?title=Special:CiteThisPage&amp;page=List_of_Lagos_State_local_government_areas_by_population&amp;id=960244447&amp;wpFormIdentifier=titleform\" title=\"Information on how to cite this page\">\n",
      "         Cite this page\n",
      "        </a>\n",
      "       </li>\n",
      "      </ul>\n",
      "     </div>\n",
      "    </div>\n",
      "    <div aria-labelledby=\"p-lang-label\" class=\"vector-menu vector-menu-portal portal\" id=\"p-lang\">\n",
      "     <h3 id=\"p-lang-label\">\n",
      "      <span>\n",
      "       Languages\n",
      "      </span>\n",
      "     </h3>\n",
      "     <!-- Please do not use the .body class, it is deprecated. -->\n",
      "     <div class=\"body vector-menu-content\">\n",
      "      <!-- Please do not use the .menu class, it is deprecated. -->\n",
      "      <ul class=\"vector-menu-content-list\">\n",
      "      </ul>\n",
      "      <div class=\"after-portlet after-portlet-lang\">\n",
      "       <span class=\"wb-langlinks-add wb-langlinks-link\">\n",
      "        <a class=\"wbc-editpage\" href=\"https://www.wikidata.org/wiki/Special:EntityPage/Q6576379#sitelinks-wikipedia\" title=\"Add interlanguage links\">\n",
      "         Add links\n",
      "        </a>\n",
      "       </span>\n",
      "      </div>\n",
      "     </div>\n",
      "    </div>\n",
      "    <div aria-labelledby=\"p-coll-print_export-label\" class=\"vector-menu vector-menu-portal portal\" id=\"p-coll-print_export\">\n",
      "     <h3 id=\"p-coll-print_export-label\">\n",
      "      <span>\n",
      "       Print/export\n",
      "      </span>\n",
      "     </h3>\n",
      "     <!-- Please do not use the .body class, it is deprecated. -->\n",
      "     <div class=\"body vector-menu-content\">\n",
      "      <!-- Please do not use the .menu class, it is deprecated. -->\n",
      "      <ul class=\"vector-menu-content-list\">\n",
      "       <li id=\"coll-download-as-rl\">\n",
      "        <a href=\"/w/index.php?title=Special:ElectronPdf&amp;page=List+of+Lagos+State+local+government+areas+by+population&amp;action=show-download-screen\" title=\"Download this page as a PDF file\">\n",
      "         Download as PDF\n",
      "        </a>\n",
      "       </li>\n",
      "       <li id=\"t-print\">\n",
      "        <a accesskey=\"p\" href=\"/w/index.php?title=List_of_Lagos_State_local_government_areas_by_population&amp;printable=yes\" title=\"Printable version of this page [p]\">\n",
      "         Printable version\n",
      "        </a>\n",
      "       </li>\n",
      "      </ul>\n",
      "     </div>\n",
      "    </div>\n",
      "   </div>\n",
      "  </div>\n",
      "  <div class=\"mw-footer\" id=\"footer\" role=\"contentinfo\">\n",
      "   <ul id=\"footer-info\">\n",
      "    <li id=\"footer-info-lastmod\">\n",
      "     This page was last edited on 1 June 2020, at 22:22\n",
      "     <span class=\"anonymous-show\">\n",
      "      (UTC)\n",
      "     </span>\n",
      "     .\n",
      "    </li>\n",
      "    <li id=\"footer-info-copyright\">\n",
      "     Text is available under the\n",
      "     <a href=\"//en.wikipedia.org/wiki/Wikipedia:Text_of_Creative_Commons_Attribution-ShareAlike_3.0_Unported_License\" rel=\"license\">\n",
      "      Creative Commons Attribution-ShareAlike License\n",
      "     </a>\n",
      "     <a href=\"//creativecommons.org/licenses/by-sa/3.0/\" rel=\"license\" style=\"display:none;\">\n",
      "     </a>\n",
      "     ;\n",
      "additional terms may apply.  By using this site, you agree to the\n",
      "     <a href=\"//foundation.wikimedia.org/wiki/Terms_of_Use\">\n",
      "      Terms of Use\n",
      "     </a>\n",
      "     and\n",
      "     <a href=\"//foundation.wikimedia.org/wiki/Privacy_policy\">\n",
      "      Privacy Policy\n",
      "     </a>\n",
      "     . Wikipedia® is a registered trademark of the\n",
      "     <a href=\"//www.wikimediafoundation.org/\">\n",
      "      Wikimedia Foundation, Inc.\n",
      "     </a>\n",
      "     , a non-profit organization.\n",
      "    </li>\n",
      "   </ul>\n",
      "   <ul id=\"footer-places\">\n",
      "    <li id=\"footer-places-privacy\">\n",
      "     <a class=\"extiw\" href=\"https://foundation.wikimedia.org/wiki/Privacy_policy\" title=\"wmf:Privacy policy\">\n",
      "      Privacy policy\n",
      "     </a>\n",
      "    </li>\n",
      "    <li id=\"footer-places-about\">\n",
      "     <a href=\"/wiki/Wikipedia:About\" title=\"Wikipedia:About\">\n",
      "      About Wikipedia\n",
      "     </a>\n",
      "    </li>\n",
      "    <li id=\"footer-places-disclaimer\">\n",
      "     <a href=\"/wiki/Wikipedia:General_disclaimer\" title=\"Wikipedia:General disclaimer\">\n",
      "      Disclaimers\n",
      "     </a>\n",
      "    </li>\n",
      "    <li id=\"footer-places-contact\">\n",
      "     <a href=\"//en.wikipedia.org/wiki/Wikipedia:Contact_us\">\n",
      "      Contact Wikipedia\n",
      "     </a>\n",
      "    </li>\n",
      "    <li id=\"footer-places-developers\">\n",
      "     <a href=\"https://www.mediawiki.org/wiki/Special:MyLanguage/How_to_contribute\">\n",
      "      Developers\n",
      "     </a>\n",
      "    </li>\n",
      "    <li id=\"footer-places-statslink\">\n",
      "     <a href=\"https://stats.wikimedia.org/#/en.wikipedia.org\">\n",
      "      Statistics\n",
      "     </a>\n",
      "    </li>\n",
      "    <li id=\"footer-places-cookiestatement\">\n",
      "     <a href=\"https://foundation.wikimedia.org/wiki/Cookie_statement\">\n",
      "      Cookie statement\n",
      "     </a>\n",
      "    </li>\n",
      "    <li id=\"footer-places-mobileview\">\n",
      "     <a class=\"noprint stopMobileRedirectToggle\" href=\"//en.m.wikipedia.org/w/index.php?title=List_of_Lagos_State_local_government_areas_by_population&amp;mobileaction=toggle_view_mobile\">\n",
      "      Mobile view\n",
      "     </a>\n",
      "    </li>\n",
      "   </ul>\n",
      "   <ul class=\"noprint\" id=\"footer-icons\">\n",
      "    <li id=\"footer-copyrightico\">\n",
      "     <a href=\"https://wikimediafoundation.org/\">\n",
      "      <img alt=\"Wikimedia Foundation\" height=\"31\" loading=\"lazy\" src=\"/static/images/wikimedia-button.png\" srcset=\"/static/images/wikimedia-button-1.5x.png 1.5x, /static/images/wikimedia-button-2x.png 2x\" width=\"88\"/>\n",
      "     </a>\n",
      "    </li>\n",
      "    <li id=\"footer-poweredbyico\">\n",
      "     <a href=\"https://www.mediawiki.org/\">\n",
      "      <img alt=\"Powered by MediaWiki\" height=\"31\" src=\"/static/images/poweredby_mediawiki_88x31.png\" srcset=\"/static/images/poweredby_mediawiki_132x47.png 1.5x, /static/images/poweredby_mediawiki_176x62.png 2x\" width=\"88\"/>\n",
      "     </a>\n",
      "    </li>\n",
      "   </ul>\n",
      "   <div style=\"clear: both;\">\n",
      "   </div>\n",
      "  </div>\n",
      "  <script>\n",
      "   (RLQ=window.RLQ||[]).push(function(){mw.config.set({\"wgPageParseReport\":{\"limitreport\":{\"cputime\":\"0.132\",\"walltime\":\"0.225\",\"ppvisitednodes\":{\"value\":401,\"limit\":1000000},\"postexpandincludesize\":{\"value\":16355,\"limit\":2097152},\"templateargumentsize\":{\"value\":1337,\"limit\":2097152},\"expansiondepth\":{\"value\":13,\"limit\":40},\"expensivefunctioncount\":{\"value\":3,\"limit\":500},\"unstrip-depth\":{\"value\":0,\"limit\":20},\"unstrip-size\":{\"value\":0,\"limit\":5000000},\"entityaccesscount\":{\"value\":0,\"limit\":400},\"timingprofile\":[\"100.00%  200.493      1 -total\",\" 43.33%   86.865      2 Template:Ambox\",\" 27.78%   55.690      1 Template:Outdated\",\" 27.39%   54.912      1 Template:Short_description\",\" 25.39%   50.902      1 Template:Unsourced\",\" 24.03%   48.173      2 Template:Main_other\",\" 19.23%   38.554      1 Template:Clarification_needed\",\" 19.21%   38.506      1 Template:Pagetype\",\" 19.09%   38.270      1 Template:Find_sources_mainspace\",\" 16.06%   32.208      1 Template:Fix-span\"]},\"scribunto\":{\"limitreport-timeusage\":{\"value\":\"0.060\",\"limit\":\"10.000\"},\"limitreport-memusage\":{\"value\":2099782,\"limit\":52428800}},\"cachereport\":{\"origin\":\"mw1331\",\"timestamp\":\"20200614191751\",\"ttl\":2592000,\"transientcontent\":false}}});});\n",
      "  </script>\n",
      "  <script type=\"application/ld+json\">\n",
      "   {\"@context\":\"https:\\/\\/schema.org\",\"@type\":\"Article\",\"name\":\"List of Lagos State local government areas by population\",\"url\":\"https:\\/\\/en.wikipedia.org\\/wiki\\/List_of_Lagos_State_local_government_areas_by_population\",\"sameAs\":\"http:\\/\\/www.wikidata.org\\/entity\\/Q6576379\",\"mainEntity\":\"http:\\/\\/www.wikidata.org\\/entity\\/Q6576379\",\"author\":{\"@type\":\"Organization\",\"name\":\"Contributors to Wikimedia projects\"},\"publisher\":{\"@type\":\"Organization\",\"name\":\"Wikimedia Foundation, Inc.\",\"logo\":{\"@type\":\"ImageObject\",\"url\":\"https:\\/\\/www.wikimedia.org\\/static\\/images\\/wmf-hor-googpub.png\"}},\"datePublished\":\"2012-04-22T18:18:13Z\",\"dateModified\":\"2020-06-01T22:22:20Z\",\"headline\":\"Wikimedia list article\"}\n",
      "  </script>\n",
      "  <script>\n",
      "   (RLQ=window.RLQ||[]).push(function(){mw.config.set({\"wgBackendResponseTime\":84,\"wgHostname\":\"mw1328\"});});\n",
      "  </script>\n",
      " </body>\n",
      "</html>\n",
      "\n"
     ]
    }
   ],
   "source": [
    "soup = BeautifulSoup(source,'lxml')\n",
    "\n",
    "# Let's print it to see what it looks like...\n",
    "\n",
    "print(soup.prettify())"
   ]
  },
  {
   "cell_type": "markdown",
   "metadata": {
    "colab_type": "text",
    "id": "bK1kWLx-0l1F"
   },
   "source": [
    "Next let's get the table that contains the data we want to scrape"
   ]
  },
  {
   "cell_type": "code",
   "execution_count": 6,
   "metadata": {
    "colab": {
     "base_uri": "https://localhost:8080/",
     "height": 306
    },
    "colab_type": "code",
    "id": "jrtBgrow0moy",
    "outputId": "5a95cd7c-58fa-49e2-bcca-6da8e56ebd4a"
   },
   "outputs": [
    {
     "data": {
      "text/plain": [
       "[<td class=\"mbox-image\"><div style=\"width:52px\"><img alt=\"Ambox current red Americas.svg\" data-file-height=\"290\" data-file-width=\"360\" decoding=\"async\" height=\"34\" src=\"//upload.wikimedia.org/wikipedia/commons/thumb/5/53/Ambox_current_red_Americas.svg/42px-Ambox_current_red_Americas.svg.png\" srcset=\"//upload.wikimedia.org/wikipedia/commons/thumb/5/53/Ambox_current_red_Americas.svg/63px-Ambox_current_red_Americas.svg.png 1.5x, //upload.wikimedia.org/wikipedia/commons/thumb/5/53/Ambox_current_red_Americas.svg/84px-Ambox_current_red_Americas.svg.png 2x\" width=\"42\"/></div></td>,\n",
       " <td class=\"mbox-text\"><div class=\"mbox-text-span\">This article needs to be <b>updated</b>.<span class=\"hide-when-compact\"> Please update this article to reflect recent events or newly available information.</span> <small class=\"date-container\"><i>(<span class=\"date\">March 2015</span>)</i></small></div></td>,\n",
       " <td class=\"mbox-image\"><div style=\"width:52px\"><a class=\"image\" href=\"/wiki/File:Question_book-new.svg\"><img alt=\"\" data-file-height=\"399\" data-file-width=\"512\" decoding=\"async\" height=\"39\" src=\"//upload.wikimedia.org/wikipedia/en/thumb/9/99/Question_book-new.svg/50px-Question_book-new.svg.png\" srcset=\"//upload.wikimedia.org/wikipedia/en/thumb/9/99/Question_book-new.svg/75px-Question_book-new.svg.png 1.5x, //upload.wikimedia.org/wikipedia/en/thumb/9/99/Question_book-new.svg/100px-Question_book-new.svg.png 2x\" width=\"50\"/></a></div></td>,\n",
       " <td class=\"mbox-text\"><div class=\"mbox-text-span\">This article <b>does not <a href=\"/wiki/Wikipedia:Citing_sources\" title=\"Wikipedia:Citing sources\">cite</a> any <a href=\"/wiki/Wikipedia:Verifiability\" title=\"Wikipedia:Verifiability\">sources</a></b>.<span class=\"hide-when-compact\"> Please help <a class=\"external text\" href=\"https://en.wikipedia.org/w/index.php?title=List_of_Lagos_State_local_government_areas_by_population&amp;action=edit\">improve this article</a> by <a href=\"/wiki/Help:Referencing_for_beginners\" title=\"Help:Referencing for beginners\">adding citations to reliable sources</a>. Unsourced material may be challenged and <a href=\"/wiki/Wikipedia:Verifiability#Burden_of_evidence\" title=\"Wikipedia:Verifiability\">removed</a>.<br/><small><span class=\"plainlinks\"><i>Find sources:</i> <a class=\"external text\" href=\"//www.google.com/search?as_eq=wikipedia&amp;q=%22List+of+Lagos+State+local+government+areas+by+population%22\" rel=\"nofollow\">\"List of Lagos State local government areas by population\"</a> – <a class=\"external text\" href=\"//www.google.com/search?tbm=nws&amp;q=%22List+of+Lagos+State+local+government+areas+by+population%22+-wikipedia\" rel=\"nofollow\">news</a> <b>·</b> <a class=\"external text\" href=\"//www.google.com/search?&amp;q=%22List+of+Lagos+State+local+government+areas+by+population%22+site:news.google.com/newspapers&amp;source=newspapers\" rel=\"nofollow\">newspapers</a> <b>·</b> <a class=\"external text\" href=\"//www.google.com/search?tbs=bks:1&amp;q=%22List+of+Lagos+State+local+government+areas+by+population%22+-wikipedia\" rel=\"nofollow\">books</a> <b>·</b> <a class=\"external text\" href=\"//scholar.google.com/scholar?q=%22List+of+Lagos+State+local+government+areas+by+population%22\" rel=\"nofollow\">scholar</a> <b>·</b> <a class=\"external text\" href=\"https://www.jstor.org/action/doBasicSearch?Query=%22List+of+Lagos+State+local+government+areas+by+population%22&amp;acc=on&amp;wc=on\" rel=\"nofollow\">JSTOR</a></span></small></span> <small class=\"date-container\"><i>(<span class=\"date\">June 2015</span>)</i></small><small class=\"hide-when-compact\"><i> (<a href=\"/wiki/Help:Maintenance_template_removal\" title=\"Help:Maintenance template removal\">Learn how and when to remove this template message</a>)</i></small></div></td>,\n",
       " <td align=\"left\">1\n",
       " </td>,\n",
       " <td align=\"left\"><a href=\"/wiki/Alimosho\" title=\"Alimosho\">Alimosho</a>\n",
       " </td>,\n",
       " <td align=\"center\">11,456,783\n",
       " </td>,\n",
       " <td align=\"left\">2\n",
       " </td>,\n",
       " <td align=\"left\"><a href=\"/wiki/Ajeromi-Ifelodun\" title=\"Ajeromi-Ifelodun\">Ajeromi-Ifelodun</a>\n",
       " </td>,\n",
       " <td align=\"center\">2,000,346\n",
       " </td>]"
      ]
     },
     "execution_count": 6,
     "metadata": {},
     "output_type": "execute_result"
    }
   ],
   "source": [
    "table_data = soup.find_all('td')\n",
    "\n",
    "# Let's view the table\n",
    "\n",
    "table_data[:10]"
   ]
  },
  {
   "cell_type": "markdown",
   "metadata": {
    "colab_type": "text",
    "id": "S1qFFQr6-vJy"
   },
   "source": [
    "Next let's iterate through each link and append the text parts"
   ]
  },
  {
   "cell_type": "code",
   "execution_count": 7,
   "metadata": {
    "colab": {
     "base_uri": "https://localhost:8080/",
     "height": 34
    },
    "colab_type": "code",
    "id": "BkZ0CU3bgHn-",
    "outputId": "0cb05716-fa1e-4238-d944-c1fb6b74cc1a"
   },
   "outputs": [
    {
     "data": {
      "text/plain": [
       "bs4.element.ResultSet"
      ]
     },
     "execution_count": 7,
     "metadata": {},
     "output_type": "execute_result"
    }
   ],
   "source": [
    "type(table_data)"
   ]
  },
  {
   "cell_type": "code",
   "execution_count": 8,
   "metadata": {
    "colab": {},
    "colab_type": "code",
    "id": "YVhuX3QO-2O0"
   },
   "outputs": [],
   "source": [
    "table_text = []\n",
    "\n",
    "for data in table_data:\n",
    "    table_text.append(data.text)"
   ]
  },
  {
   "cell_type": "markdown",
   "metadata": {
    "colab_type": "text",
    "id": "6EsoADW0mkrR"
   },
   "source": [
    "First let's extract only the relevent data from the table"
   ]
  },
  {
   "cell_type": "code",
   "execution_count": 9,
   "metadata": {
    "colab": {
     "base_uri": "https://localhost:8080/",
     "height": 34
    },
    "colab_type": "code",
    "id": "WET_B_y0mwdN",
    "outputId": "7f21f1c1-3b6d-4ed4-c50a-335b88ea0d70"
   },
   "outputs": [
    {
     "data": {
      "text/plain": [
       "['1\\n',\n",
       " 'Alimosho\\n',\n",
       " '11,456,783\\n',\n",
       " '2\\n',\n",
       " 'Ajeromi-Ifelodun\\n',\n",
       " '2,000,346\\n',\n",
       " '3\\n',\n",
       " 'Kosofe\\n',\n",
       " '665,421\\n',\n",
       " '4\\n',\n",
       " 'Mushin\\n',\n",
       " '633,543\\n',\n",
       " '5\\n',\n",
       " 'Oshodi-Isolo\\n',\n",
       " '10,621,789\\n',\n",
       " '6\\n',\n",
       " 'Ojo\\n',\n",
       " '598,336\\n',\n",
       " '7\\n',\n",
       " 'Ikorodu\\n',\n",
       " '535,811\\n',\n",
       " '8\\n',\n",
       " 'Surulere\\n',\n",
       " '504,409\\n',\n",
       " '9\\n',\n",
       " 'Agege\\n',\n",
       " '461,123\\n',\n",
       " '10\\n',\n",
       " 'Ifako-Ijaiye\\n',\n",
       " '428,812\\n',\n",
       " '11\\n',\n",
       " 'Somolu\\n',\n",
       " '402,992\\n',\n",
       " '12\\n',\n",
       " 'Amuwo-Odofin\\n',\n",
       " '318,576\\n',\n",
       " '13\\n',\n",
       " 'Lagos Mainland\\n',\n",
       " '317,980\\n',\n",
       " '14\\n',\n",
       " 'Ikeja\\n',\n",
       " '313,333\\n',\n",
       " '15\\n',\n",
       " 'Eti-Osa\\n',\n",
       " '287,958\\n',\n",
       " '16\\n',\n",
       " 'Badagry\\n',\n",
       " '241,437\\n',\n",
       " '17\\n',\n",
       " 'Apapa\\n',\n",
       " '217,661\\n',\n",
       " '18\\n',\n",
       " 'Lagos Island\\n',\n",
       " '209,665\\n',\n",
       " '19\\n',\n",
       " 'Epe\\n',\n",
       " '181,715\\n',\n",
       " '20\\n',\n",
       " 'Ibeju-Lekki\\n',\n",
       " '117,542\\n']"
      ]
     },
     "execution_count": 9,
     "metadata": {},
     "output_type": "execute_result"
    }
   ],
   "source": [
    "relevant_table_data = table_text[4:-3]\n",
    "\n",
    "# Next let's see the first 3 elements\n",
    "relevant_table_data[:]"
   ]
  },
  {
   "cell_type": "markdown",
   "metadata": {
    "colab_type": "text",
    "id": "_jJzom_Hw2yS"
   },
   "source": [
    "Next lets create a dictionary and append the LGA and corresponding Population data to it"
   ]
  },
  {
   "cell_type": "code",
   "execution_count": 10,
   "metadata": {
    "colab": {},
    "colab_type": "code",
    "id": "AGRNCXgInsJh"
   },
   "outputs": [],
   "source": [
    "table_dict={'LGA':[], 'POP':[]}\n",
    "count = 0\n",
    "\n",
    "for item in relevant_table_data:\n",
    "    # First let's strip off the \\n at the end\n",
    "    item = item.strip('\\n')\n",
    "    try:\n",
    "        item = int(item)\n",
    "    except:\n",
    "        # if second item after the int, append to POP\n",
    "        if count > 0:\n",
    "            # First let's remove the commas\n",
    "            item = item.replace(',','')\n",
    "            # Next let's convert to an integer so we can use it for calculations\n",
    "            item = int(item)\n",
    "            # Finally, let's append it to the Population list of the dictionary\n",
    "            table_dict['POP'].append(item)\n",
    "            count = 0\n",
    "        else:\n",
    "         # if first item after the int, append to LGA\n",
    "            table_dict['LGA'].append(item)\n",
    "            count +=1"
   ]
  },
  {
   "cell_type": "markdown",
   "metadata": {
    "colab_type": "text",
    "id": "BpsyT11FxCze"
   },
   "source": [
    "Next let's create a Dataframe of each LGA and its respective Population"
   ]
  },
  {
   "cell_type": "code",
   "execution_count": 11,
   "metadata": {
    "colab": {
     "base_uri": "https://localhost:8080/",
     "height": 195
    },
    "colab_type": "code",
    "id": "4_Zgf7jVtmTu",
    "outputId": "4c7a32af-ff6e-49b5-d345-66d20b93fdea"
   },
   "outputs": [
    {
     "data": {
      "text/html": [
       "<div>\n",
       "<style scoped>\n",
       "    .dataframe tbody tr th:only-of-type {\n",
       "        vertical-align: middle;\n",
       "    }\n",
       "\n",
       "    .dataframe tbody tr th {\n",
       "        vertical-align: top;\n",
       "    }\n",
       "\n",
       "    .dataframe thead th {\n",
       "        text-align: right;\n",
       "    }\n",
       "</style>\n",
       "<table border=\"1\" class=\"dataframe\">\n",
       "  <thead>\n",
       "    <tr style=\"text-align: right;\">\n",
       "      <th></th>\n",
       "      <th>LGA</th>\n",
       "      <th>POP</th>\n",
       "    </tr>\n",
       "  </thead>\n",
       "  <tbody>\n",
       "    <tr>\n",
       "      <td>0</td>\n",
       "      <td>Alimosho</td>\n",
       "      <td>11456783</td>\n",
       "    </tr>\n",
       "    <tr>\n",
       "      <td>1</td>\n",
       "      <td>Ajeromi-Ifelodun</td>\n",
       "      <td>2000346</td>\n",
       "    </tr>\n",
       "    <tr>\n",
       "      <td>2</td>\n",
       "      <td>Kosofe</td>\n",
       "      <td>665421</td>\n",
       "    </tr>\n",
       "    <tr>\n",
       "      <td>3</td>\n",
       "      <td>Mushin</td>\n",
       "      <td>633543</td>\n",
       "    </tr>\n",
       "    <tr>\n",
       "      <td>4</td>\n",
       "      <td>Oshodi-Isolo</td>\n",
       "      <td>10621789</td>\n",
       "    </tr>\n",
       "    <tr>\n",
       "      <td>5</td>\n",
       "      <td>Ojo</td>\n",
       "      <td>598336</td>\n",
       "    </tr>\n",
       "    <tr>\n",
       "      <td>6</td>\n",
       "      <td>Ikorodu</td>\n",
       "      <td>535811</td>\n",
       "    </tr>\n",
       "    <tr>\n",
       "      <td>7</td>\n",
       "      <td>Surulere</td>\n",
       "      <td>504409</td>\n",
       "    </tr>\n",
       "    <tr>\n",
       "      <td>8</td>\n",
       "      <td>Agege</td>\n",
       "      <td>461123</td>\n",
       "    </tr>\n",
       "    <tr>\n",
       "      <td>9</td>\n",
       "      <td>Ifako-Ijaiye</td>\n",
       "      <td>428812</td>\n",
       "    </tr>\n",
       "    <tr>\n",
       "      <td>10</td>\n",
       "      <td>Somolu</td>\n",
       "      <td>402992</td>\n",
       "    </tr>\n",
       "    <tr>\n",
       "      <td>11</td>\n",
       "      <td>Amuwo-Odofin</td>\n",
       "      <td>318576</td>\n",
       "    </tr>\n",
       "    <tr>\n",
       "      <td>12</td>\n",
       "      <td>Lagos Mainland</td>\n",
       "      <td>317980</td>\n",
       "    </tr>\n",
       "    <tr>\n",
       "      <td>13</td>\n",
       "      <td>Ikeja</td>\n",
       "      <td>313333</td>\n",
       "    </tr>\n",
       "    <tr>\n",
       "      <td>14</td>\n",
       "      <td>Eti-Osa</td>\n",
       "      <td>287958</td>\n",
       "    </tr>\n",
       "    <tr>\n",
       "      <td>15</td>\n",
       "      <td>Badagry</td>\n",
       "      <td>241437</td>\n",
       "    </tr>\n",
       "    <tr>\n",
       "      <td>16</td>\n",
       "      <td>Apapa</td>\n",
       "      <td>217661</td>\n",
       "    </tr>\n",
       "    <tr>\n",
       "      <td>17</td>\n",
       "      <td>Lagos Island</td>\n",
       "      <td>209665</td>\n",
       "    </tr>\n",
       "    <tr>\n",
       "      <td>18</td>\n",
       "      <td>Epe</td>\n",
       "      <td>181715</td>\n",
       "    </tr>\n",
       "    <tr>\n",
       "      <td>19</td>\n",
       "      <td>Ibeju-Lekki</td>\n",
       "      <td>117542</td>\n",
       "    </tr>\n",
       "  </tbody>\n",
       "</table>\n",
       "</div>"
      ],
      "text/plain": [
       "                 LGA       POP\n",
       "0           Alimosho  11456783\n",
       "1   Ajeromi-Ifelodun   2000346\n",
       "2             Kosofe    665421\n",
       "3             Mushin    633543\n",
       "4       Oshodi-Isolo  10621789\n",
       "5                Ojo    598336\n",
       "6            Ikorodu    535811\n",
       "7           Surulere    504409\n",
       "8              Agege    461123\n",
       "9       Ifako-Ijaiye    428812\n",
       "10            Somolu    402992\n",
       "11      Amuwo-Odofin    318576\n",
       "12    Lagos Mainland    317980\n",
       "13             Ikeja    313333\n",
       "14           Eti-Osa    287958\n",
       "15           Badagry    241437\n",
       "16             Apapa    217661\n",
       "17      Lagos Island    209665\n",
       "18               Epe    181715\n",
       "19       Ibeju-Lekki    117542"
      ]
     },
     "execution_count": 11,
     "metadata": {},
     "output_type": "execute_result"
    }
   ],
   "source": [
    "lagos_df = pd.DataFrame(table_dict)\n",
    "\n",
    "# Let's see the corresponding rows\n",
    "lagos_df"
   ]
  },
  {
   "cell_type": "markdown",
   "metadata": {
    "colab_type": "text",
    "id": "eNGYERJUS83m"
   },
   "source": [
    "Appending the Latitude and Longitude Values:<br>\n",
    "First let's define a simple method to extract each LGA Latitudes and Longitudes data"
   ]
  },
  {
   "cell_type": "code",
   "execution_count": 12,
   "metadata": {
    "colab": {},
    "colab_type": "code",
    "id": "1UNfx6OVRlOS"
   },
   "outputs": [],
   "source": [
    "def latitude_longitude(LGA):\n",
    "    import time\n",
    "    \"\"\" Method takes a Series object and returns\n",
    "    a list of Latitude and corresponding Longitude data,\n",
    "    using the geopy library.\n",
    "    This method also prints out the coordinate data\"\"\"\n",
    "    \n",
    "    address = str(LGA)\n",
    "    \n",
    "    # We must define a geolocator user agent\n",
    "    geolocator = Nominatim(user_agent=\"NG_explorer\")\n",
    "    location = geolocator.geocode(address)\n",
    "    latitude = location.latitude\n",
    "    longitude = location.longitude\n",
    "    print('The geograpical coordinates of {} are lat {} and long {}.'.format(address, latitude, longitude))\n",
    "    # WARNING: let 2 secs pass after calling each location lat/lon so that the geocode function would not crash as it crashes quite often\n",
    "    time.sleep(5)  \n",
    "    return [latitude, longitude]"
   ]
  },
  {
   "cell_type": "code",
   "execution_count": 13,
   "metadata": {
    "colab": {
     "base_uri": "https://localhost:8080/",
     "height": 353
    },
    "colab_type": "code",
    "id": "34bdCijURtXE",
    "outputId": "83185f4e-6f03-4eeb-ac00-22c0951bd409"
   },
   "outputs": [
    {
     "name": "stdout",
     "output_type": "stream",
     "text": [
      "The geograpical coordinates of Alimosho are lat 6.58434295 and long 3.257631097232365.\n",
      "The geograpical coordinates of Ajeromi-Ifelodun are lat 6.455121699999999 and long 3.3359462518298724.\n",
      "The geograpical coordinates of Kosofe are lat 6.581974000000001 and long 3.4148359416178415.\n",
      "The geograpical coordinates of Mushin are lat 50.5166809 and long 3.2837362.\n",
      "The geograpical coordinates of Oshodi-Isolo are lat 6.5400100000000005 and long 3.312414613183944.\n",
      "The geograpical coordinates of Ojo are lat 1.0958392 and long -76.6110685.\n",
      "The geograpical coordinates of Ikorodu are lat 6.6191233 and long 3.5041271.\n",
      "The geograpical coordinates of Surulere are lat 6.487201450000001 and long 3.353258726723983.\n",
      "The geograpical coordinates of Agege are lat 6.6252564 and long 3.311209267702652.\n",
      "The geograpical coordinates of Ifako-Ijaiye are lat 6.6636025 and long 3.289491.\n",
      "The geograpical coordinates of Somolu are lat 6.5393027 and long 3.3790892.\n",
      "The geograpical coordinates of Amuwo-Odofin are lat 6.4470234 and long 3.2662797116825857.\n",
      "The geograpical coordinates of Lagos Mainland are lat 6.49306105 and long 3.388249637209558.\n",
      "The geograpical coordinates of Ikeja are lat 6.6048591000000005 and long 3.3532040740949824.\n",
      "The geograpical coordinates of Eti-Osa are lat 6.4602312 and long 3.53218066773601.\n",
      "The geograpical coordinates of Badagry are lat 6.4387296 and long 2.9074857493191666.\n",
      "The geograpical coordinates of Apapa are lat 6.445187000000001 and long 3.3683731679424094.\n",
      "The geograpical coordinates of Lagos Island are lat 6.5148613 and long 3.490866161390065.\n",
      "The geograpical coordinates of Epe are lat 6.52474955 and long 4.057245795132342.\n",
      "The geograpical coordinates of Ibeju-Lekki are lat 6.4711251 and long 3.8147502006869445.\n"
     ]
    }
   ],
   "source": [
    "lagos_df['latitude'] = lagos_df['LGA'].apply(latitude_longitude)"
   ]
  },
  {
   "cell_type": "markdown",
   "metadata": {
    "colab_type": "text",
    "id": "FQ-5GsxfqFCv"
   },
   "source": [
    "Let's see the data frame again"
   ]
  },
  {
   "cell_type": "code",
   "execution_count": 14,
   "metadata": {
    "colab": {
     "base_uri": "https://localhost:8080/",
     "height": 195
    },
    "colab_type": "code",
    "id": "1jRsohp3qIB7",
    "outputId": "c5b76812-948c-4a45-cd68-bb4956098eb6"
   },
   "outputs": [
    {
     "data": {
      "text/html": [
       "<div>\n",
       "<style scoped>\n",
       "    .dataframe tbody tr th:only-of-type {\n",
       "        vertical-align: middle;\n",
       "    }\n",
       "\n",
       "    .dataframe tbody tr th {\n",
       "        vertical-align: top;\n",
       "    }\n",
       "\n",
       "    .dataframe thead th {\n",
       "        text-align: right;\n",
       "    }\n",
       "</style>\n",
       "<table border=\"1\" class=\"dataframe\">\n",
       "  <thead>\n",
       "    <tr style=\"text-align: right;\">\n",
       "      <th></th>\n",
       "      <th>LGA</th>\n",
       "      <th>POP</th>\n",
       "      <th>latitude</th>\n",
       "    </tr>\n",
       "  </thead>\n",
       "  <tbody>\n",
       "    <tr>\n",
       "      <td>0</td>\n",
       "      <td>Alimosho</td>\n",
       "      <td>11456783</td>\n",
       "      <td>[6.58434295, 3.257631097232365]</td>\n",
       "    </tr>\n",
       "    <tr>\n",
       "      <td>1</td>\n",
       "      <td>Ajeromi-Ifelodun</td>\n",
       "      <td>2000346</td>\n",
       "      <td>[6.455121699999999, 3.3359462518298724]</td>\n",
       "    </tr>\n",
       "    <tr>\n",
       "      <td>2</td>\n",
       "      <td>Kosofe</td>\n",
       "      <td>665421</td>\n",
       "      <td>[6.581974000000001, 3.4148359416178415]</td>\n",
       "    </tr>\n",
       "    <tr>\n",
       "      <td>3</td>\n",
       "      <td>Mushin</td>\n",
       "      <td>633543</td>\n",
       "      <td>[50.5166809, 3.2837362]</td>\n",
       "    </tr>\n",
       "    <tr>\n",
       "      <td>4</td>\n",
       "      <td>Oshodi-Isolo</td>\n",
       "      <td>10621789</td>\n",
       "      <td>[6.5400100000000005, 3.312414613183944]</td>\n",
       "    </tr>\n",
       "  </tbody>\n",
       "</table>\n",
       "</div>"
      ],
      "text/plain": [
       "                LGA       POP                                 latitude\n",
       "0          Alimosho  11456783          [6.58434295, 3.257631097232365]\n",
       "1  Ajeromi-Ifelodun   2000346  [6.455121699999999, 3.3359462518298724]\n",
       "2            Kosofe    665421  [6.581974000000001, 3.4148359416178415]\n",
       "3            Mushin    633543                  [50.5166809, 3.2837362]\n",
       "4      Oshodi-Isolo  10621789  [6.5400100000000005, 3.312414613183944]"
      ]
     },
     "execution_count": 14,
     "metadata": {},
     "output_type": "execute_result"
    }
   ],
   "source": [
    "lagos_df.head()"
   ]
  },
  {
   "cell_type": "markdown",
   "metadata": {
    "colab_type": "text",
    "id": "urZ6BlyRqRKZ"
   },
   "source": [
    "Next let's loop through the data frame and separate Latitude from Longitude and make lat and long just numbers not lists"
   ]
  },
  {
   "cell_type": "code",
   "execution_count": 15,
   "metadata": {
    "colab": {},
    "colab_type": "code",
    "id": "D-242baCqbms"
   },
   "outputs": [],
   "source": [
    "lon_list = []\n",
    "for i, j in lagos_df.iterrows():\n",
    "    lon_list.append(j.latitude[1])\n",
    "    lagos_df.iat[i,2] = j.latitude[0]\n",
    "\n",
    "lagos_df['longitude'] = lon_list"
   ]
  },
  {
   "cell_type": "markdown",
   "metadata": {
    "colab_type": "text",
    "id": "zq_eqtUctlO7"
   },
   "source": [
    "Let's see our table with the separated latitude and longitude values"
   ]
  },
  {
   "cell_type": "code",
   "execution_count": 16,
   "metadata": {},
   "outputs": [
    {
     "data": {
      "text/html": [
       "<div>\n",
       "<style scoped>\n",
       "    .dataframe tbody tr th:only-of-type {\n",
       "        vertical-align: middle;\n",
       "    }\n",
       "\n",
       "    .dataframe tbody tr th {\n",
       "        vertical-align: top;\n",
       "    }\n",
       "\n",
       "    .dataframe thead th {\n",
       "        text-align: right;\n",
       "    }\n",
       "</style>\n",
       "<table border=\"1\" class=\"dataframe\">\n",
       "  <thead>\n",
       "    <tr style=\"text-align: right;\">\n",
       "      <th></th>\n",
       "      <th>LGA</th>\n",
       "      <th>POP</th>\n",
       "      <th>latitude</th>\n",
       "      <th>longitude</th>\n",
       "    </tr>\n",
       "  </thead>\n",
       "  <tbody>\n",
       "    <tr>\n",
       "      <td>0</td>\n",
       "      <td>Alimosho</td>\n",
       "      <td>11456783</td>\n",
       "      <td>6.58434</td>\n",
       "      <td>3.257631</td>\n",
       "    </tr>\n",
       "    <tr>\n",
       "      <td>1</td>\n",
       "      <td>Ajeromi-Ifelodun</td>\n",
       "      <td>2000346</td>\n",
       "      <td>6.45512</td>\n",
       "      <td>3.335946</td>\n",
       "    </tr>\n",
       "    <tr>\n",
       "      <td>2</td>\n",
       "      <td>Kosofe</td>\n",
       "      <td>665421</td>\n",
       "      <td>6.58197</td>\n",
       "      <td>3.414836</td>\n",
       "    </tr>\n",
       "    <tr>\n",
       "      <td>3</td>\n",
       "      <td>Mushin</td>\n",
       "      <td>633543</td>\n",
       "      <td>50.5167</td>\n",
       "      <td>3.283736</td>\n",
       "    </tr>\n",
       "    <tr>\n",
       "      <td>4</td>\n",
       "      <td>Oshodi-Isolo</td>\n",
       "      <td>10621789</td>\n",
       "      <td>6.54001</td>\n",
       "      <td>3.312415</td>\n",
       "    </tr>\n",
       "  </tbody>\n",
       "</table>\n",
       "</div>"
      ],
      "text/plain": [
       "                LGA       POP latitude  longitude\n",
       "0          Alimosho  11456783  6.58434   3.257631\n",
       "1  Ajeromi-Ifelodun   2000346  6.45512   3.335946\n",
       "2            Kosofe    665421  6.58197   3.414836\n",
       "3            Mushin    633543  50.5167   3.283736\n",
       "4      Oshodi-Isolo  10621789  6.54001   3.312415"
      ]
     },
     "execution_count": 16,
     "metadata": {},
     "output_type": "execute_result"
    }
   ],
   "source": [
    "lagos_df.head()"
   ]
  },
  {
   "cell_type": "code",
   "execution_count": 19,
   "metadata": {
    "colab": {
     "base_uri": "https://localhost:8080/",
     "height": 195
    },
    "colab_type": "code",
    "id": "b0lMEy5Btl4b",
    "outputId": "59af2d09-c08f-4bf2-96ae-457ff877ad43"
   },
   "outputs": [],
   "source": [
    "#next let's convert our dataframe to a csv file by calling the to_csv function\n",
    "#lagos_df.to_csv(r'dataset.csv')"
   ]
  },
  {
   "cell_type": "code",
   "execution_count": 90,
   "metadata": {},
   "outputs": [
    {
     "data": {
      "text/html": [
       "<div>\n",
       "<style scoped>\n",
       "    .dataframe tbody tr th:only-of-type {\n",
       "        vertical-align: middle;\n",
       "    }\n",
       "\n",
       "    .dataframe tbody tr th {\n",
       "        vertical-align: top;\n",
       "    }\n",
       "\n",
       "    .dataframe thead th {\n",
       "        text-align: right;\n",
       "    }\n",
       "</style>\n",
       "<table border=\"1\" class=\"dataframe\">\n",
       "  <thead>\n",
       "    <tr style=\"text-align: right;\">\n",
       "      <th></th>\n",
       "      <th>Unnamed: 0</th>\n",
       "      <th>LGA</th>\n",
       "      <th>POP</th>\n",
       "      <th>latitude</th>\n",
       "      <th>longitude</th>\n",
       "    </tr>\n",
       "  </thead>\n",
       "  <tbody>\n",
       "    <tr>\n",
       "      <td>0</td>\n",
       "      <td>0</td>\n",
       "      <td>Alimosho</td>\n",
       "      <td>11456783</td>\n",
       "      <td>6.584343</td>\n",
       "      <td>3.257631</td>\n",
       "    </tr>\n",
       "    <tr>\n",
       "      <td>1</td>\n",
       "      <td>1</td>\n",
       "      <td>Ajeromi-Ifelodun</td>\n",
       "      <td>2000346</td>\n",
       "      <td>6.455122</td>\n",
       "      <td>3.335946</td>\n",
       "    </tr>\n",
       "    <tr>\n",
       "      <td>2</td>\n",
       "      <td>2</td>\n",
       "      <td>Kosofe</td>\n",
       "      <td>665421</td>\n",
       "      <td>6.581974</td>\n",
       "      <td>3.414836</td>\n",
       "    </tr>\n",
       "    <tr>\n",
       "      <td>3</td>\n",
       "      <td>3</td>\n",
       "      <td>Mushin</td>\n",
       "      <td>633543</td>\n",
       "      <td>6.527300</td>\n",
       "      <td>3.341400</td>\n",
       "    </tr>\n",
       "    <tr>\n",
       "      <td>4</td>\n",
       "      <td>4</td>\n",
       "      <td>Oshodi-Isolo</td>\n",
       "      <td>10621789</td>\n",
       "      <td>6.540010</td>\n",
       "      <td>3.312415</td>\n",
       "    </tr>\n",
       "    <tr>\n",
       "      <td>5</td>\n",
       "      <td>5</td>\n",
       "      <td>Ojo</td>\n",
       "      <td>598336</td>\n",
       "      <td>6.457900</td>\n",
       "      <td>3.158000</td>\n",
       "    </tr>\n",
       "    <tr>\n",
       "      <td>6</td>\n",
       "      <td>6</td>\n",
       "      <td>Ikorodu</td>\n",
       "      <td>535811</td>\n",
       "      <td>6.619123</td>\n",
       "      <td>3.504127</td>\n",
       "    </tr>\n",
       "    <tr>\n",
       "      <td>7</td>\n",
       "      <td>7</td>\n",
       "      <td>Surulere</td>\n",
       "      <td>504409</td>\n",
       "      <td>6.487201</td>\n",
       "      <td>3.353259</td>\n",
       "    </tr>\n",
       "    <tr>\n",
       "      <td>8</td>\n",
       "      <td>8</td>\n",
       "      <td>Agege</td>\n",
       "      <td>461123</td>\n",
       "      <td>6.625256</td>\n",
       "      <td>3.311209</td>\n",
       "    </tr>\n",
       "    <tr>\n",
       "      <td>9</td>\n",
       "      <td>9</td>\n",
       "      <td>Ifako-Ijaiye</td>\n",
       "      <td>428812</td>\n",
       "      <td>6.663602</td>\n",
       "      <td>3.289491</td>\n",
       "    </tr>\n",
       "    <tr>\n",
       "      <td>10</td>\n",
       "      <td>10</td>\n",
       "      <td>Somolu</td>\n",
       "      <td>402992</td>\n",
       "      <td>6.539303</td>\n",
       "      <td>3.379089</td>\n",
       "    </tr>\n",
       "    <tr>\n",
       "      <td>11</td>\n",
       "      <td>11</td>\n",
       "      <td>Amuwo-Odofin</td>\n",
       "      <td>318576</td>\n",
       "      <td>6.447023</td>\n",
       "      <td>3.266280</td>\n",
       "    </tr>\n",
       "    <tr>\n",
       "      <td>12</td>\n",
       "      <td>12</td>\n",
       "      <td>Lagos Mainland</td>\n",
       "      <td>317980</td>\n",
       "      <td>6.493061</td>\n",
       "      <td>3.388250</td>\n",
       "    </tr>\n",
       "    <tr>\n",
       "      <td>13</td>\n",
       "      <td>13</td>\n",
       "      <td>Ikeja</td>\n",
       "      <td>313333</td>\n",
       "      <td>6.604859</td>\n",
       "      <td>3.353204</td>\n",
       "    </tr>\n",
       "    <tr>\n",
       "      <td>14</td>\n",
       "      <td>14</td>\n",
       "      <td>Eti-Osa</td>\n",
       "      <td>287958</td>\n",
       "      <td>6.460231</td>\n",
       "      <td>3.532181</td>\n",
       "    </tr>\n",
       "    <tr>\n",
       "      <td>15</td>\n",
       "      <td>15</td>\n",
       "      <td>Badagry</td>\n",
       "      <td>241437</td>\n",
       "      <td>6.438730</td>\n",
       "      <td>2.907486</td>\n",
       "    </tr>\n",
       "    <tr>\n",
       "      <td>16</td>\n",
       "      <td>16</td>\n",
       "      <td>Apapa</td>\n",
       "      <td>217661</td>\n",
       "      <td>6.445187</td>\n",
       "      <td>3.368373</td>\n",
       "    </tr>\n",
       "    <tr>\n",
       "      <td>17</td>\n",
       "      <td>17</td>\n",
       "      <td>Lagos Island</td>\n",
       "      <td>209665</td>\n",
       "      <td>6.514861</td>\n",
       "      <td>3.490866</td>\n",
       "    </tr>\n",
       "    <tr>\n",
       "      <td>18</td>\n",
       "      <td>18</td>\n",
       "      <td>Epe</td>\n",
       "      <td>181715</td>\n",
       "      <td>6.524750</td>\n",
       "      <td>4.057246</td>\n",
       "    </tr>\n",
       "    <tr>\n",
       "      <td>19</td>\n",
       "      <td>19</td>\n",
       "      <td>Ibeju-Lekki</td>\n",
       "      <td>117542</td>\n",
       "      <td>6.471125</td>\n",
       "      <td>3.814750</td>\n",
       "    </tr>\n",
       "  </tbody>\n",
       "</table>\n",
       "</div>"
      ],
      "text/plain": [
       "    Unnamed: 0               LGA       POP  latitude  longitude\n",
       "0            0          Alimosho  11456783  6.584343   3.257631\n",
       "1            1  Ajeromi-Ifelodun   2000346  6.455122   3.335946\n",
       "2            2            Kosofe    665421  6.581974   3.414836\n",
       "3            3            Mushin    633543  6.527300   3.341400\n",
       "4            4      Oshodi-Isolo  10621789  6.540010   3.312415\n",
       "5            5               Ojo    598336  6.457900   3.158000\n",
       "6            6           Ikorodu    535811  6.619123   3.504127\n",
       "7            7          Surulere    504409  6.487201   3.353259\n",
       "8            8             Agege    461123  6.625256   3.311209\n",
       "9            9      Ifako-Ijaiye    428812  6.663602   3.289491\n",
       "10          10            Somolu    402992  6.539303   3.379089\n",
       "11          11      Amuwo-Odofin    318576  6.447023   3.266280\n",
       "12          12    Lagos Mainland    317980  6.493061   3.388250\n",
       "13          13             Ikeja    313333  6.604859   3.353204\n",
       "14          14           Eti-Osa    287958  6.460231   3.532181\n",
       "15          15           Badagry    241437  6.438730   2.907486\n",
       "16          16             Apapa    217661  6.445187   3.368373\n",
       "17          17      Lagos Island    209665  6.514861   3.490866\n",
       "18          18               Epe    181715  6.524750   4.057246\n",
       "19          19       Ibeju-Lekki    117542  6.471125   3.814750"
      ]
     },
     "execution_count": 90,
     "metadata": {},
     "output_type": "execute_result"
    }
   ],
   "source": [
    "# let's read in our data from csv\n",
    "compiled_df=pd.read_csv(r'dataset.csv')\n",
    "compiled_df"
   ]
  },
  {
   "cell_type": "code",
   "execution_count": 53,
   "metadata": {},
   "outputs": [
    {
     "data": {
      "text/html": [
       "<div>\n",
       "<style scoped>\n",
       "    .dataframe tbody tr th:only-of-type {\n",
       "        vertical-align: middle;\n",
       "    }\n",
       "\n",
       "    .dataframe tbody tr th {\n",
       "        vertical-align: top;\n",
       "    }\n",
       "\n",
       "    .dataframe thead th {\n",
       "        text-align: right;\n",
       "    }\n",
       "</style>\n",
       "<table border=\"1\" class=\"dataframe\">\n",
       "  <thead>\n",
       "    <tr style=\"text-align: right;\">\n",
       "      <th></th>\n",
       "      <th>LGA</th>\n",
       "      <th>POP</th>\n",
       "      <th>latitude</th>\n",
       "      <th>longitude</th>\n",
       "    </tr>\n",
       "  </thead>\n",
       "  <tbody>\n",
       "    <tr>\n",
       "      <td>0</td>\n",
       "      <td>Alimosho</td>\n",
       "      <td>11456783</td>\n",
       "      <td>6.584343</td>\n",
       "      <td>3.257631</td>\n",
       "    </tr>\n",
       "    <tr>\n",
       "      <td>1</td>\n",
       "      <td>Ajeromi-Ifelodun</td>\n",
       "      <td>2000346</td>\n",
       "      <td>6.455122</td>\n",
       "      <td>3.335946</td>\n",
       "    </tr>\n",
       "    <tr>\n",
       "      <td>2</td>\n",
       "      <td>Kosofe</td>\n",
       "      <td>665421</td>\n",
       "      <td>6.581974</td>\n",
       "      <td>3.414836</td>\n",
       "    </tr>\n",
       "    <tr>\n",
       "      <td>3</td>\n",
       "      <td>Mushin</td>\n",
       "      <td>633543</td>\n",
       "      <td>6.527300</td>\n",
       "      <td>3.341400</td>\n",
       "    </tr>\n",
       "    <tr>\n",
       "      <td>4</td>\n",
       "      <td>Oshodi-Isolo</td>\n",
       "      <td>10621789</td>\n",
       "      <td>6.540010</td>\n",
       "      <td>3.312415</td>\n",
       "    </tr>\n",
       "    <tr>\n",
       "      <td>5</td>\n",
       "      <td>Ojo</td>\n",
       "      <td>598336</td>\n",
       "      <td>6.457900</td>\n",
       "      <td>3.158000</td>\n",
       "    </tr>\n",
       "    <tr>\n",
       "      <td>6</td>\n",
       "      <td>Ikorodu</td>\n",
       "      <td>535811</td>\n",
       "      <td>6.619123</td>\n",
       "      <td>3.504127</td>\n",
       "    </tr>\n",
       "    <tr>\n",
       "      <td>7</td>\n",
       "      <td>Surulere</td>\n",
       "      <td>504409</td>\n",
       "      <td>6.487201</td>\n",
       "      <td>3.353259</td>\n",
       "    </tr>\n",
       "    <tr>\n",
       "      <td>8</td>\n",
       "      <td>Agege</td>\n",
       "      <td>461123</td>\n",
       "      <td>6.625256</td>\n",
       "      <td>3.311209</td>\n",
       "    </tr>\n",
       "    <tr>\n",
       "      <td>9</td>\n",
       "      <td>Ifako-Ijaiye</td>\n",
       "      <td>428812</td>\n",
       "      <td>6.663602</td>\n",
       "      <td>3.289491</td>\n",
       "    </tr>\n",
       "    <tr>\n",
       "      <td>10</td>\n",
       "      <td>Somolu</td>\n",
       "      <td>402992</td>\n",
       "      <td>6.539303</td>\n",
       "      <td>3.379089</td>\n",
       "    </tr>\n",
       "    <tr>\n",
       "      <td>11</td>\n",
       "      <td>Amuwo-Odofin</td>\n",
       "      <td>318576</td>\n",
       "      <td>6.447023</td>\n",
       "      <td>3.266280</td>\n",
       "    </tr>\n",
       "    <tr>\n",
       "      <td>12</td>\n",
       "      <td>Lagos Mainland</td>\n",
       "      <td>317980</td>\n",
       "      <td>6.493061</td>\n",
       "      <td>3.388250</td>\n",
       "    </tr>\n",
       "    <tr>\n",
       "      <td>13</td>\n",
       "      <td>Ikeja</td>\n",
       "      <td>313333</td>\n",
       "      <td>6.604859</td>\n",
       "      <td>3.353204</td>\n",
       "    </tr>\n",
       "    <tr>\n",
       "      <td>14</td>\n",
       "      <td>Eti-Osa</td>\n",
       "      <td>287958</td>\n",
       "      <td>6.460231</td>\n",
       "      <td>3.532181</td>\n",
       "    </tr>\n",
       "    <tr>\n",
       "      <td>15</td>\n",
       "      <td>Badagry</td>\n",
       "      <td>241437</td>\n",
       "      <td>6.438730</td>\n",
       "      <td>2.907486</td>\n",
       "    </tr>\n",
       "    <tr>\n",
       "      <td>16</td>\n",
       "      <td>Apapa</td>\n",
       "      <td>217661</td>\n",
       "      <td>6.445187</td>\n",
       "      <td>3.368373</td>\n",
       "    </tr>\n",
       "    <tr>\n",
       "      <td>17</td>\n",
       "      <td>Lagos Island</td>\n",
       "      <td>209665</td>\n",
       "      <td>6.514861</td>\n",
       "      <td>3.490866</td>\n",
       "    </tr>\n",
       "    <tr>\n",
       "      <td>18</td>\n",
       "      <td>Epe</td>\n",
       "      <td>181715</td>\n",
       "      <td>6.524750</td>\n",
       "      <td>4.057246</td>\n",
       "    </tr>\n",
       "    <tr>\n",
       "      <td>19</td>\n",
       "      <td>Ibeju-Lekki</td>\n",
       "      <td>117542</td>\n",
       "      <td>6.471125</td>\n",
       "      <td>3.814750</td>\n",
       "    </tr>\n",
       "  </tbody>\n",
       "</table>\n",
       "</div>"
      ],
      "text/plain": [
       "                 LGA       POP  latitude  longitude\n",
       "0           Alimosho  11456783  6.584343   3.257631\n",
       "1   Ajeromi-Ifelodun   2000346  6.455122   3.335946\n",
       "2             Kosofe    665421  6.581974   3.414836\n",
       "3             Mushin    633543  6.527300   3.341400\n",
       "4       Oshodi-Isolo  10621789  6.540010   3.312415\n",
       "5                Ojo    598336  6.457900   3.158000\n",
       "6            Ikorodu    535811  6.619123   3.504127\n",
       "7           Surulere    504409  6.487201   3.353259\n",
       "8              Agege    461123  6.625256   3.311209\n",
       "9       Ifako-Ijaiye    428812  6.663602   3.289491\n",
       "10            Somolu    402992  6.539303   3.379089\n",
       "11      Amuwo-Odofin    318576  6.447023   3.266280\n",
       "12    Lagos Mainland    317980  6.493061   3.388250\n",
       "13             Ikeja    313333  6.604859   3.353204\n",
       "14           Eti-Osa    287958  6.460231   3.532181\n",
       "15           Badagry    241437  6.438730   2.907486\n",
       "16             Apapa    217661  6.445187   3.368373\n",
       "17      Lagos Island    209665  6.514861   3.490866\n",
       "18               Epe    181715  6.524750   4.057246\n",
       "19       Ibeju-Lekki    117542  6.471125   3.814750"
      ]
     },
     "execution_count": 53,
     "metadata": {},
     "output_type": "execute_result"
    }
   ],
   "source": [
    "# lets drop the column \"unnamed\"\n",
    "compiled_df.drop(['Unnamed: 0'], axis = 1,inplace = True) \n",
    "compiled_df"
   ]
  },
  {
   "cell_type": "markdown",
   "metadata": {
    "colab_type": "text",
    "id": "awqo0glw9y9z"
   },
   "source": [
    "Now Let's explore the data using foursquare API"
   ]
  },
  {
   "cell_type": "code",
   "execution_count": 54,
   "metadata": {
    "colab": {
     "base_uri": "https://localhost:8080/",
     "height": 67
    },
    "colab_type": "code",
    "id": "IcLLLBoT9yAX",
    "outputId": "db6b9fe4-b0ea-422a-b778-4f81f211261d"
   },
   "outputs": [
    {
     "name": "stdout",
     "output_type": "stream",
     "text": [
      "Your credentials:\n",
      "CLIENT_ID: PJSZT3QA54UA1VYW0VH4AYT30HWXXIJG0LFDRCTITDB3X5CD\n",
      "CLIENT_SECRET:TETQTTIFLDIS00B4FPS00HAHTJMS4KQILT12DNX05BKFGKUB\n"
     ]
    }
   ],
   "source": [
    "CLIENT_ID = 'PJSZT3QA54UA1VYW0VH4AYT30HWXXIJG0LFDRCTITDB3X5CD' # your Foursquare ID\n",
    "CLIENT_SECRET = 'TETQTTIFLDIS00B4FPS00HAHTJMS4KQILT12DNX05BKFGKUB' # your Foursquare Secret\n",
    "VERSION = '20200606'\n",
    "LIMIT = 100\n",
    "print('Your credentials:')\n",
    "print('CLIENT_ID: ' + CLIENT_ID)\n",
    "print('CLIENT_SECRET:' + CLIENT_SECRET)"
   ]
  },
  {
   "cell_type": "code",
   "execution_count": 55,
   "metadata": {
    "colab": {
     "base_uri": "https://localhost:8080/",
     "height": 195
    },
    "colab_type": "code",
    "id": "i6DqYAe2A7UZ",
    "outputId": "2c913205-79f0-4b99-f0ae-8bbdb36c44d8"
   },
   "outputs": [
    {
     "data": {
      "text/html": [
       "<div>\n",
       "<style scoped>\n",
       "    .dataframe tbody tr th:only-of-type {\n",
       "        vertical-align: middle;\n",
       "    }\n",
       "\n",
       "    .dataframe tbody tr th {\n",
       "        vertical-align: top;\n",
       "    }\n",
       "\n",
       "    .dataframe thead th {\n",
       "        text-align: right;\n",
       "    }\n",
       "</style>\n",
       "<table border=\"1\" class=\"dataframe\">\n",
       "  <thead>\n",
       "    <tr style=\"text-align: right;\">\n",
       "      <th></th>\n",
       "      <th>LGA</th>\n",
       "      <th>POP</th>\n",
       "      <th>latitude</th>\n",
       "      <th>longitude</th>\n",
       "    </tr>\n",
       "  </thead>\n",
       "  <tbody>\n",
       "    <tr>\n",
       "      <td>0</td>\n",
       "      <td>Alimosho</td>\n",
       "      <td>11456783</td>\n",
       "      <td>6.584343</td>\n",
       "      <td>3.257631</td>\n",
       "    </tr>\n",
       "    <tr>\n",
       "      <td>1</td>\n",
       "      <td>Ajeromi-Ifelodun</td>\n",
       "      <td>2000346</td>\n",
       "      <td>6.455122</td>\n",
       "      <td>3.335946</td>\n",
       "    </tr>\n",
       "    <tr>\n",
       "      <td>2</td>\n",
       "      <td>Kosofe</td>\n",
       "      <td>665421</td>\n",
       "      <td>6.581974</td>\n",
       "      <td>3.414836</td>\n",
       "    </tr>\n",
       "    <tr>\n",
       "      <td>3</td>\n",
       "      <td>Mushin</td>\n",
       "      <td>633543</td>\n",
       "      <td>6.527300</td>\n",
       "      <td>3.341400</td>\n",
       "    </tr>\n",
       "    <tr>\n",
       "      <td>4</td>\n",
       "      <td>Oshodi-Isolo</td>\n",
       "      <td>10621789</td>\n",
       "      <td>6.540010</td>\n",
       "      <td>3.312415</td>\n",
       "    </tr>\n",
       "  </tbody>\n",
       "</table>\n",
       "</div>"
      ],
      "text/plain": [
       "                LGA       POP  latitude  longitude\n",
       "0          Alimosho  11456783  6.584343   3.257631\n",
       "1  Ajeromi-Ifelodun   2000346  6.455122   3.335946\n",
       "2            Kosofe    665421  6.581974   3.414836\n",
       "3            Mushin    633543  6.527300   3.341400\n",
       "4      Oshodi-Isolo  10621789  6.540010   3.312415"
      ]
     },
     "execution_count": 55,
     "metadata": {},
     "output_type": "execute_result"
    }
   ],
   "source": [
    "compiled_df.head()"
   ]
  },
  {
   "cell_type": "markdown",
   "metadata": {
    "colab_type": "text",
    "id": "T0xVOE2NCnAm"
   },
   "source": [
    "##### Let's Create a map of Lagos State with LGAs superimposed on top."
   ]
  },
  {
   "cell_type": "code",
   "execution_count": 56,
   "metadata": {
    "colab": {
     "base_uri": "https://localhost:8080/",
     "height": 34
    },
    "colab_type": "code",
    "id": "jCJ0CX8RDBJY",
    "outputId": "1998fbaa-16bc-47dc-aa9c-68c85c5cc5bd"
   },
   "outputs": [
    {
     "name": "stdout",
     "output_type": "stream",
     "text": [
      "The geograpical coordinate of Lagos State are 6.4550575, 3.3941795.\n"
     ]
    }
   ],
   "source": [
    "#let's returnt the geographical coordinates of Lagos state with geopy\n",
    "address = 'Lagos, NG'\n",
    "\n",
    "geolocator = Nominatim(user_agent=\"ng_explorer\")\n",
    "location = geolocator.geocode(address)\n",
    "latitude = location.latitude\n",
    "longitude = location.longitude\n",
    "print('The geograpical coordinate of Lagos State are {}, {}.'.format(latitude, longitude))"
   ]
  },
  {
   "cell_type": "code",
   "execution_count": 57,
   "metadata": {
    "colab": {
     "base_uri": "https://localhost:8080/",
     "height": 858
    },
    "colab_type": "code",
    "id": "mRPWeNjGDcFs",
    "outputId": "8d9102fc-b595-497b-dbfb-7d64a6227939"
   },
   "outputs": [
    {
     "data": {
      "text/html": [
       "<div style=\"width:100%;\"><div style=\"position:relative;width:100%;height:0;padding-bottom:60%;\"><span style=\"color:#565656\">Make this Notebook Trusted to load map: File -> Trust Notebook</span><iframe src=\"about:blank\" style=\"position:absolute;width:100%;height:100%;left:0;top:0;border:none !important;\" data-html=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 onload=\"this.contentDocument.open();this.contentDocument.write(atob(this.getAttribute('data-html')));this.contentDocument.close();\" allowfullscreen webkitallowfullscreen mozallowfullscreen></iframe></div></div>"
      ],
      "text/plain": [
       "<folium.folium.Map at 0x22838360808>"
      ]
     },
     "execution_count": 57,
     "metadata": {},
     "output_type": "execute_result"
    }
   ],
   "source": [
    "# next let's create a map showcasing lagos state LGAs\n",
    "map_lagos_state = folium.Map(location=[latitude, longitude], zoom_start=10)\n",
    "\n",
    "# add markers to map\n",
    "for lat, lng, LGA  in zip(compiled_df['latitude'], compiled_df['longitude'], compiled_df['LGA']):\n",
    "    label = '{}'.format(LGA)\n",
    "    label = folium.Popup(label, parse_html=True)\n",
    "    folium.CircleMarker(\n",
    "        [lat, lng],\n",
    "        radius=6,\n",
    "        popup=label,\n",
    "        color='green',\n",
    "        fill=True,\n",
    "        fill_color='white',\n",
    "        fill_opacity=0.7,\n",
    "        parse_html=False).add_to(map_lagos_state)  \n",
    "    \n",
    "map_lagos_state"
   ]
  },
  {
   "cell_type": "markdown",
   "metadata": {
    "colab_type": "text",
    "id": "bkPieyW1Oj7z"
   },
   "source": [
    "#### Let's create a method to return a DataFrame of the venues in lagos state in each LGA "
   ]
  },
  {
   "cell_type": "code",
   "execution_count": 58,
   "metadata": {
    "colab": {},
    "colab_type": "code",
    "id": "k4Ymj-JiFnOR"
   },
   "outputs": [],
   "source": [
    "def getNearbyVenues(names, latitudes, longitudes, radius=10000):\n",
    "    \n",
    "    venues_list=[]\n",
    "    for name, lat, lng in zip(names, latitudes, longitudes):\n",
    "        print(name)\n",
    "            \n",
    "        # create the API request URL\n",
    "        url = 'https://api.foursquare.com/v2/venues/explore?&client_id={}&client_secret={}&v={}&ll={},{}&radius={}&limit={}'.format(\n",
    "            CLIENT_ID, \n",
    "            CLIENT_SECRET, \n",
    "            VERSION, \n",
    "            lat, \n",
    "            lng, \n",
    "            radius, \n",
    "            LIMIT)\n",
    "            \n",
    "        # make the GET request\n",
    "        results = requests.get(url).json()[\"response\"]['groups'][0]['items']\n",
    "        \n",
    "        # return only relevant information for each nearby venue\n",
    "        venues_list.append([(\n",
    "            name, \n",
    "            lat, \n",
    "            lng, \n",
    "            v['venue']['name'], \n",
    "            v['venue']['location']['lat'], \n",
    "            v['venue']['location']['lng'],  \n",
    "            v['venue']['categories'][0]['name']) for v in results])\n",
    "\n",
    "    nearby_venues = pd.DataFrame([item for venue_list in venues_list for item in venue_list])\n",
    "    nearby_venues.columns = ['LGA', \n",
    "                  'LGA_Latitude', \n",
    "                  'LGA_Longitude', \n",
    "                  'Venue', \n",
    "                  'Venue_Latitude', \n",
    "                  'Venue_Longitude', \n",
    "                  'Venue_Category']\n",
    "    \n",
    "    return(nearby_venues)"
   ]
  },
  {
   "cell_type": "code",
   "execution_count": 59,
   "metadata": {
    "colab": {
     "base_uri": "https://localhost:8080/",
     "height": 353
    },
    "colab_type": "code",
    "id": "iyZQZzVjJLDk",
    "outputId": "43669104-3d0e-4336-9493-0809789b58cd"
   },
   "outputs": [
    {
     "name": "stdout",
     "output_type": "stream",
     "text": [
      "Alimosho\n",
      "Ajeromi-Ifelodun\n",
      "Kosofe\n",
      "Mushin\n",
      "Oshodi-Isolo\n",
      "Ojo\n",
      "Ikorodu\n",
      "Surulere\n",
      "Agege\n",
      "Ifako-Ijaiye\n",
      "Somolu\n",
      "Amuwo-Odofin\n",
      "Lagos Mainland\n",
      "Ikeja\n",
      "Eti-Osa\n",
      "Badagry\n",
      "Apapa\n",
      "Lagos Island\n",
      "Epe\n",
      "Ibeju-Lekki\n"
     ]
    }
   ],
   "source": [
    "lagos_state_venues = getNearbyVenues(names= compiled_df['LGA'],\n",
    "                                     latitudes= compiled_df['latitude'],\n",
    "                                     longitudes= compiled_df['longitude'])"
   ]
  },
  {
   "cell_type": "markdown",
   "metadata": {
    "colab_type": "text",
    "id": "KDLlrZ9QKnwj"
   },
   "source": [
    "#### Let's check the size of the resulting dataframe and the first 5 rows."
   ]
  },
  {
   "cell_type": "code",
   "execution_count": 60,
   "metadata": {
    "colab": {
     "base_uri": "https://localhost:8080/",
     "height": 418
    },
    "colab_type": "code",
    "id": "m3MqRV9UKrlb",
    "outputId": "8cb1f15e-c0b2-42ae-c92b-5bc446f55df9"
   },
   "outputs": [
    {
     "data": {
      "text/plain": [
       "(1153, 7)"
      ]
     },
     "execution_count": 60,
     "metadata": {},
     "output_type": "execute_result"
    }
   ],
   "source": [
    "lagos_state_venues.shape"
   ]
  },
  {
   "cell_type": "code",
   "execution_count": 61,
   "metadata": {},
   "outputs": [
    {
     "data": {
      "text/html": [
       "<div>\n",
       "<style scoped>\n",
       "    .dataframe tbody tr th:only-of-type {\n",
       "        vertical-align: middle;\n",
       "    }\n",
       "\n",
       "    .dataframe tbody tr th {\n",
       "        vertical-align: top;\n",
       "    }\n",
       "\n",
       "    .dataframe thead th {\n",
       "        text-align: right;\n",
       "    }\n",
       "</style>\n",
       "<table border=\"1\" class=\"dataframe\">\n",
       "  <thead>\n",
       "    <tr style=\"text-align: right;\">\n",
       "      <th></th>\n",
       "      <th>LGA</th>\n",
       "      <th>LGA_Latitude</th>\n",
       "      <th>LGA_Longitude</th>\n",
       "      <th>Venue</th>\n",
       "      <th>Venue_Latitude</th>\n",
       "      <th>Venue_Longitude</th>\n",
       "      <th>Venue_Category</th>\n",
       "    </tr>\n",
       "  </thead>\n",
       "  <tbody>\n",
       "    <tr>\n",
       "      <td>0</td>\n",
       "      <td>Alimosho</td>\n",
       "      <td>6.584343</td>\n",
       "      <td>3.257631</td>\n",
       "      <td>SHAWARMA.COME</td>\n",
       "      <td>6.604609</td>\n",
       "      <td>3.277413</td>\n",
       "      <td>Pizza Place</td>\n",
       "    </tr>\n",
       "    <tr>\n",
       "      <td>1</td>\n",
       "      <td>Alimosho</td>\n",
       "      <td>6.584343</td>\n",
       "      <td>3.257631</td>\n",
       "      <td>Ipaja market ipaja</td>\n",
       "      <td>6.602248</td>\n",
       "      <td>3.255585</td>\n",
       "      <td>Market</td>\n",
       "    </tr>\n",
       "    <tr>\n",
       "      <td>2</td>\n",
       "      <td>Alimosho</td>\n",
       "      <td>6.584343</td>\n",
       "      <td>3.257631</td>\n",
       "      <td>Wings Restaurant</td>\n",
       "      <td>6.576023</td>\n",
       "      <td>3.325612</td>\n",
       "      <td>Restaurant</td>\n",
       "    </tr>\n",
       "    <tr>\n",
       "      <td>3</td>\n",
       "      <td>Alimosho</td>\n",
       "      <td>6.584343</td>\n",
       "      <td>3.257631</td>\n",
       "      <td>Tantalisers</td>\n",
       "      <td>6.649299</td>\n",
       "      <td>3.265609</td>\n",
       "      <td>Burger Joint</td>\n",
       "    </tr>\n",
       "    <tr>\n",
       "      <td>4</td>\n",
       "      <td>Alimosho</td>\n",
       "      <td>6.584343</td>\n",
       "      <td>3.257631</td>\n",
       "      <td>De Grange suites &amp; bar</td>\n",
       "      <td>6.602309</td>\n",
       "      <td>3.267038</td>\n",
       "      <td>Bar</td>\n",
       "    </tr>\n",
       "  </tbody>\n",
       "</table>\n",
       "</div>"
      ],
      "text/plain": [
       "        LGA  LGA_Latitude  LGA_Longitude                   Venue  \\\n",
       "0  Alimosho      6.584343       3.257631           SHAWARMA.COME   \n",
       "1  Alimosho      6.584343       3.257631      Ipaja market ipaja   \n",
       "2  Alimosho      6.584343       3.257631        Wings Restaurant   \n",
       "3  Alimosho      6.584343       3.257631             Tantalisers   \n",
       "4  Alimosho      6.584343       3.257631  De Grange suites & bar   \n",
       "\n",
       "   Venue_Latitude  Venue_Longitude Venue_Category  \n",
       "0        6.604609         3.277413    Pizza Place  \n",
       "1        6.602248         3.255585         Market  \n",
       "2        6.576023         3.325612     Restaurant  \n",
       "3        6.649299         3.265609   Burger Joint  \n",
       "4        6.602309         3.267038            Bar  "
      ]
     },
     "execution_count": 61,
     "metadata": {},
     "output_type": "execute_result"
    }
   ],
   "source": [
    "lagos_state_venues.head(5)"
   ]
  },
  {
   "cell_type": "markdown",
   "metadata": {
    "colab_type": "text",
    "id": "y6EmxfouL6PK"
   },
   "source": [
    "#### Let's see how many venues were returned for each neighborhood"
   ]
  },
  {
   "cell_type": "code",
   "execution_count": 62,
   "metadata": {
    "colab": {
     "base_uri": "https://localhost:8080/",
     "height": 669
    },
    "colab_type": "code",
    "id": "BaNCPbxOL5RJ",
    "outputId": "7f896e40-64eb-439d-bc1b-f7276d67915f",
    "scrolled": true
   },
   "outputs": [
    {
     "data": {
      "text/html": [
       "<div>\n",
       "<style scoped>\n",
       "    .dataframe tbody tr th:only-of-type {\n",
       "        vertical-align: middle;\n",
       "    }\n",
       "\n",
       "    .dataframe tbody tr th {\n",
       "        vertical-align: top;\n",
       "    }\n",
       "\n",
       "    .dataframe thead th {\n",
       "        text-align: right;\n",
       "    }\n",
       "</style>\n",
       "<table border=\"1\" class=\"dataframe\">\n",
       "  <thead>\n",
       "    <tr style=\"text-align: right;\">\n",
       "      <th></th>\n",
       "      <th>LGA_Latitude</th>\n",
       "      <th>LGA_Longitude</th>\n",
       "      <th>Venue</th>\n",
       "      <th>Venue_Latitude</th>\n",
       "      <th>Venue_Longitude</th>\n",
       "      <th>Venue_Category</th>\n",
       "    </tr>\n",
       "    <tr>\n",
       "      <th>LGA</th>\n",
       "      <th></th>\n",
       "      <th></th>\n",
       "      <th></th>\n",
       "      <th></th>\n",
       "      <th></th>\n",
       "      <th></th>\n",
       "    </tr>\n",
       "  </thead>\n",
       "  <tbody>\n",
       "    <tr>\n",
       "      <td>Agege</td>\n",
       "      <td>89</td>\n",
       "      <td>89</td>\n",
       "      <td>89</td>\n",
       "      <td>89</td>\n",
       "      <td>89</td>\n",
       "      <td>89</td>\n",
       "    </tr>\n",
       "    <tr>\n",
       "      <td>Ajeromi-Ifelodun</td>\n",
       "      <td>54</td>\n",
       "      <td>54</td>\n",
       "      <td>54</td>\n",
       "      <td>54</td>\n",
       "      <td>54</td>\n",
       "      <td>54</td>\n",
       "    </tr>\n",
       "    <tr>\n",
       "      <td>Alimosho</td>\n",
       "      <td>39</td>\n",
       "      <td>39</td>\n",
       "      <td>39</td>\n",
       "      <td>39</td>\n",
       "      <td>39</td>\n",
       "      <td>39</td>\n",
       "    </tr>\n",
       "    <tr>\n",
       "      <td>Amuwo-Odofin</td>\n",
       "      <td>18</td>\n",
       "      <td>18</td>\n",
       "      <td>18</td>\n",
       "      <td>18</td>\n",
       "      <td>18</td>\n",
       "      <td>18</td>\n",
       "    </tr>\n",
       "    <tr>\n",
       "      <td>Apapa</td>\n",
       "      <td>100</td>\n",
       "      <td>100</td>\n",
       "      <td>100</td>\n",
       "      <td>100</td>\n",
       "      <td>100</td>\n",
       "      <td>100</td>\n",
       "    </tr>\n",
       "    <tr>\n",
       "      <td>Badagry</td>\n",
       "      <td>5</td>\n",
       "      <td>5</td>\n",
       "      <td>5</td>\n",
       "      <td>5</td>\n",
       "      <td>5</td>\n",
       "      <td>5</td>\n",
       "    </tr>\n",
       "    <tr>\n",
       "      <td>Epe</td>\n",
       "      <td>2</td>\n",
       "      <td>2</td>\n",
       "      <td>2</td>\n",
       "      <td>2</td>\n",
       "      <td>2</td>\n",
       "      <td>2</td>\n",
       "    </tr>\n",
       "    <tr>\n",
       "      <td>Eti-Osa</td>\n",
       "      <td>55</td>\n",
       "      <td>55</td>\n",
       "      <td>55</td>\n",
       "      <td>55</td>\n",
       "      <td>55</td>\n",
       "      <td>55</td>\n",
       "    </tr>\n",
       "    <tr>\n",
       "      <td>Ibeju-Lekki</td>\n",
       "      <td>4</td>\n",
       "      <td>4</td>\n",
       "      <td>4</td>\n",
       "      <td>4</td>\n",
       "      <td>4</td>\n",
       "      <td>4</td>\n",
       "    </tr>\n",
       "    <tr>\n",
       "      <td>Ifako-Ijaiye</td>\n",
       "      <td>61</td>\n",
       "      <td>61</td>\n",
       "      <td>61</td>\n",
       "      <td>61</td>\n",
       "      <td>61</td>\n",
       "      <td>61</td>\n",
       "    </tr>\n",
       "    <tr>\n",
       "      <td>Ikeja</td>\n",
       "      <td>93</td>\n",
       "      <td>93</td>\n",
       "      <td>93</td>\n",
       "      <td>93</td>\n",
       "      <td>93</td>\n",
       "      <td>93</td>\n",
       "    </tr>\n",
       "    <tr>\n",
       "      <td>Ikorodu</td>\n",
       "      <td>4</td>\n",
       "      <td>4</td>\n",
       "      <td>4</td>\n",
       "      <td>4</td>\n",
       "      <td>4</td>\n",
       "      <td>4</td>\n",
       "    </tr>\n",
       "    <tr>\n",
       "      <td>Kosofe</td>\n",
       "      <td>83</td>\n",
       "      <td>83</td>\n",
       "      <td>83</td>\n",
       "      <td>83</td>\n",
       "      <td>83</td>\n",
       "      <td>83</td>\n",
       "    </tr>\n",
       "    <tr>\n",
       "      <td>Lagos Island</td>\n",
       "      <td>54</td>\n",
       "      <td>54</td>\n",
       "      <td>54</td>\n",
       "      <td>54</td>\n",
       "      <td>54</td>\n",
       "      <td>54</td>\n",
       "    </tr>\n",
       "    <tr>\n",
       "      <td>Lagos Mainland</td>\n",
       "      <td>100</td>\n",
       "      <td>100</td>\n",
       "      <td>100</td>\n",
       "      <td>100</td>\n",
       "      <td>100</td>\n",
       "      <td>100</td>\n",
       "    </tr>\n",
       "    <tr>\n",
       "      <td>Mushin</td>\n",
       "      <td>100</td>\n",
       "      <td>100</td>\n",
       "      <td>100</td>\n",
       "      <td>100</td>\n",
       "      <td>100</td>\n",
       "      <td>100</td>\n",
       "    </tr>\n",
       "    <tr>\n",
       "      <td>Ojo</td>\n",
       "      <td>5</td>\n",
       "      <td>5</td>\n",
       "      <td>5</td>\n",
       "      <td>5</td>\n",
       "      <td>5</td>\n",
       "      <td>5</td>\n",
       "    </tr>\n",
       "    <tr>\n",
       "      <td>Oshodi-Isolo</td>\n",
       "      <td>100</td>\n",
       "      <td>100</td>\n",
       "      <td>100</td>\n",
       "      <td>100</td>\n",
       "      <td>100</td>\n",
       "      <td>100</td>\n",
       "    </tr>\n",
       "    <tr>\n",
       "      <td>Somolu</td>\n",
       "      <td>100</td>\n",
       "      <td>100</td>\n",
       "      <td>100</td>\n",
       "      <td>100</td>\n",
       "      <td>100</td>\n",
       "      <td>100</td>\n",
       "    </tr>\n",
       "    <tr>\n",
       "      <td>Surulere</td>\n",
       "      <td>87</td>\n",
       "      <td>87</td>\n",
       "      <td>87</td>\n",
       "      <td>87</td>\n",
       "      <td>87</td>\n",
       "      <td>87</td>\n",
       "    </tr>\n",
       "  </tbody>\n",
       "</table>\n",
       "</div>"
      ],
      "text/plain": [
       "                  LGA_Latitude  LGA_Longitude  Venue  Venue_Latitude  \\\n",
       "LGA                                                                    \n",
       "Agege                       89             89     89              89   \n",
       "Ajeromi-Ifelodun            54             54     54              54   \n",
       "Alimosho                    39             39     39              39   \n",
       "Amuwo-Odofin                18             18     18              18   \n",
       "Apapa                      100            100    100             100   \n",
       "Badagry                      5              5      5               5   \n",
       "Epe                          2              2      2               2   \n",
       "Eti-Osa                     55             55     55              55   \n",
       "Ibeju-Lekki                  4              4      4               4   \n",
       "Ifako-Ijaiye                61             61     61              61   \n",
       "Ikeja                       93             93     93              93   \n",
       "Ikorodu                      4              4      4               4   \n",
       "Kosofe                      83             83     83              83   \n",
       "Lagos Island                54             54     54              54   \n",
       "Lagos Mainland             100            100    100             100   \n",
       "Mushin                     100            100    100             100   \n",
       "Ojo                          5              5      5               5   \n",
       "Oshodi-Isolo               100            100    100             100   \n",
       "Somolu                     100            100    100             100   \n",
       "Surulere                    87             87     87              87   \n",
       "\n",
       "                  Venue_Longitude  Venue_Category  \n",
       "LGA                                                \n",
       "Agege                          89              89  \n",
       "Ajeromi-Ifelodun               54              54  \n",
       "Alimosho                       39              39  \n",
       "Amuwo-Odofin                   18              18  \n",
       "Apapa                         100             100  \n",
       "Badagry                         5               5  \n",
       "Epe                             2               2  \n",
       "Eti-Osa                        55              55  \n",
       "Ibeju-Lekki                     4               4  \n",
       "Ifako-Ijaiye                   61              61  \n",
       "Ikeja                          93              93  \n",
       "Ikorodu                         4               4  \n",
       "Kosofe                         83              83  \n",
       "Lagos Island                   54              54  \n",
       "Lagos Mainland                100             100  \n",
       "Mushin                        100             100  \n",
       "Ojo                             5               5  \n",
       "Oshodi-Isolo                  100             100  \n",
       "Somolu                        100             100  \n",
       "Surulere                       87              87  "
      ]
     },
     "execution_count": 62,
     "metadata": {},
     "output_type": "execute_result"
    }
   ],
   "source": [
    "lgs_venue=lagos_state_venues.groupby('LGA').count()\n",
    "lgs_venue"
   ]
  },
  {
   "cell_type": "code",
   "execution_count": 63,
   "metadata": {
    "scrolled": true
   },
   "outputs": [
    {
     "data": {
      "application/vnd.plotly.v1+json": {
       "config": {
        "linkText": "Export to plot.ly",
        "plotlyServerURL": "https://plot.ly",
        "showLink": true
       },
       "data": [
        {
         "marker": {
          "color": "rgba(220, 20, 60, 0.6)",
          "line": {
           "color": "rgba(220, 20, 60, 1.0)",
           "width": 1
          }
         },
         "name": "Venue",
         "orientation": "v",
         "text": "",
         "type": "bar",
         "x": [
          "Agege",
          "Ajeromi-Ifelodun",
          "Alimosho",
          "Amuwo-Odofin",
          "Apapa",
          "Badagry",
          "Epe",
          "Eti-Osa",
          "Ibeju-Lekki",
          "Ifako-Ijaiye",
          "Ikeja",
          "Ikorodu",
          "Kosofe",
          "Lagos Island",
          "Lagos Mainland",
          "Mushin",
          "Ojo",
          "Oshodi-Isolo",
          "Somolu",
          "Surulere"
         ],
         "y": [
          89,
          54,
          39,
          18,
          100,
          5,
          2,
          55,
          4,
          61,
          93,
          4,
          83,
          54,
          100,
          100,
          5,
          100,
          100,
          87
         ]
        }
       ],
       "layout": {
        "legend": {
         "bgcolor": "#F5F6F9",
         "font": {
          "color": "#4D5663"
         }
        },
        "paper_bgcolor": "#F5F6F9",
        "plot_bgcolor": "#F5F6F9",
        "template": {
         "data": {
          "bar": [
           {
            "error_x": {
             "color": "#2a3f5f"
            },
            "error_y": {
             "color": "#2a3f5f"
            },
            "marker": {
             "line": {
              "color": "#E5ECF6",
              "width": 0.5
             }
            },
            "type": "bar"
           }
          ],
          "barpolar": [
           {
            "marker": {
             "line": {
              "color": "#E5ECF6",
              "width": 0.5
             }
            },
            "type": "barpolar"
           }
          ],
          "carpet": [
           {
            "aaxis": {
             "endlinecolor": "#2a3f5f",
             "gridcolor": "white",
             "linecolor": "white",
             "minorgridcolor": "white",
             "startlinecolor": "#2a3f5f"
            },
            "baxis": {
             "endlinecolor": "#2a3f5f",
             "gridcolor": "white",
             "linecolor": "white",
             "minorgridcolor": "white",
             "startlinecolor": "#2a3f5f"
            },
            "type": "carpet"
           }
          ],
          "choropleth": [
           {
            "colorbar": {
             "outlinewidth": 0,
             "ticks": ""
            },
            "type": "choropleth"
           }
          ],
          "contour": [
           {
            "colorbar": {
             "outlinewidth": 0,
             "ticks": ""
            },
            "colorscale": [
             [
              0,
              "#0d0887"
             ],
             [
              0.1111111111111111,
              "#46039f"
             ],
             [
              0.2222222222222222,
              "#7201a8"
             ],
             [
              0.3333333333333333,
              "#9c179e"
             ],
             [
              0.4444444444444444,
              "#bd3786"
             ],
             [
              0.5555555555555556,
              "#d8576b"
             ],
             [
              0.6666666666666666,
              "#ed7953"
             ],
             [
              0.7777777777777778,
              "#fb9f3a"
             ],
             [
              0.8888888888888888,
              "#fdca26"
             ],
             [
              1,
              "#f0f921"
             ]
            ],
            "type": "contour"
           }
          ],
          "contourcarpet": [
           {
            "colorbar": {
             "outlinewidth": 0,
             "ticks": ""
            },
            "type": "contourcarpet"
           }
          ],
          "heatmap": [
           {
            "colorbar": {
             "outlinewidth": 0,
             "ticks": ""
            },
            "colorscale": [
             [
              0,
              "#0d0887"
             ],
             [
              0.1111111111111111,
              "#46039f"
             ],
             [
              0.2222222222222222,
              "#7201a8"
             ],
             [
              0.3333333333333333,
              "#9c179e"
             ],
             [
              0.4444444444444444,
              "#bd3786"
             ],
             [
              0.5555555555555556,
              "#d8576b"
             ],
             [
              0.6666666666666666,
              "#ed7953"
             ],
             [
              0.7777777777777778,
              "#fb9f3a"
             ],
             [
              0.8888888888888888,
              "#fdca26"
             ],
             [
              1,
              "#f0f921"
             ]
            ],
            "type": "heatmap"
           }
          ],
          "heatmapgl": [
           {
            "colorbar": {
             "outlinewidth": 0,
             "ticks": ""
            },
            "colorscale": [
             [
              0,
              "#0d0887"
             ],
             [
              0.1111111111111111,
              "#46039f"
             ],
             [
              0.2222222222222222,
              "#7201a8"
             ],
             [
              0.3333333333333333,
              "#9c179e"
             ],
             [
              0.4444444444444444,
              "#bd3786"
             ],
             [
              0.5555555555555556,
              "#d8576b"
             ],
             [
              0.6666666666666666,
              "#ed7953"
             ],
             [
              0.7777777777777778,
              "#fb9f3a"
             ],
             [
              0.8888888888888888,
              "#fdca26"
             ],
             [
              1,
              "#f0f921"
             ]
            ],
            "type": "heatmapgl"
           }
          ],
          "histogram": [
           {
            "marker": {
             "colorbar": {
              "outlinewidth": 0,
              "ticks": ""
             }
            },
            "type": "histogram"
           }
          ],
          "histogram2d": [
           {
            "colorbar": {
             "outlinewidth": 0,
             "ticks": ""
            },
            "colorscale": [
             [
              0,
              "#0d0887"
             ],
             [
              0.1111111111111111,
              "#46039f"
             ],
             [
              0.2222222222222222,
              "#7201a8"
             ],
             [
              0.3333333333333333,
              "#9c179e"
             ],
             [
              0.4444444444444444,
              "#bd3786"
             ],
             [
              0.5555555555555556,
              "#d8576b"
             ],
             [
              0.6666666666666666,
              "#ed7953"
             ],
             [
              0.7777777777777778,
              "#fb9f3a"
             ],
             [
              0.8888888888888888,
              "#fdca26"
             ],
             [
              1,
              "#f0f921"
             ]
            ],
            "type": "histogram2d"
           }
          ],
          "histogram2dcontour": [
           {
            "colorbar": {
             "outlinewidth": 0,
             "ticks": ""
            },
            "colorscale": [
             [
              0,
              "#0d0887"
             ],
             [
              0.1111111111111111,
              "#46039f"
             ],
             [
              0.2222222222222222,
              "#7201a8"
             ],
             [
              0.3333333333333333,
              "#9c179e"
             ],
             [
              0.4444444444444444,
              "#bd3786"
             ],
             [
              0.5555555555555556,
              "#d8576b"
             ],
             [
              0.6666666666666666,
              "#ed7953"
             ],
             [
              0.7777777777777778,
              "#fb9f3a"
             ],
             [
              0.8888888888888888,
              "#fdca26"
             ],
             [
              1,
              "#f0f921"
             ]
            ],
            "type": "histogram2dcontour"
           }
          ],
          "mesh3d": [
           {
            "colorbar": {
             "outlinewidth": 0,
             "ticks": ""
            },
            "type": "mesh3d"
           }
          ],
          "parcoords": [
           {
            "line": {
             "colorbar": {
              "outlinewidth": 0,
              "ticks": ""
             }
            },
            "type": "parcoords"
           }
          ],
          "pie": [
           {
            "automargin": true,
            "type": "pie"
           }
          ],
          "scatter": [
           {
            "marker": {
             "colorbar": {
              "outlinewidth": 0,
              "ticks": ""
             }
            },
            "type": "scatter"
           }
          ],
          "scatter3d": [
           {
            "line": {
             "colorbar": {
              "outlinewidth": 0,
              "ticks": ""
             }
            },
            "marker": {
             "colorbar": {
              "outlinewidth": 0,
              "ticks": ""
             }
            },
            "type": "scatter3d"
           }
          ],
          "scattercarpet": [
           {
            "marker": {
             "colorbar": {
              "outlinewidth": 0,
              "ticks": ""
             }
            },
            "type": "scattercarpet"
           }
          ],
          "scattergeo": [
           {
            "marker": {
             "colorbar": {
              "outlinewidth": 0,
              "ticks": ""
             }
            },
            "type": "scattergeo"
           }
          ],
          "scattergl": [
           {
            "marker": {
             "colorbar": {
              "outlinewidth": 0,
              "ticks": ""
             }
            },
            "type": "scattergl"
           }
          ],
          "scattermapbox": [
           {
            "marker": {
             "colorbar": {
              "outlinewidth": 0,
              "ticks": ""
             }
            },
            "type": "scattermapbox"
           }
          ],
          "scatterpolar": [
           {
            "marker": {
             "colorbar": {
              "outlinewidth": 0,
              "ticks": ""
             }
            },
            "type": "scatterpolar"
           }
          ],
          "scatterpolargl": [
           {
            "marker": {
             "colorbar": {
              "outlinewidth": 0,
              "ticks": ""
             }
            },
            "type": "scatterpolargl"
           }
          ],
          "scatterternary": [
           {
            "marker": {
             "colorbar": {
              "outlinewidth": 0,
              "ticks": ""
             }
            },
            "type": "scatterternary"
           }
          ],
          "surface": [
           {
            "colorbar": {
             "outlinewidth": 0,
             "ticks": ""
            },
            "colorscale": [
             [
              0,
              "#0d0887"
             ],
             [
              0.1111111111111111,
              "#46039f"
             ],
             [
              0.2222222222222222,
              "#7201a8"
             ],
             [
              0.3333333333333333,
              "#9c179e"
             ],
             [
              0.4444444444444444,
              "#bd3786"
             ],
             [
              0.5555555555555556,
              "#d8576b"
             ],
             [
              0.6666666666666666,
              "#ed7953"
             ],
             [
              0.7777777777777778,
              "#fb9f3a"
             ],
             [
              0.8888888888888888,
              "#fdca26"
             ],
             [
              1,
              "#f0f921"
             ]
            ],
            "type": "surface"
           }
          ],
          "table": [
           {
            "cells": {
             "fill": {
              "color": "#EBF0F8"
             },
             "line": {
              "color": "white"
             }
            },
            "header": {
             "fill": {
              "color": "#C8D4E3"
             },
             "line": {
              "color": "white"
             }
            },
            "type": "table"
           }
          ]
         },
         "layout": {
          "annotationdefaults": {
           "arrowcolor": "#2a3f5f",
           "arrowhead": 0,
           "arrowwidth": 1
          },
          "coloraxis": {
           "colorbar": {
            "outlinewidth": 0,
            "ticks": ""
           }
          },
          "colorscale": {
           "diverging": [
            [
             0,
             "#8e0152"
            ],
            [
             0.1,
             "#c51b7d"
            ],
            [
             0.2,
             "#de77ae"
            ],
            [
             0.3,
             "#f1b6da"
            ],
            [
             0.4,
             "#fde0ef"
            ],
            [
             0.5,
             "#f7f7f7"
            ],
            [
             0.6,
             "#e6f5d0"
            ],
            [
             0.7,
             "#b8e186"
            ],
            [
             0.8,
             "#7fbc41"
            ],
            [
             0.9,
             "#4d9221"
            ],
            [
             1,
             "#276419"
            ]
           ],
           "sequential": [
            [
             0,
             "#0d0887"
            ],
            [
             0.1111111111111111,
             "#46039f"
            ],
            [
             0.2222222222222222,
             "#7201a8"
            ],
            [
             0.3333333333333333,
             "#9c179e"
            ],
            [
             0.4444444444444444,
             "#bd3786"
            ],
            [
             0.5555555555555556,
             "#d8576b"
            ],
            [
             0.6666666666666666,
             "#ed7953"
            ],
            [
             0.7777777777777778,
             "#fb9f3a"
            ],
            [
             0.8888888888888888,
             "#fdca26"
            ],
            [
             1,
             "#f0f921"
            ]
           ],
           "sequentialminus": [
            [
             0,
             "#0d0887"
            ],
            [
             0.1111111111111111,
             "#46039f"
            ],
            [
             0.2222222222222222,
             "#7201a8"
            ],
            [
             0.3333333333333333,
             "#9c179e"
            ],
            [
             0.4444444444444444,
             "#bd3786"
            ],
            [
             0.5555555555555556,
             "#d8576b"
            ],
            [
             0.6666666666666666,
             "#ed7953"
            ],
            [
             0.7777777777777778,
             "#fb9f3a"
            ],
            [
             0.8888888888888888,
             "#fdca26"
            ],
            [
             1,
             "#f0f921"
            ]
           ]
          },
          "colorway": [
           "#636efa",
           "#EF553B",
           "#00cc96",
           "#ab63fa",
           "#FFA15A",
           "#19d3f3",
           "#FF6692",
           "#B6E880",
           "#FF97FF",
           "#FECB52"
          ],
          "font": {
           "color": "#2a3f5f"
          },
          "geo": {
           "bgcolor": "white",
           "lakecolor": "white",
           "landcolor": "#E5ECF6",
           "showlakes": true,
           "showland": true,
           "subunitcolor": "white"
          },
          "hoverlabel": {
           "align": "left"
          },
          "hovermode": "closest",
          "mapbox": {
           "style": "light"
          },
          "paper_bgcolor": "white",
          "plot_bgcolor": "#E5ECF6",
          "polar": {
           "angularaxis": {
            "gridcolor": "white",
            "linecolor": "white",
            "ticks": ""
           },
           "bgcolor": "#E5ECF6",
           "radialaxis": {
            "gridcolor": "white",
            "linecolor": "white",
            "ticks": ""
           }
          },
          "scene": {
           "xaxis": {
            "backgroundcolor": "#E5ECF6",
            "gridcolor": "white",
            "gridwidth": 2,
            "linecolor": "white",
            "showbackground": true,
            "ticks": "",
            "zerolinecolor": "white"
           },
           "yaxis": {
            "backgroundcolor": "#E5ECF6",
            "gridcolor": "white",
            "gridwidth": 2,
            "linecolor": "white",
            "showbackground": true,
            "ticks": "",
            "zerolinecolor": "white"
           },
           "zaxis": {
            "backgroundcolor": "#E5ECF6",
            "gridcolor": "white",
            "gridwidth": 2,
            "linecolor": "white",
            "showbackground": true,
            "ticks": "",
            "zerolinecolor": "white"
           }
          },
          "shapedefaults": {
           "line": {
            "color": "#2a3f5f"
           }
          },
          "ternary": {
           "aaxis": {
            "gridcolor": "white",
            "linecolor": "white",
            "ticks": ""
           },
           "baxis": {
            "gridcolor": "white",
            "linecolor": "white",
            "ticks": ""
           },
           "bgcolor": "#E5ECF6",
           "caxis": {
            "gridcolor": "white",
            "linecolor": "white",
            "ticks": ""
           }
          },
          "title": {
           "x": 0.05
          },
          "xaxis": {
           "automargin": true,
           "gridcolor": "white",
           "linecolor": "white",
           "ticks": "",
           "title": {
            "standoff": 15
           },
           "zerolinecolor": "white",
           "zerolinewidth": 2
          },
          "yaxis": {
           "automargin": true,
           "gridcolor": "white",
           "linecolor": "white",
           "ticks": "",
           "title": {
            "standoff": 15
           },
           "zerolinecolor": "white",
           "zerolinewidth": 2
          }
         }
        },
        "title": {
         "font": {
          "color": "#4D5663"
         },
         "text": "Total number of venues per LGA"
        },
        "xaxis": {
         "gridcolor": "#E1E5ED",
         "showgrid": true,
         "tickfont": {
          "color": "#4D5663"
         },
         "title": {
          "font": {
           "color": "#4D5663"
          },
          "text": "LGA"
         },
         "zerolinecolor": "#E1E5ED"
        },
        "yaxis": {
         "gridcolor": "#E1E5ED",
         "showgrid": true,
         "tickfont": {
          "color": "#4D5663"
         },
         "title": {
          "font": {
           "color": "#4D5663"
          },
          "text": "Venue"
         },
         "zerolinecolor": "#E1E5ED"
        }
       }
      },
      "text/html": [
       "<div>\n",
       "        \n",
       "        \n",
       "            <div id=\"ac68fc52-a636-4a0a-bdd1-dca20aaee182\" class=\"plotly-graph-div\" style=\"height:525px; width:100%;\"></div>\n",
       "            <script type=\"text/javascript\">\n",
       "                require([\"plotly\"], function(Plotly) {\n",
       "                    window.PLOTLYENV=window.PLOTLYENV || {};\n",
       "                    window.PLOTLYENV.BASE_URL='https://plot.ly';\n",
       "                    \n",
       "                if (document.getElementById(\"ac68fc52-a636-4a0a-bdd1-dca20aaee182\")) {\n",
       "                    Plotly.newPlot(\n",
       "                        'ac68fc52-a636-4a0a-bdd1-dca20aaee182',\n",
       "                        [{\"marker\": {\"color\": \"rgba(220, 20, 60, 0.6)\", \"line\": {\"color\": \"rgba(220, 20, 60, 1.0)\", \"width\": 1}}, \"name\": \"Venue\", \"orientation\": \"v\", \"text\": \"\", \"type\": \"bar\", \"x\": [\"Agege\", \"Ajeromi-Ifelodun\", \"Alimosho\", \"Amuwo-Odofin\", \"Apapa\", \"Badagry\", \"Epe\", \"Eti-Osa\", \"Ibeju-Lekki\", \"Ifako-Ijaiye\", \"Ikeja\", \"Ikorodu\", \"Kosofe\", \"Lagos Island\", \"Lagos Mainland\", \"Mushin\", \"Ojo\", \"Oshodi-Isolo\", \"Somolu\", \"Surulere\"], \"y\": [89, 54, 39, 18, 100, 5, 2, 55, 4, 61, 93, 4, 83, 54, 100, 100, 5, 100, 100, 87]}],\n",
       "                        {\"legend\": {\"bgcolor\": \"#F5F6F9\", \"font\": {\"color\": \"#4D5663\"}}, \"paper_bgcolor\": \"#F5F6F9\", \"plot_bgcolor\": \"#F5F6F9\", \"template\": {\"data\": {\"bar\": [{\"error_x\": {\"color\": \"#2a3f5f\"}, \"error_y\": {\"color\": \"#2a3f5f\"}, \"marker\": {\"line\": {\"color\": \"#E5ECF6\", \"width\": 0.5}}, \"type\": \"bar\"}], \"barpolar\": [{\"marker\": {\"line\": {\"color\": \"#E5ECF6\", \"width\": 0.5}}, \"type\": \"barpolar\"}], \"carpet\": [{\"aaxis\": {\"endlinecolor\": \"#2a3f5f\", \"gridcolor\": \"white\", \"linecolor\": \"white\", \"minorgridcolor\": \"white\", \"startlinecolor\": \"#2a3f5f\"}, \"baxis\": {\"endlinecolor\": \"#2a3f5f\", \"gridcolor\": \"white\", \"linecolor\": \"white\", \"minorgridcolor\": \"white\", \"startlinecolor\": \"#2a3f5f\"}, \"type\": \"carpet\"}], \"choropleth\": [{\"colorbar\": {\"outlinewidth\": 0, \"ticks\": \"\"}, \"type\": \"choropleth\"}], \"contour\": [{\"colorbar\": {\"outlinewidth\": 0, \"ticks\": \"\"}, \"colorscale\": [[0.0, \"#0d0887\"], [0.1111111111111111, \"#46039f\"], [0.2222222222222222, \"#7201a8\"], [0.3333333333333333, \"#9c179e\"], [0.4444444444444444, \"#bd3786\"], [0.5555555555555556, \"#d8576b\"], [0.6666666666666666, \"#ed7953\"], [0.7777777777777778, \"#fb9f3a\"], [0.8888888888888888, \"#fdca26\"], [1.0, \"#f0f921\"]], \"type\": \"contour\"}], \"contourcarpet\": [{\"colorbar\": {\"outlinewidth\": 0, \"ticks\": \"\"}, \"type\": \"contourcarpet\"}], \"heatmap\": [{\"colorbar\": {\"outlinewidth\": 0, \"ticks\": \"\"}, \"colorscale\": [[0.0, \"#0d0887\"], [0.1111111111111111, \"#46039f\"], [0.2222222222222222, \"#7201a8\"], [0.3333333333333333, \"#9c179e\"], [0.4444444444444444, \"#bd3786\"], [0.5555555555555556, \"#d8576b\"], [0.6666666666666666, \"#ed7953\"], [0.7777777777777778, \"#fb9f3a\"], [0.8888888888888888, \"#fdca26\"], [1.0, \"#f0f921\"]], \"type\": \"heatmap\"}], \"heatmapgl\": [{\"colorbar\": {\"outlinewidth\": 0, \"ticks\": \"\"}, \"colorscale\": [[0.0, \"#0d0887\"], [0.1111111111111111, \"#46039f\"], [0.2222222222222222, \"#7201a8\"], [0.3333333333333333, \"#9c179e\"], [0.4444444444444444, \"#bd3786\"], [0.5555555555555556, \"#d8576b\"], [0.6666666666666666, \"#ed7953\"], [0.7777777777777778, \"#fb9f3a\"], [0.8888888888888888, \"#fdca26\"], [1.0, \"#f0f921\"]], \"type\": \"heatmapgl\"}], \"histogram\": [{\"marker\": {\"colorbar\": {\"outlinewidth\": 0, \"ticks\": \"\"}}, \"type\": \"histogram\"}], \"histogram2d\": [{\"colorbar\": {\"outlinewidth\": 0, \"ticks\": \"\"}, \"colorscale\": [[0.0, \"#0d0887\"], [0.1111111111111111, \"#46039f\"], [0.2222222222222222, \"#7201a8\"], [0.3333333333333333, \"#9c179e\"], [0.4444444444444444, \"#bd3786\"], [0.5555555555555556, \"#d8576b\"], [0.6666666666666666, \"#ed7953\"], [0.7777777777777778, \"#fb9f3a\"], [0.8888888888888888, \"#fdca26\"], [1.0, \"#f0f921\"]], \"type\": \"histogram2d\"}], \"histogram2dcontour\": [{\"colorbar\": {\"outlinewidth\": 0, \"ticks\": \"\"}, \"colorscale\": [[0.0, \"#0d0887\"], [0.1111111111111111, \"#46039f\"], [0.2222222222222222, \"#7201a8\"], [0.3333333333333333, \"#9c179e\"], [0.4444444444444444, \"#bd3786\"], [0.5555555555555556, \"#d8576b\"], [0.6666666666666666, \"#ed7953\"], [0.7777777777777778, \"#fb9f3a\"], [0.8888888888888888, \"#fdca26\"], [1.0, \"#f0f921\"]], \"type\": \"histogram2dcontour\"}], \"mesh3d\": [{\"colorbar\": {\"outlinewidth\": 0, \"ticks\": \"\"}, \"type\": \"mesh3d\"}], \"parcoords\": [{\"line\": {\"colorbar\": {\"outlinewidth\": 0, \"ticks\": \"\"}}, \"type\": \"parcoords\"}], \"pie\": [{\"automargin\": true, \"type\": \"pie\"}], \"scatter\": [{\"marker\": {\"colorbar\": {\"outlinewidth\": 0, \"ticks\": \"\"}}, \"type\": \"scatter\"}], \"scatter3d\": [{\"line\": {\"colorbar\": {\"outlinewidth\": 0, \"ticks\": \"\"}}, \"marker\": {\"colorbar\": {\"outlinewidth\": 0, \"ticks\": \"\"}}, \"type\": \"scatter3d\"}], \"scattercarpet\": [{\"marker\": {\"colorbar\": {\"outlinewidth\": 0, \"ticks\": \"\"}}, \"type\": \"scattercarpet\"}], \"scattergeo\": [{\"marker\": {\"colorbar\": {\"outlinewidth\": 0, \"ticks\": \"\"}}, \"type\": \"scattergeo\"}], \"scattergl\": [{\"marker\": {\"colorbar\": {\"outlinewidth\": 0, \"ticks\": \"\"}}, \"type\": \"scattergl\"}], \"scattermapbox\": [{\"marker\": {\"colorbar\": {\"outlinewidth\": 0, \"ticks\": \"\"}}, \"type\": \"scattermapbox\"}], \"scatterpolar\": [{\"marker\": {\"colorbar\": {\"outlinewidth\": 0, \"ticks\": \"\"}}, \"type\": \"scatterpolar\"}], \"scatterpolargl\": [{\"marker\": {\"colorbar\": {\"outlinewidth\": 0, \"ticks\": \"\"}}, \"type\": \"scatterpolargl\"}], \"scatterternary\": [{\"marker\": {\"colorbar\": {\"outlinewidth\": 0, \"ticks\": \"\"}}, \"type\": \"scatterternary\"}], \"surface\": [{\"colorbar\": {\"outlinewidth\": 0, \"ticks\": \"\"}, \"colorscale\": [[0.0, \"#0d0887\"], [0.1111111111111111, \"#46039f\"], [0.2222222222222222, \"#7201a8\"], [0.3333333333333333, \"#9c179e\"], [0.4444444444444444, \"#bd3786\"], [0.5555555555555556, \"#d8576b\"], [0.6666666666666666, \"#ed7953\"], [0.7777777777777778, \"#fb9f3a\"], [0.8888888888888888, \"#fdca26\"], [1.0, \"#f0f921\"]], \"type\": \"surface\"}], \"table\": [{\"cells\": {\"fill\": {\"color\": \"#EBF0F8\"}, \"line\": {\"color\": \"white\"}}, \"header\": {\"fill\": {\"color\": \"#C8D4E3\"}, \"line\": {\"color\": \"white\"}}, \"type\": \"table\"}]}, \"layout\": {\"annotationdefaults\": {\"arrowcolor\": \"#2a3f5f\", \"arrowhead\": 0, \"arrowwidth\": 1}, \"coloraxis\": {\"colorbar\": {\"outlinewidth\": 0, \"ticks\": \"\"}}, \"colorscale\": {\"diverging\": [[0, \"#8e0152\"], [0.1, \"#c51b7d\"], [0.2, \"#de77ae\"], [0.3, \"#f1b6da\"], [0.4, \"#fde0ef\"], [0.5, \"#f7f7f7\"], [0.6, \"#e6f5d0\"], [0.7, \"#b8e186\"], [0.8, \"#7fbc41\"], [0.9, \"#4d9221\"], [1, \"#276419\"]], \"sequential\": [[0.0, \"#0d0887\"], [0.1111111111111111, \"#46039f\"], [0.2222222222222222, \"#7201a8\"], [0.3333333333333333, \"#9c179e\"], [0.4444444444444444, \"#bd3786\"], [0.5555555555555556, \"#d8576b\"], [0.6666666666666666, \"#ed7953\"], [0.7777777777777778, \"#fb9f3a\"], [0.8888888888888888, \"#fdca26\"], [1.0, \"#f0f921\"]], \"sequentialminus\": [[0.0, \"#0d0887\"], [0.1111111111111111, \"#46039f\"], [0.2222222222222222, \"#7201a8\"], [0.3333333333333333, \"#9c179e\"], [0.4444444444444444, \"#bd3786\"], [0.5555555555555556, \"#d8576b\"], [0.6666666666666666, \"#ed7953\"], [0.7777777777777778, \"#fb9f3a\"], [0.8888888888888888, \"#fdca26\"], [1.0, \"#f0f921\"]]}, \"colorway\": [\"#636efa\", \"#EF553B\", \"#00cc96\", \"#ab63fa\", \"#FFA15A\", \"#19d3f3\", \"#FF6692\", \"#B6E880\", \"#FF97FF\", \"#FECB52\"], \"font\": {\"color\": \"#2a3f5f\"}, \"geo\": {\"bgcolor\": \"white\", \"lakecolor\": \"white\", \"landcolor\": \"#E5ECF6\", \"showlakes\": true, \"showland\": true, \"subunitcolor\": \"white\"}, \"hoverlabel\": {\"align\": \"left\"}, \"hovermode\": \"closest\", \"mapbox\": {\"style\": \"light\"}, \"paper_bgcolor\": \"white\", \"plot_bgcolor\": \"#E5ECF6\", \"polar\": {\"angularaxis\": {\"gridcolor\": \"white\", \"linecolor\": \"white\", \"ticks\": \"\"}, \"bgcolor\": \"#E5ECF6\", \"radialaxis\": {\"gridcolor\": \"white\", \"linecolor\": \"white\", \"ticks\": \"\"}}, \"scene\": {\"xaxis\": {\"backgroundcolor\": \"#E5ECF6\", \"gridcolor\": \"white\", \"gridwidth\": 2, \"linecolor\": \"white\", \"showbackground\": true, \"ticks\": \"\", \"zerolinecolor\": \"white\"}, \"yaxis\": {\"backgroundcolor\": \"#E5ECF6\", \"gridcolor\": \"white\", \"gridwidth\": 2, \"linecolor\": \"white\", \"showbackground\": true, \"ticks\": \"\", \"zerolinecolor\": \"white\"}, \"zaxis\": {\"backgroundcolor\": \"#E5ECF6\", \"gridcolor\": \"white\", \"gridwidth\": 2, \"linecolor\": \"white\", \"showbackground\": true, \"ticks\": \"\", \"zerolinecolor\": \"white\"}}, \"shapedefaults\": {\"line\": {\"color\": \"#2a3f5f\"}}, \"ternary\": {\"aaxis\": {\"gridcolor\": \"white\", \"linecolor\": \"white\", \"ticks\": \"\"}, \"baxis\": {\"gridcolor\": \"white\", \"linecolor\": \"white\", \"ticks\": \"\"}, \"bgcolor\": \"#E5ECF6\", \"caxis\": {\"gridcolor\": \"white\", \"linecolor\": \"white\", \"ticks\": \"\"}}, \"title\": {\"x\": 0.05}, \"xaxis\": {\"automargin\": true, \"gridcolor\": \"white\", \"linecolor\": \"white\", \"ticks\": \"\", \"title\": {\"standoff\": 15}, \"zerolinecolor\": \"white\", \"zerolinewidth\": 2}, \"yaxis\": {\"automargin\": true, \"gridcolor\": \"white\", \"linecolor\": \"white\", \"ticks\": \"\", \"title\": {\"standoff\": 15}, \"zerolinecolor\": \"white\", \"zerolinewidth\": 2}}}, \"title\": {\"font\": {\"color\": \"#4D5663\"}, \"text\": \"Total number of venues per LGA\"}, \"xaxis\": {\"gridcolor\": \"#E1E5ED\", \"showgrid\": true, \"tickfont\": {\"color\": \"#4D5663\"}, \"title\": {\"font\": {\"color\": \"#4D5663\"}, \"text\": \"LGA\"}, \"zerolinecolor\": \"#E1E5ED\"}, \"yaxis\": {\"gridcolor\": \"#E1E5ED\", \"showgrid\": true, \"tickfont\": {\"color\": \"#4D5663\"}, \"title\": {\"font\": {\"color\": \"#4D5663\"}, \"text\": \"Venue\"}, \"zerolinecolor\": \"#E1E5ED\"}},\n",
       "                        {\"showLink\": true, \"linkText\": \"Export to plot.ly\", \"plotlyServerURL\": \"https://plot.ly\", \"responsive\": true}\n",
       "                    ).then(function(){\n",
       "                            \n",
       "var gd = document.getElementById('ac68fc52-a636-4a0a-bdd1-dca20aaee182');\n",
       "var x = new MutationObserver(function (mutations, observer) {{\n",
       "        var display = window.getComputedStyle(gd).display;\n",
       "        if (!display || display === 'none') {{\n",
       "            console.log([gd, 'removed!']);\n",
       "            Plotly.purge(gd);\n",
       "            observer.disconnect();\n",
       "        }}\n",
       "}});\n",
       "\n",
       "// Listen for the removal of the full notebook cells\n",
       "var notebookContainer = gd.closest('#notebook-container');\n",
       "if (notebookContainer) {{\n",
       "    x.observe(notebookContainer, {childList: true});\n",
       "}}\n",
       "\n",
       "// Listen for the clearing of the current output cell\n",
       "var outputEl = gd.closest('.output');\n",
       "if (outputEl) {{\n",
       "    x.observe(outputEl, {childList: true});\n",
       "}}\n",
       "\n",
       "                        })\n",
       "                };\n",
       "                });\n",
       "            </script>\n",
       "        </div>"
      ]
     },
     "metadata": {},
     "output_type": "display_data"
    }
   ],
   "source": [
    "#let's visualize the data\n",
    "import plotly.express as px\n",
    "lgs_venue.iplot(kind='bar',xTitle='LGA',\n",
    "    yTitle='Venue',\n",
    "    mode='markers',\n",
    "    color='crimson',\n",
    "    y='Venue',\n",
    "    title='Total number of venues per LGA')"
   ]
  },
  {
   "cell_type": "markdown",
   "metadata": {
    "colab_type": "text",
    "id": "3O2Xpxy3Ms75"
   },
   "source": [
    "#### Let's find out how many unique categories can be curated from all the returned venues"
   ]
  },
  {
   "cell_type": "code",
   "execution_count": 64,
   "metadata": {
    "colab": {
     "base_uri": "https://localhost:8080/",
     "height": 34
    },
    "colab_type": "code",
    "id": "0bF9jnZiMxhI",
    "outputId": "c32a9be4-3022-46db-a1bd-aeb23f766fd8"
   },
   "outputs": [
    {
     "name": "stdout",
     "output_type": "stream",
     "text": [
      "There are 109 unique categories of venues returned for Lagos State.\n"
     ]
    }
   ],
   "source": [
    "print('There are {} unique categories of venues returned for Lagos State.'.format(lagos_state_venues['Venue_Category'].nunique()))"
   ]
  },
  {
   "cell_type": "markdown",
   "metadata": {
    "colab_type": "text",
    "id": "yWeeKedVN8x3"
   },
   "source": [
    "#### Let's return the top 10 most frequent venues for each LGA"
   ]
  },
  {
   "cell_type": "markdown",
   "metadata": {
    "colab_type": "text",
    "id": "WTGlNWTfQ-r8"
   },
   "source": [
    "First let's onehot encode the DataFrame"
   ]
  },
  {
   "cell_type": "code",
   "execution_count": 65,
   "metadata": {
    "colab": {
     "base_uri": "https://localhost:8080/",
     "height": 294
    },
    "colab_type": "code",
    "id": "lGqxvGdSP3Lh",
    "outputId": "db6d86a2-1dbc-43dc-94e1-a63eae0cd686"
   },
   "outputs": [
    {
     "data": {
      "text/html": [
       "<div>\n",
       "<style scoped>\n",
       "    .dataframe tbody tr th:only-of-type {\n",
       "        vertical-align: middle;\n",
       "    }\n",
       "\n",
       "    .dataframe tbody tr th {\n",
       "        vertical-align: top;\n",
       "    }\n",
       "\n",
       "    .dataframe thead th {\n",
       "        text-align: right;\n",
       "    }\n",
       "</style>\n",
       "<table border=\"1\" class=\"dataframe\">\n",
       "  <thead>\n",
       "    <tr style=\"text-align: right;\">\n",
       "      <th></th>\n",
       "      <th>LGA</th>\n",
       "      <th>African Restaurant</th>\n",
       "      <th>Airport</th>\n",
       "      <th>Airport Food Court</th>\n",
       "      <th>Airport Lounge</th>\n",
       "      <th>Airport Terminal</th>\n",
       "      <th>American Restaurant</th>\n",
       "      <th>Arcade</th>\n",
       "      <th>Art Gallery</th>\n",
       "      <th>Arts &amp; Entertainment</th>\n",
       "      <th>...</th>\n",
       "      <th>Stables</th>\n",
       "      <th>Steakhouse</th>\n",
       "      <th>Strip Club</th>\n",
       "      <th>Supermarket</th>\n",
       "      <th>Surf Spot</th>\n",
       "      <th>Sushi Restaurant</th>\n",
       "      <th>Theater</th>\n",
       "      <th>Theme Restaurant</th>\n",
       "      <th>Toll Plaza</th>\n",
       "      <th>Vineyard</th>\n",
       "    </tr>\n",
       "  </thead>\n",
       "  <tbody>\n",
       "    <tr>\n",
       "      <td>0</td>\n",
       "      <td>Alimosho</td>\n",
       "      <td>0</td>\n",
       "      <td>0</td>\n",
       "      <td>0</td>\n",
       "      <td>0</td>\n",
       "      <td>0</td>\n",
       "      <td>0</td>\n",
       "      <td>0</td>\n",
       "      <td>0</td>\n",
       "      <td>0</td>\n",
       "      <td>...</td>\n",
       "      <td>0</td>\n",
       "      <td>0</td>\n",
       "      <td>0</td>\n",
       "      <td>0</td>\n",
       "      <td>0</td>\n",
       "      <td>0</td>\n",
       "      <td>0</td>\n",
       "      <td>0</td>\n",
       "      <td>0</td>\n",
       "      <td>0</td>\n",
       "    </tr>\n",
       "    <tr>\n",
       "      <td>1</td>\n",
       "      <td>Alimosho</td>\n",
       "      <td>0</td>\n",
       "      <td>0</td>\n",
       "      <td>0</td>\n",
       "      <td>0</td>\n",
       "      <td>0</td>\n",
       "      <td>0</td>\n",
       "      <td>0</td>\n",
       "      <td>0</td>\n",
       "      <td>0</td>\n",
       "      <td>...</td>\n",
       "      <td>0</td>\n",
       "      <td>0</td>\n",
       "      <td>0</td>\n",
       "      <td>0</td>\n",
       "      <td>0</td>\n",
       "      <td>0</td>\n",
       "      <td>0</td>\n",
       "      <td>0</td>\n",
       "      <td>0</td>\n",
       "      <td>0</td>\n",
       "    </tr>\n",
       "    <tr>\n",
       "      <td>2</td>\n",
       "      <td>Alimosho</td>\n",
       "      <td>0</td>\n",
       "      <td>0</td>\n",
       "      <td>0</td>\n",
       "      <td>0</td>\n",
       "      <td>0</td>\n",
       "      <td>0</td>\n",
       "      <td>0</td>\n",
       "      <td>0</td>\n",
       "      <td>0</td>\n",
       "      <td>...</td>\n",
       "      <td>0</td>\n",
       "      <td>0</td>\n",
       "      <td>0</td>\n",
       "      <td>0</td>\n",
       "      <td>0</td>\n",
       "      <td>0</td>\n",
       "      <td>0</td>\n",
       "      <td>0</td>\n",
       "      <td>0</td>\n",
       "      <td>0</td>\n",
       "    </tr>\n",
       "    <tr>\n",
       "      <td>3</td>\n",
       "      <td>Alimosho</td>\n",
       "      <td>0</td>\n",
       "      <td>0</td>\n",
       "      <td>0</td>\n",
       "      <td>0</td>\n",
       "      <td>0</td>\n",
       "      <td>0</td>\n",
       "      <td>0</td>\n",
       "      <td>0</td>\n",
       "      <td>0</td>\n",
       "      <td>...</td>\n",
       "      <td>0</td>\n",
       "      <td>0</td>\n",
       "      <td>0</td>\n",
       "      <td>0</td>\n",
       "      <td>0</td>\n",
       "      <td>0</td>\n",
       "      <td>0</td>\n",
       "      <td>0</td>\n",
       "      <td>0</td>\n",
       "      <td>0</td>\n",
       "    </tr>\n",
       "    <tr>\n",
       "      <td>4</td>\n",
       "      <td>Alimosho</td>\n",
       "      <td>0</td>\n",
       "      <td>0</td>\n",
       "      <td>0</td>\n",
       "      <td>0</td>\n",
       "      <td>0</td>\n",
       "      <td>0</td>\n",
       "      <td>0</td>\n",
       "      <td>0</td>\n",
       "      <td>0</td>\n",
       "      <td>...</td>\n",
       "      <td>0</td>\n",
       "      <td>0</td>\n",
       "      <td>0</td>\n",
       "      <td>0</td>\n",
       "      <td>0</td>\n",
       "      <td>0</td>\n",
       "      <td>0</td>\n",
       "      <td>0</td>\n",
       "      <td>0</td>\n",
       "      <td>0</td>\n",
       "    </tr>\n",
       "  </tbody>\n",
       "</table>\n",
       "<p>5 rows × 110 columns</p>\n",
       "</div>"
      ],
      "text/plain": [
       "        LGA  African Restaurant  Airport  Airport Food Court  Airport Lounge  \\\n",
       "0  Alimosho                   0        0                   0               0   \n",
       "1  Alimosho                   0        0                   0               0   \n",
       "2  Alimosho                   0        0                   0               0   \n",
       "3  Alimosho                   0        0                   0               0   \n",
       "4  Alimosho                   0        0                   0               0   \n",
       "\n",
       "   Airport Terminal  American Restaurant  Arcade  Art Gallery  \\\n",
       "0                 0                    0       0            0   \n",
       "1                 0                    0       0            0   \n",
       "2                 0                    0       0            0   \n",
       "3                 0                    0       0            0   \n",
       "4                 0                    0       0            0   \n",
       "\n",
       "   Arts & Entertainment  ...  Stables  Steakhouse  Strip Club  Supermarket  \\\n",
       "0                     0  ...        0           0           0            0   \n",
       "1                     0  ...        0           0           0            0   \n",
       "2                     0  ...        0           0           0            0   \n",
       "3                     0  ...        0           0           0            0   \n",
       "4                     0  ...        0           0           0            0   \n",
       "\n",
       "   Surf Spot  Sushi Restaurant  Theater  Theme Restaurant  Toll Plaza  \\\n",
       "0          0                 0        0                 0           0   \n",
       "1          0                 0        0                 0           0   \n",
       "2          0                 0        0                 0           0   \n",
       "3          0                 0        0                 0           0   \n",
       "4          0                 0        0                 0           0   \n",
       "\n",
       "   Vineyard  \n",
       "0         0  \n",
       "1         0  \n",
       "2         0  \n",
       "3         0  \n",
       "4         0  \n",
       "\n",
       "[5 rows x 110 columns]"
      ]
     },
     "execution_count": 65,
     "metadata": {},
     "output_type": "execute_result"
    }
   ],
   "source": [
    "# one hot encoding\n",
    "lagos_onehot = pd.get_dummies(lagos_state_venues[['Venue_Category']], prefix=\"\", prefix_sep=\"\")\n",
    "\n",
    "# add LGA column back to dataframe\n",
    "lagos_onehot['LGA'] = lagos_state_venues['LGA'] \n",
    "\n",
    "# move LGA column to the first column\n",
    "fixed_columns = [lagos_onehot.columns[-1]] + list(lagos_onehot.columns[:-1])\n",
    "lagos_onehot = lagos_onehot[fixed_columns]\n",
    "\n",
    "lagos_onehot.head()"
   ]
  },
  {
   "cell_type": "markdown",
   "metadata": {
    "colab_type": "text",
    "id": "KbpLHsyERJMm"
   },
   "source": [
    "And let's examine the new dataframe size."
   ]
  },
  {
   "cell_type": "code",
   "execution_count": 66,
   "metadata": {
    "colab": {
     "base_uri": "https://localhost:8080/",
     "height": 34
    },
    "colab_type": "code",
    "id": "4iPXiaQZRM7z",
    "outputId": "2bdc1df1-59b8-40c9-dabc-b46298c9040c"
   },
   "outputs": [
    {
     "data": {
      "text/plain": [
       "(1153, 110)"
      ]
     },
     "execution_count": 66,
     "metadata": {},
     "output_type": "execute_result"
    }
   ],
   "source": [
    "lagos_onehot.shape"
   ]
  },
  {
   "cell_type": "markdown",
   "metadata": {
    "colab_type": "text",
    "id": "MSXPAJlxR1y7"
   },
   "source": [
    "Next, let's group rows by LGA and taking the mean of the frequency for each category"
   ]
  },
  {
   "cell_type": "code",
   "execution_count": 67,
   "metadata": {
    "colab": {
     "base_uri": "https://localhost:8080/",
     "height": 873
    },
    "colab_type": "code",
    "id": "aT_OjMZqR5Zi",
    "outputId": "4c563d96-6b8a-442c-b47e-6110e1c7496c"
   },
   "outputs": [
    {
     "data": {
      "text/html": [
       "<div>\n",
       "<style scoped>\n",
       "    .dataframe tbody tr th:only-of-type {\n",
       "        vertical-align: middle;\n",
       "    }\n",
       "\n",
       "    .dataframe tbody tr th {\n",
       "        vertical-align: top;\n",
       "    }\n",
       "\n",
       "    .dataframe thead th {\n",
       "        text-align: right;\n",
       "    }\n",
       "</style>\n",
       "<table border=\"1\" class=\"dataframe\">\n",
       "  <thead>\n",
       "    <tr style=\"text-align: right;\">\n",
       "      <th></th>\n",
       "      <th>LGA</th>\n",
       "      <th>African Restaurant</th>\n",
       "      <th>Airport</th>\n",
       "      <th>Airport Food Court</th>\n",
       "      <th>Airport Lounge</th>\n",
       "      <th>Airport Terminal</th>\n",
       "      <th>American Restaurant</th>\n",
       "      <th>Arcade</th>\n",
       "      <th>Art Gallery</th>\n",
       "      <th>Arts &amp; Entertainment</th>\n",
       "      <th>...</th>\n",
       "      <th>Stables</th>\n",
       "      <th>Steakhouse</th>\n",
       "      <th>Strip Club</th>\n",
       "      <th>Supermarket</th>\n",
       "      <th>Surf Spot</th>\n",
       "      <th>Sushi Restaurant</th>\n",
       "      <th>Theater</th>\n",
       "      <th>Theme Restaurant</th>\n",
       "      <th>Toll Plaza</th>\n",
       "      <th>Vineyard</th>\n",
       "    </tr>\n",
       "  </thead>\n",
       "  <tbody>\n",
       "    <tr>\n",
       "      <td>0</td>\n",
       "      <td>Agege</td>\n",
       "      <td>0.033708</td>\n",
       "      <td>0.022472</td>\n",
       "      <td>0.011236</td>\n",
       "      <td>0.022472</td>\n",
       "      <td>0.000000</td>\n",
       "      <td>0.011236</td>\n",
       "      <td>0.000000</td>\n",
       "      <td>0.000000</td>\n",
       "      <td>0.000000</td>\n",
       "      <td>...</td>\n",
       "      <td>0.000000</td>\n",
       "      <td>0.011236</td>\n",
       "      <td>0.0</td>\n",
       "      <td>0.000000</td>\n",
       "      <td>0.000000</td>\n",
       "      <td>0.000000</td>\n",
       "      <td>0.000000</td>\n",
       "      <td>0.00</td>\n",
       "      <td>0.000000</td>\n",
       "      <td>0.000000</td>\n",
       "    </tr>\n",
       "    <tr>\n",
       "      <td>1</td>\n",
       "      <td>Ajeromi-Ifelodun</td>\n",
       "      <td>0.092593</td>\n",
       "      <td>0.000000</td>\n",
       "      <td>0.000000</td>\n",
       "      <td>0.000000</td>\n",
       "      <td>0.000000</td>\n",
       "      <td>0.000000</td>\n",
       "      <td>0.000000</td>\n",
       "      <td>0.037037</td>\n",
       "      <td>0.000000</td>\n",
       "      <td>...</td>\n",
       "      <td>0.018519</td>\n",
       "      <td>0.000000</td>\n",
       "      <td>0.0</td>\n",
       "      <td>0.018519</td>\n",
       "      <td>0.000000</td>\n",
       "      <td>0.000000</td>\n",
       "      <td>0.000000</td>\n",
       "      <td>0.00</td>\n",
       "      <td>0.000000</td>\n",
       "      <td>0.000000</td>\n",
       "    </tr>\n",
       "    <tr>\n",
       "      <td>2</td>\n",
       "      <td>Alimosho</td>\n",
       "      <td>0.000000</td>\n",
       "      <td>0.051282</td>\n",
       "      <td>0.025641</td>\n",
       "      <td>0.051282</td>\n",
       "      <td>0.000000</td>\n",
       "      <td>0.025641</td>\n",
       "      <td>0.000000</td>\n",
       "      <td>0.000000</td>\n",
       "      <td>0.000000</td>\n",
       "      <td>...</td>\n",
       "      <td>0.000000</td>\n",
       "      <td>0.000000</td>\n",
       "      <td>0.0</td>\n",
       "      <td>0.000000</td>\n",
       "      <td>0.000000</td>\n",
       "      <td>0.000000</td>\n",
       "      <td>0.000000</td>\n",
       "      <td>0.00</td>\n",
       "      <td>0.000000</td>\n",
       "      <td>0.000000</td>\n",
       "    </tr>\n",
       "    <tr>\n",
       "      <td>3</td>\n",
       "      <td>Amuwo-Odofin</td>\n",
       "      <td>0.055556</td>\n",
       "      <td>0.000000</td>\n",
       "      <td>0.000000</td>\n",
       "      <td>0.000000</td>\n",
       "      <td>0.000000</td>\n",
       "      <td>0.000000</td>\n",
       "      <td>0.000000</td>\n",
       "      <td>0.000000</td>\n",
       "      <td>0.000000</td>\n",
       "      <td>...</td>\n",
       "      <td>0.000000</td>\n",
       "      <td>0.000000</td>\n",
       "      <td>0.0</td>\n",
       "      <td>0.000000</td>\n",
       "      <td>0.000000</td>\n",
       "      <td>0.000000</td>\n",
       "      <td>0.000000</td>\n",
       "      <td>0.00</td>\n",
       "      <td>0.000000</td>\n",
       "      <td>0.000000</td>\n",
       "    </tr>\n",
       "    <tr>\n",
       "      <td>4</td>\n",
       "      <td>Apapa</td>\n",
       "      <td>0.060000</td>\n",
       "      <td>0.000000</td>\n",
       "      <td>0.000000</td>\n",
       "      <td>0.000000</td>\n",
       "      <td>0.000000</td>\n",
       "      <td>0.000000</td>\n",
       "      <td>0.000000</td>\n",
       "      <td>0.030000</td>\n",
       "      <td>0.000000</td>\n",
       "      <td>...</td>\n",
       "      <td>0.000000</td>\n",
       "      <td>0.000000</td>\n",
       "      <td>0.0</td>\n",
       "      <td>0.000000</td>\n",
       "      <td>0.000000</td>\n",
       "      <td>0.000000</td>\n",
       "      <td>0.010000</td>\n",
       "      <td>0.01</td>\n",
       "      <td>0.000000</td>\n",
       "      <td>0.000000</td>\n",
       "    </tr>\n",
       "    <tr>\n",
       "      <td>5</td>\n",
       "      <td>Badagry</td>\n",
       "      <td>0.000000</td>\n",
       "      <td>0.000000</td>\n",
       "      <td>0.000000</td>\n",
       "      <td>0.000000</td>\n",
       "      <td>0.000000</td>\n",
       "      <td>0.000000</td>\n",
       "      <td>0.000000</td>\n",
       "      <td>0.000000</td>\n",
       "      <td>0.000000</td>\n",
       "      <td>...</td>\n",
       "      <td>0.000000</td>\n",
       "      <td>0.000000</td>\n",
       "      <td>0.0</td>\n",
       "      <td>0.000000</td>\n",
       "      <td>0.000000</td>\n",
       "      <td>0.000000</td>\n",
       "      <td>0.000000</td>\n",
       "      <td>0.00</td>\n",
       "      <td>0.000000</td>\n",
       "      <td>0.000000</td>\n",
       "    </tr>\n",
       "    <tr>\n",
       "      <td>6</td>\n",
       "      <td>Epe</td>\n",
       "      <td>0.000000</td>\n",
       "      <td>0.000000</td>\n",
       "      <td>0.000000</td>\n",
       "      <td>0.000000</td>\n",
       "      <td>0.000000</td>\n",
       "      <td>0.000000</td>\n",
       "      <td>0.000000</td>\n",
       "      <td>0.000000</td>\n",
       "      <td>0.000000</td>\n",
       "      <td>...</td>\n",
       "      <td>0.000000</td>\n",
       "      <td>0.000000</td>\n",
       "      <td>0.0</td>\n",
       "      <td>0.000000</td>\n",
       "      <td>0.000000</td>\n",
       "      <td>0.000000</td>\n",
       "      <td>0.000000</td>\n",
       "      <td>0.00</td>\n",
       "      <td>0.000000</td>\n",
       "      <td>0.000000</td>\n",
       "    </tr>\n",
       "    <tr>\n",
       "      <td>7</td>\n",
       "      <td>Eti-Osa</td>\n",
       "      <td>0.018182</td>\n",
       "      <td>0.000000</td>\n",
       "      <td>0.000000</td>\n",
       "      <td>0.000000</td>\n",
       "      <td>0.000000</td>\n",
       "      <td>0.000000</td>\n",
       "      <td>0.000000</td>\n",
       "      <td>0.018182</td>\n",
       "      <td>0.000000</td>\n",
       "      <td>...</td>\n",
       "      <td>0.000000</td>\n",
       "      <td>0.000000</td>\n",
       "      <td>0.0</td>\n",
       "      <td>0.018182</td>\n",
       "      <td>0.018182</td>\n",
       "      <td>0.018182</td>\n",
       "      <td>0.000000</td>\n",
       "      <td>0.00</td>\n",
       "      <td>0.000000</td>\n",
       "      <td>0.000000</td>\n",
       "    </tr>\n",
       "    <tr>\n",
       "      <td>8</td>\n",
       "      <td>Ibeju-Lekki</td>\n",
       "      <td>0.000000</td>\n",
       "      <td>0.000000</td>\n",
       "      <td>0.000000</td>\n",
       "      <td>0.000000</td>\n",
       "      <td>0.000000</td>\n",
       "      <td>0.000000</td>\n",
       "      <td>0.250000</td>\n",
       "      <td>0.000000</td>\n",
       "      <td>0.000000</td>\n",
       "      <td>...</td>\n",
       "      <td>0.000000</td>\n",
       "      <td>0.000000</td>\n",
       "      <td>0.0</td>\n",
       "      <td>0.000000</td>\n",
       "      <td>0.000000</td>\n",
       "      <td>0.000000</td>\n",
       "      <td>0.000000</td>\n",
       "      <td>0.00</td>\n",
       "      <td>0.000000</td>\n",
       "      <td>0.000000</td>\n",
       "    </tr>\n",
       "    <tr>\n",
       "      <td>9</td>\n",
       "      <td>Ifako-Ijaiye</td>\n",
       "      <td>0.000000</td>\n",
       "      <td>0.000000</td>\n",
       "      <td>0.000000</td>\n",
       "      <td>0.000000</td>\n",
       "      <td>0.000000</td>\n",
       "      <td>0.016393</td>\n",
       "      <td>0.000000</td>\n",
       "      <td>0.000000</td>\n",
       "      <td>0.000000</td>\n",
       "      <td>...</td>\n",
       "      <td>0.000000</td>\n",
       "      <td>0.016393</td>\n",
       "      <td>0.0</td>\n",
       "      <td>0.000000</td>\n",
       "      <td>0.000000</td>\n",
       "      <td>0.000000</td>\n",
       "      <td>0.016393</td>\n",
       "      <td>0.00</td>\n",
       "      <td>0.000000</td>\n",
       "      <td>0.000000</td>\n",
       "    </tr>\n",
       "    <tr>\n",
       "      <td>10</td>\n",
       "      <td>Ikeja</td>\n",
       "      <td>0.032258</td>\n",
       "      <td>0.021505</td>\n",
       "      <td>0.010753</td>\n",
       "      <td>0.021505</td>\n",
       "      <td>0.000000</td>\n",
       "      <td>0.010753</td>\n",
       "      <td>0.000000</td>\n",
       "      <td>0.000000</td>\n",
       "      <td>0.010753</td>\n",
       "      <td>...</td>\n",
       "      <td>0.000000</td>\n",
       "      <td>0.010753</td>\n",
       "      <td>0.0</td>\n",
       "      <td>0.000000</td>\n",
       "      <td>0.000000</td>\n",
       "      <td>0.000000</td>\n",
       "      <td>0.000000</td>\n",
       "      <td>0.00</td>\n",
       "      <td>0.000000</td>\n",
       "      <td>0.010753</td>\n",
       "    </tr>\n",
       "    <tr>\n",
       "      <td>11</td>\n",
       "      <td>Ikorodu</td>\n",
       "      <td>0.000000</td>\n",
       "      <td>0.000000</td>\n",
       "      <td>0.000000</td>\n",
       "      <td>0.000000</td>\n",
       "      <td>0.000000</td>\n",
       "      <td>0.000000</td>\n",
       "      <td>0.000000</td>\n",
       "      <td>0.000000</td>\n",
       "      <td>0.000000</td>\n",
       "      <td>...</td>\n",
       "      <td>0.000000</td>\n",
       "      <td>0.000000</td>\n",
       "      <td>0.0</td>\n",
       "      <td>0.000000</td>\n",
       "      <td>0.000000</td>\n",
       "      <td>0.000000</td>\n",
       "      <td>0.000000</td>\n",
       "      <td>0.00</td>\n",
       "      <td>0.000000</td>\n",
       "      <td>0.000000</td>\n",
       "    </tr>\n",
       "    <tr>\n",
       "      <td>12</td>\n",
       "      <td>Kosofe</td>\n",
       "      <td>0.048193</td>\n",
       "      <td>0.024096</td>\n",
       "      <td>0.012048</td>\n",
       "      <td>0.000000</td>\n",
       "      <td>0.012048</td>\n",
       "      <td>0.012048</td>\n",
       "      <td>0.000000</td>\n",
       "      <td>0.000000</td>\n",
       "      <td>0.012048</td>\n",
       "      <td>...</td>\n",
       "      <td>0.000000</td>\n",
       "      <td>0.012048</td>\n",
       "      <td>0.0</td>\n",
       "      <td>0.000000</td>\n",
       "      <td>0.000000</td>\n",
       "      <td>0.000000</td>\n",
       "      <td>0.000000</td>\n",
       "      <td>0.00</td>\n",
       "      <td>0.012048</td>\n",
       "      <td>0.000000</td>\n",
       "    </tr>\n",
       "    <tr>\n",
       "      <td>13</td>\n",
       "      <td>Lagos Island</td>\n",
       "      <td>0.018519</td>\n",
       "      <td>0.000000</td>\n",
       "      <td>0.000000</td>\n",
       "      <td>0.000000</td>\n",
       "      <td>0.000000</td>\n",
       "      <td>0.000000</td>\n",
       "      <td>0.000000</td>\n",
       "      <td>0.018519</td>\n",
       "      <td>0.000000</td>\n",
       "      <td>...</td>\n",
       "      <td>0.000000</td>\n",
       "      <td>0.000000</td>\n",
       "      <td>0.0</td>\n",
       "      <td>0.018519</td>\n",
       "      <td>0.018519</td>\n",
       "      <td>0.018519</td>\n",
       "      <td>0.000000</td>\n",
       "      <td>0.00</td>\n",
       "      <td>0.000000</td>\n",
       "      <td>0.000000</td>\n",
       "    </tr>\n",
       "    <tr>\n",
       "      <td>14</td>\n",
       "      <td>Lagos Mainland</td>\n",
       "      <td>0.050000</td>\n",
       "      <td>0.000000</td>\n",
       "      <td>0.000000</td>\n",
       "      <td>0.000000</td>\n",
       "      <td>0.000000</td>\n",
       "      <td>0.000000</td>\n",
       "      <td>0.000000</td>\n",
       "      <td>0.030000</td>\n",
       "      <td>0.000000</td>\n",
       "      <td>...</td>\n",
       "      <td>0.000000</td>\n",
       "      <td>0.000000</td>\n",
       "      <td>0.0</td>\n",
       "      <td>0.000000</td>\n",
       "      <td>0.000000</td>\n",
       "      <td>0.000000</td>\n",
       "      <td>0.000000</td>\n",
       "      <td>0.01</td>\n",
       "      <td>0.000000</td>\n",
       "      <td>0.000000</td>\n",
       "    </tr>\n",
       "    <tr>\n",
       "      <td>15</td>\n",
       "      <td>Mushin</td>\n",
       "      <td>0.050000</td>\n",
       "      <td>0.010000</td>\n",
       "      <td>0.010000</td>\n",
       "      <td>0.020000</td>\n",
       "      <td>0.000000</td>\n",
       "      <td>0.010000</td>\n",
       "      <td>0.000000</td>\n",
       "      <td>0.000000</td>\n",
       "      <td>0.000000</td>\n",
       "      <td>...</td>\n",
       "      <td>0.000000</td>\n",
       "      <td>0.020000</td>\n",
       "      <td>0.0</td>\n",
       "      <td>0.000000</td>\n",
       "      <td>0.000000</td>\n",
       "      <td>0.000000</td>\n",
       "      <td>0.000000</td>\n",
       "      <td>0.00</td>\n",
       "      <td>0.010000</td>\n",
       "      <td>0.000000</td>\n",
       "    </tr>\n",
       "    <tr>\n",
       "      <td>16</td>\n",
       "      <td>Ojo</td>\n",
       "      <td>0.000000</td>\n",
       "      <td>0.000000</td>\n",
       "      <td>0.000000</td>\n",
       "      <td>0.000000</td>\n",
       "      <td>0.000000</td>\n",
       "      <td>0.000000</td>\n",
       "      <td>0.000000</td>\n",
       "      <td>0.000000</td>\n",
       "      <td>0.000000</td>\n",
       "      <td>...</td>\n",
       "      <td>0.000000</td>\n",
       "      <td>0.000000</td>\n",
       "      <td>0.2</td>\n",
       "      <td>0.000000</td>\n",
       "      <td>0.000000</td>\n",
       "      <td>0.000000</td>\n",
       "      <td>0.000000</td>\n",
       "      <td>0.00</td>\n",
       "      <td>0.000000</td>\n",
       "      <td>0.000000</td>\n",
       "    </tr>\n",
       "    <tr>\n",
       "      <td>17</td>\n",
       "      <td>Oshodi-Isolo</td>\n",
       "      <td>0.060000</td>\n",
       "      <td>0.000000</td>\n",
       "      <td>0.010000</td>\n",
       "      <td>0.010000</td>\n",
       "      <td>0.000000</td>\n",
       "      <td>0.010000</td>\n",
       "      <td>0.000000</td>\n",
       "      <td>0.000000</td>\n",
       "      <td>0.010000</td>\n",
       "      <td>...</td>\n",
       "      <td>0.000000</td>\n",
       "      <td>0.020000</td>\n",
       "      <td>0.0</td>\n",
       "      <td>0.000000</td>\n",
       "      <td>0.000000</td>\n",
       "      <td>0.000000</td>\n",
       "      <td>0.000000</td>\n",
       "      <td>0.00</td>\n",
       "      <td>0.000000</td>\n",
       "      <td>0.000000</td>\n",
       "    </tr>\n",
       "    <tr>\n",
       "      <td>18</td>\n",
       "      <td>Somolu</td>\n",
       "      <td>0.050000</td>\n",
       "      <td>0.000000</td>\n",
       "      <td>0.010000</td>\n",
       "      <td>0.010000</td>\n",
       "      <td>0.000000</td>\n",
       "      <td>0.010000</td>\n",
       "      <td>0.000000</td>\n",
       "      <td>0.010000</td>\n",
       "      <td>0.010000</td>\n",
       "      <td>...</td>\n",
       "      <td>0.000000</td>\n",
       "      <td>0.010000</td>\n",
       "      <td>0.0</td>\n",
       "      <td>0.000000</td>\n",
       "      <td>0.000000</td>\n",
       "      <td>0.000000</td>\n",
       "      <td>0.000000</td>\n",
       "      <td>0.00</td>\n",
       "      <td>0.000000</td>\n",
       "      <td>0.000000</td>\n",
       "    </tr>\n",
       "    <tr>\n",
       "      <td>19</td>\n",
       "      <td>Surulere</td>\n",
       "      <td>0.057471</td>\n",
       "      <td>0.000000</td>\n",
       "      <td>0.000000</td>\n",
       "      <td>0.000000</td>\n",
       "      <td>0.000000</td>\n",
       "      <td>0.000000</td>\n",
       "      <td>0.011494</td>\n",
       "      <td>0.022989</td>\n",
       "      <td>0.000000</td>\n",
       "      <td>...</td>\n",
       "      <td>0.011494</td>\n",
       "      <td>0.000000</td>\n",
       "      <td>0.0</td>\n",
       "      <td>0.011494</td>\n",
       "      <td>0.000000</td>\n",
       "      <td>0.000000</td>\n",
       "      <td>0.000000</td>\n",
       "      <td>0.00</td>\n",
       "      <td>0.011494</td>\n",
       "      <td>0.000000</td>\n",
       "    </tr>\n",
       "  </tbody>\n",
       "</table>\n",
       "<p>20 rows × 110 columns</p>\n",
       "</div>"
      ],
      "text/plain": [
       "                 LGA  African Restaurant   Airport  Airport Food Court  \\\n",
       "0              Agege            0.033708  0.022472            0.011236   \n",
       "1   Ajeromi-Ifelodun            0.092593  0.000000            0.000000   \n",
       "2           Alimosho            0.000000  0.051282            0.025641   \n",
       "3       Amuwo-Odofin            0.055556  0.000000            0.000000   \n",
       "4              Apapa            0.060000  0.000000            0.000000   \n",
       "5            Badagry            0.000000  0.000000            0.000000   \n",
       "6                Epe            0.000000  0.000000            0.000000   \n",
       "7            Eti-Osa            0.018182  0.000000            0.000000   \n",
       "8        Ibeju-Lekki            0.000000  0.000000            0.000000   \n",
       "9       Ifako-Ijaiye            0.000000  0.000000            0.000000   \n",
       "10             Ikeja            0.032258  0.021505            0.010753   \n",
       "11           Ikorodu            0.000000  0.000000            0.000000   \n",
       "12            Kosofe            0.048193  0.024096            0.012048   \n",
       "13      Lagos Island            0.018519  0.000000            0.000000   \n",
       "14    Lagos Mainland            0.050000  0.000000            0.000000   \n",
       "15            Mushin            0.050000  0.010000            0.010000   \n",
       "16               Ojo            0.000000  0.000000            0.000000   \n",
       "17      Oshodi-Isolo            0.060000  0.000000            0.010000   \n",
       "18            Somolu            0.050000  0.000000            0.010000   \n",
       "19          Surulere            0.057471  0.000000            0.000000   \n",
       "\n",
       "    Airport Lounge  Airport Terminal  American Restaurant    Arcade  \\\n",
       "0         0.022472          0.000000             0.011236  0.000000   \n",
       "1         0.000000          0.000000             0.000000  0.000000   \n",
       "2         0.051282          0.000000             0.025641  0.000000   \n",
       "3         0.000000          0.000000             0.000000  0.000000   \n",
       "4         0.000000          0.000000             0.000000  0.000000   \n",
       "5         0.000000          0.000000             0.000000  0.000000   \n",
       "6         0.000000          0.000000             0.000000  0.000000   \n",
       "7         0.000000          0.000000             0.000000  0.000000   \n",
       "8         0.000000          0.000000             0.000000  0.250000   \n",
       "9         0.000000          0.000000             0.016393  0.000000   \n",
       "10        0.021505          0.000000             0.010753  0.000000   \n",
       "11        0.000000          0.000000             0.000000  0.000000   \n",
       "12        0.000000          0.012048             0.012048  0.000000   \n",
       "13        0.000000          0.000000             0.000000  0.000000   \n",
       "14        0.000000          0.000000             0.000000  0.000000   \n",
       "15        0.020000          0.000000             0.010000  0.000000   \n",
       "16        0.000000          0.000000             0.000000  0.000000   \n",
       "17        0.010000          0.000000             0.010000  0.000000   \n",
       "18        0.010000          0.000000             0.010000  0.000000   \n",
       "19        0.000000          0.000000             0.000000  0.011494   \n",
       "\n",
       "    Art Gallery  Arts & Entertainment  ...   Stables  Steakhouse  Strip Club  \\\n",
       "0      0.000000              0.000000  ...  0.000000    0.011236         0.0   \n",
       "1      0.037037              0.000000  ...  0.018519    0.000000         0.0   \n",
       "2      0.000000              0.000000  ...  0.000000    0.000000         0.0   \n",
       "3      0.000000              0.000000  ...  0.000000    0.000000         0.0   \n",
       "4      0.030000              0.000000  ...  0.000000    0.000000         0.0   \n",
       "5      0.000000              0.000000  ...  0.000000    0.000000         0.0   \n",
       "6      0.000000              0.000000  ...  0.000000    0.000000         0.0   \n",
       "7      0.018182              0.000000  ...  0.000000    0.000000         0.0   \n",
       "8      0.000000              0.000000  ...  0.000000    0.000000         0.0   \n",
       "9      0.000000              0.000000  ...  0.000000    0.016393         0.0   \n",
       "10     0.000000              0.010753  ...  0.000000    0.010753         0.0   \n",
       "11     0.000000              0.000000  ...  0.000000    0.000000         0.0   \n",
       "12     0.000000              0.012048  ...  0.000000    0.012048         0.0   \n",
       "13     0.018519              0.000000  ...  0.000000    0.000000         0.0   \n",
       "14     0.030000              0.000000  ...  0.000000    0.000000         0.0   \n",
       "15     0.000000              0.000000  ...  0.000000    0.020000         0.0   \n",
       "16     0.000000              0.000000  ...  0.000000    0.000000         0.2   \n",
       "17     0.000000              0.010000  ...  0.000000    0.020000         0.0   \n",
       "18     0.010000              0.010000  ...  0.000000    0.010000         0.0   \n",
       "19     0.022989              0.000000  ...  0.011494    0.000000         0.0   \n",
       "\n",
       "    Supermarket  Surf Spot  Sushi Restaurant   Theater  Theme Restaurant  \\\n",
       "0      0.000000   0.000000          0.000000  0.000000              0.00   \n",
       "1      0.018519   0.000000          0.000000  0.000000              0.00   \n",
       "2      0.000000   0.000000          0.000000  0.000000              0.00   \n",
       "3      0.000000   0.000000          0.000000  0.000000              0.00   \n",
       "4      0.000000   0.000000          0.000000  0.010000              0.01   \n",
       "5      0.000000   0.000000          0.000000  0.000000              0.00   \n",
       "6      0.000000   0.000000          0.000000  0.000000              0.00   \n",
       "7      0.018182   0.018182          0.018182  0.000000              0.00   \n",
       "8      0.000000   0.000000          0.000000  0.000000              0.00   \n",
       "9      0.000000   0.000000          0.000000  0.016393              0.00   \n",
       "10     0.000000   0.000000          0.000000  0.000000              0.00   \n",
       "11     0.000000   0.000000          0.000000  0.000000              0.00   \n",
       "12     0.000000   0.000000          0.000000  0.000000              0.00   \n",
       "13     0.018519   0.018519          0.018519  0.000000              0.00   \n",
       "14     0.000000   0.000000          0.000000  0.000000              0.01   \n",
       "15     0.000000   0.000000          0.000000  0.000000              0.00   \n",
       "16     0.000000   0.000000          0.000000  0.000000              0.00   \n",
       "17     0.000000   0.000000          0.000000  0.000000              0.00   \n",
       "18     0.000000   0.000000          0.000000  0.000000              0.00   \n",
       "19     0.011494   0.000000          0.000000  0.000000              0.00   \n",
       "\n",
       "    Toll Plaza  Vineyard  \n",
       "0     0.000000  0.000000  \n",
       "1     0.000000  0.000000  \n",
       "2     0.000000  0.000000  \n",
       "3     0.000000  0.000000  \n",
       "4     0.000000  0.000000  \n",
       "5     0.000000  0.000000  \n",
       "6     0.000000  0.000000  \n",
       "7     0.000000  0.000000  \n",
       "8     0.000000  0.000000  \n",
       "9     0.000000  0.000000  \n",
       "10    0.000000  0.010753  \n",
       "11    0.000000  0.000000  \n",
       "12    0.012048  0.000000  \n",
       "13    0.000000  0.000000  \n",
       "14    0.000000  0.000000  \n",
       "15    0.010000  0.000000  \n",
       "16    0.000000  0.000000  \n",
       "17    0.000000  0.000000  \n",
       "18    0.000000  0.000000  \n",
       "19    0.011494  0.000000  \n",
       "\n",
       "[20 rows x 110 columns]"
      ]
     },
     "execution_count": 67,
     "metadata": {},
     "output_type": "execute_result"
    }
   ],
   "source": [
    "lagos_grouped = lagos_onehot.groupby('LGA').mean().reset_index()\n",
    "\n",
    "lagos_grouped"
   ]
  },
  {
   "cell_type": "markdown",
   "metadata": {
    "colab_type": "text",
    "id": "CZg6RoCjSjkO"
   },
   "source": [
    "Let's confirm the new shape"
   ]
  },
  {
   "cell_type": "code",
   "execution_count": 68,
   "metadata": {
    "colab": {
     "base_uri": "https://localhost:8080/",
     "height": 34
    },
    "colab_type": "code",
    "id": "5MuolwLHSmb9",
    "outputId": "777eb933-cfe7-4bc8-ccb3-699df7140a86"
   },
   "outputs": [
    {
     "data": {
      "text/plain": [
       "(20, 110)"
      ]
     },
     "execution_count": 68,
     "metadata": {},
     "output_type": "execute_result"
    }
   ],
   "source": [
    "lagos_grouped.shape"
   ]
  },
  {
   "cell_type": "markdown",
   "metadata": {
    "colab_type": "text",
    "id": "yCscN0BeaHth"
   },
   "source": [
    "Let's write a function to sort the venues in descending order."
   ]
  },
  {
   "cell_type": "code",
   "execution_count": 69,
   "metadata": {
    "colab": {},
    "colab_type": "code",
    "id": "T54IdLU9bJYy"
   },
   "outputs": [],
   "source": [
    "def return_most_common_venues(row, num_top_venues):\n",
    "    row_categories = row.iloc[1:]\n",
    "    row_categories_sorted = row_categories.sort_values(ascending=False)\n",
    "    \n",
    "    return row_categories_sorted.index.values[0:num_top_venues]"
   ]
  },
  {
   "cell_type": "markdown",
   "metadata": {
    "colab_type": "text",
    "id": "Ji18JlDcbYDN"
   },
   "source": [
    "Now let's create the new dataframe and display the top 10 venues for each LGA in Lagos"
   ]
  },
  {
   "cell_type": "code",
   "execution_count": 70,
   "metadata": {
    "colab": {
     "base_uri": "https://localhost:8080/",
     "height": 528
    },
    "colab_type": "code",
    "id": "Py6JechzbWSf",
    "outputId": "e538bf72-0487-4d0f-b91c-8fa158d41af1"
   },
   "outputs": [
    {
     "data": {
      "text/html": [
       "<div>\n",
       "<style scoped>\n",
       "    .dataframe tbody tr th:only-of-type {\n",
       "        vertical-align: middle;\n",
       "    }\n",
       "\n",
       "    .dataframe tbody tr th {\n",
       "        vertical-align: top;\n",
       "    }\n",
       "\n",
       "    .dataframe thead th {\n",
       "        text-align: right;\n",
       "    }\n",
       "</style>\n",
       "<table border=\"1\" class=\"dataframe\">\n",
       "  <thead>\n",
       "    <tr style=\"text-align: right;\">\n",
       "      <th></th>\n",
       "      <th>LGA</th>\n",
       "      <th>1st Most Common Venue</th>\n",
       "      <th>2nd Most Common Venue</th>\n",
       "      <th>3rd Most Common Venue</th>\n",
       "      <th>4th Most Common Venue</th>\n",
       "      <th>5th Most Common Venue</th>\n",
       "      <th>6th Most Common Venue</th>\n",
       "      <th>7th Most Common Venue</th>\n",
       "      <th>8th Most Common Venue</th>\n",
       "      <th>9th Most Common Venue</th>\n",
       "      <th>10th Most Common Venue</th>\n",
       "    </tr>\n",
       "  </thead>\n",
       "  <tbody>\n",
       "    <tr>\n",
       "      <td>0</td>\n",
       "      <td>Agege</td>\n",
       "      <td>Fast Food Restaurant</td>\n",
       "      <td>Shopping Mall</td>\n",
       "      <td>Hotel</td>\n",
       "      <td>Pizza Place</td>\n",
       "      <td>Bar</td>\n",
       "      <td>Convenience Store</td>\n",
       "      <td>Lounge</td>\n",
       "      <td>BBQ Joint</td>\n",
       "      <td>Burger Joint</td>\n",
       "      <td>Chinese Restaurant</td>\n",
       "    </tr>\n",
       "    <tr>\n",
       "      <td>1</td>\n",
       "      <td>Ajeromi-Ifelodun</td>\n",
       "      <td>African Restaurant</td>\n",
       "      <td>Pizza Place</td>\n",
       "      <td>Lounge</td>\n",
       "      <td>Hotel</td>\n",
       "      <td>Movie Theater</td>\n",
       "      <td>Art Gallery</td>\n",
       "      <td>Chinese Restaurant</td>\n",
       "      <td>Japanese Restaurant</td>\n",
       "      <td>Nightclub</td>\n",
       "      <td>Park</td>\n",
       "    </tr>\n",
       "    <tr>\n",
       "      <td>2</td>\n",
       "      <td>Alimosho</td>\n",
       "      <td>Fast Food Restaurant</td>\n",
       "      <td>Hotel</td>\n",
       "      <td>Pizza Place</td>\n",
       "      <td>Lounge</td>\n",
       "      <td>Shopping Mall</td>\n",
       "      <td>Burger Joint</td>\n",
       "      <td>Restaurant</td>\n",
       "      <td>Airport Lounge</td>\n",
       "      <td>Airport</td>\n",
       "      <td>Department Store</td>\n",
       "    </tr>\n",
       "    <tr>\n",
       "      <td>3</td>\n",
       "      <td>Amuwo-Odofin</td>\n",
       "      <td>Hotel</td>\n",
       "      <td>Fast Food Restaurant</td>\n",
       "      <td>Shopping Mall</td>\n",
       "      <td>Bakery</td>\n",
       "      <td>Beach</td>\n",
       "      <td>Bike Rental / Bike Share</td>\n",
       "      <td>Chinese Restaurant</td>\n",
       "      <td>Diner</td>\n",
       "      <td>Flea Market</td>\n",
       "      <td>Food</td>\n",
       "    </tr>\n",
       "    <tr>\n",
       "      <td>4</td>\n",
       "      <td>Apapa</td>\n",
       "      <td>Hotel</td>\n",
       "      <td>Lounge</td>\n",
       "      <td>African Restaurant</td>\n",
       "      <td>Nightclub</td>\n",
       "      <td>Pizza Place</td>\n",
       "      <td>Restaurant</td>\n",
       "      <td>Art Gallery</td>\n",
       "      <td>Ice Cream Shop</td>\n",
       "      <td>Bar</td>\n",
       "      <td>Movie Theater</td>\n",
       "    </tr>\n",
       "    <tr>\n",
       "      <td>5</td>\n",
       "      <td>Badagry</td>\n",
       "      <td>History Museum</td>\n",
       "      <td>Museum</td>\n",
       "      <td>Beer Garden</td>\n",
       "      <td>Fast Food Restaurant</td>\n",
       "      <td>Dessert Shop</td>\n",
       "      <td>Clothing Store</td>\n",
       "      <td>Cocktail Bar</td>\n",
       "      <td>Coffee Shop</td>\n",
       "      <td>Comedy Club</td>\n",
       "      <td>Comfort Food Restaurant</td>\n",
       "    </tr>\n",
       "    <tr>\n",
       "      <td>6</td>\n",
       "      <td>Epe</td>\n",
       "      <td>Hotel</td>\n",
       "      <td>Other Great Outdoors</td>\n",
       "      <td>Heliport</td>\n",
       "      <td>Dessert Shop</td>\n",
       "      <td>Chinese Restaurant</td>\n",
       "      <td>Clothing Store</td>\n",
       "      <td>Cocktail Bar</td>\n",
       "      <td>Coffee Shop</td>\n",
       "      <td>Comedy Club</td>\n",
       "      <td>Comfort Food Restaurant</td>\n",
       "    </tr>\n",
       "    <tr>\n",
       "      <td>7</td>\n",
       "      <td>Eti-Osa</td>\n",
       "      <td>Lounge</td>\n",
       "      <td>Hotel</td>\n",
       "      <td>Bar</td>\n",
       "      <td>Beach</td>\n",
       "      <td>Convenience Store</td>\n",
       "      <td>Pizza Place</td>\n",
       "      <td>Ice Cream Shop</td>\n",
       "      <td>Shopping Mall</td>\n",
       "      <td>Fast Food Restaurant</td>\n",
       "      <td>Department Store</td>\n",
       "    </tr>\n",
       "    <tr>\n",
       "      <td>8</td>\n",
       "      <td>Ibeju-Lekki</td>\n",
       "      <td>Golf Course</td>\n",
       "      <td>Arcade</td>\n",
       "      <td>Beach</td>\n",
       "      <td>Resort</td>\n",
       "      <td>Vineyard</td>\n",
       "      <td>Dessert Shop</td>\n",
       "      <td>Clothing Store</td>\n",
       "      <td>Cocktail Bar</td>\n",
       "      <td>Coffee Shop</td>\n",
       "      <td>Comedy Club</td>\n",
       "    </tr>\n",
       "    <tr>\n",
       "      <td>9</td>\n",
       "      <td>Ifako-Ijaiye</td>\n",
       "      <td>Fast Food Restaurant</td>\n",
       "      <td>Shopping Mall</td>\n",
       "      <td>Hotel</td>\n",
       "      <td>Pizza Place</td>\n",
       "      <td>Convenience Store</td>\n",
       "      <td>Chinese Restaurant</td>\n",
       "      <td>Bus Station</td>\n",
       "      <td>Burger Joint</td>\n",
       "      <td>Beer Garden</td>\n",
       "      <td>Park</td>\n",
       "    </tr>\n",
       "  </tbody>\n",
       "</table>\n",
       "</div>"
      ],
      "text/plain": [
       "                LGA 1st Most Common Venue 2nd Most Common Venue  \\\n",
       "0             Agege  Fast Food Restaurant         Shopping Mall   \n",
       "1  Ajeromi-Ifelodun    African Restaurant           Pizza Place   \n",
       "2          Alimosho  Fast Food Restaurant                 Hotel   \n",
       "3      Amuwo-Odofin                 Hotel  Fast Food Restaurant   \n",
       "4             Apapa                 Hotel                Lounge   \n",
       "5           Badagry        History Museum                Museum   \n",
       "6               Epe                 Hotel  Other Great Outdoors   \n",
       "7           Eti-Osa                Lounge                 Hotel   \n",
       "8       Ibeju-Lekki           Golf Course                Arcade   \n",
       "9      Ifako-Ijaiye  Fast Food Restaurant         Shopping Mall   \n",
       "\n",
       "  3rd Most Common Venue 4th Most Common Venue 5th Most Common Venue  \\\n",
       "0                 Hotel           Pizza Place                   Bar   \n",
       "1                Lounge                 Hotel         Movie Theater   \n",
       "2           Pizza Place                Lounge         Shopping Mall   \n",
       "3         Shopping Mall                Bakery                 Beach   \n",
       "4    African Restaurant             Nightclub           Pizza Place   \n",
       "5           Beer Garden  Fast Food Restaurant          Dessert Shop   \n",
       "6              Heliport          Dessert Shop    Chinese Restaurant   \n",
       "7                   Bar                 Beach     Convenience Store   \n",
       "8                 Beach                Resort              Vineyard   \n",
       "9                 Hotel           Pizza Place     Convenience Store   \n",
       "\n",
       "      6th Most Common Venue 7th Most Common Venue 8th Most Common Venue  \\\n",
       "0         Convenience Store                Lounge             BBQ Joint   \n",
       "1               Art Gallery    Chinese Restaurant   Japanese Restaurant   \n",
       "2              Burger Joint            Restaurant        Airport Lounge   \n",
       "3  Bike Rental / Bike Share    Chinese Restaurant                 Diner   \n",
       "4                Restaurant           Art Gallery        Ice Cream Shop   \n",
       "5            Clothing Store          Cocktail Bar           Coffee Shop   \n",
       "6            Clothing Store          Cocktail Bar           Coffee Shop   \n",
       "7               Pizza Place        Ice Cream Shop         Shopping Mall   \n",
       "8              Dessert Shop        Clothing Store          Cocktail Bar   \n",
       "9        Chinese Restaurant           Bus Station          Burger Joint   \n",
       "\n",
       "  9th Most Common Venue   10th Most Common Venue  \n",
       "0          Burger Joint       Chinese Restaurant  \n",
       "1             Nightclub                     Park  \n",
       "2               Airport         Department Store  \n",
       "3           Flea Market                     Food  \n",
       "4                   Bar            Movie Theater  \n",
       "5           Comedy Club  Comfort Food Restaurant  \n",
       "6           Comedy Club  Comfort Food Restaurant  \n",
       "7  Fast Food Restaurant         Department Store  \n",
       "8           Coffee Shop              Comedy Club  \n",
       "9           Beer Garden                     Park  "
      ]
     },
     "execution_count": 70,
     "metadata": {},
     "output_type": "execute_result"
    }
   ],
   "source": [
    "num_top_venues = 10\n",
    "\n",
    "indicators = ['st', 'nd', 'rd']\n",
    "\n",
    "# create columns according to number of top venues\n",
    "columns = ['LGA']\n",
    "for ind in np.arange(num_top_venues):\n",
    "    try:\n",
    "        columns.append('{}{} Most Common Venue'.format(ind+1, indicators[ind]))\n",
    "    except:\n",
    "        columns.append('{}th Most Common Venue'.format(ind+1))\n",
    "\n",
    "# create a new dataframe\n",
    "lga_venues_sorted = pd.DataFrame(columns=columns)\n",
    "lga_venues_sorted['LGA'] = lagos_grouped['LGA']\n",
    "\n",
    "for ind in np.arange(lagos_grouped.shape[0]):\n",
    "    lga_venues_sorted.iloc[ind, 1:] = return_most_common_venues(lagos_grouped.iloc[ind, :], num_top_venues)\n",
    "\n",
    "lga_venues_sorted.head(10)"
   ]
  },
  {
   "cell_type": "markdown",
   "metadata": {
    "colab_type": "text",
    "id": "fGUuAjN7dJyV"
   },
   "source": [
    "We can clearly see that Fast food Restaurants are the most common venues in majority of LGA areas in Lagos State.<br>Other common venues are hotel and shopping malls"
   ]
  },
  {
   "cell_type": "markdown",
   "metadata": {
    "colab_type": "text",
    "id": "xhuIgc4sed6I"
   },
   "source": [
    "#### Let's Cluster Neighborhoods in Lagos State by LGAs"
   ]
  },
  {
   "cell_type": "markdown",
   "metadata": {
    "colab_type": "text",
    "id": "XVWtM6mhevEU"
   },
   "source": [
    "Run k-means to cluster the State into 5 clusters."
   ]
  },
  {
   "cell_type": "code",
   "execution_count": 71,
   "metadata": {
    "colab": {
     "base_uri": "https://localhost:8080/",
     "height": 50
    },
    "colab_type": "code",
    "id": "069ljTVbec4M",
    "outputId": "aa218e39-b91c-43e6-dceb-d70dadbef1ce"
   },
   "outputs": [
    {
     "data": {
      "text/plain": [
       "array([0, 0, 0, 0, 0, 4, 1, 0, 3, 0, 0, 0, 0, 0, 0, 0, 2, 0, 0, 0])"
      ]
     },
     "execution_count": 71,
     "metadata": {},
     "output_type": "execute_result"
    }
   ],
   "source": [
    "# set number of clusters\n",
    "kclusters = 5\n",
    "\n",
    "lagos_grouped_clustering = lagos_grouped.drop('LGA', 1)\n",
    "\n",
    "# run k-means clustering\n",
    "kmeans = KMeans(n_clusters=kclusters, random_state=0).fit(lagos_grouped_clustering)\n",
    "\n",
    "# check cluster labels generated for each row in the dataframe\n",
    "kmeans.labels_"
   ]
  },
  {
   "cell_type": "code",
   "execution_count": 72,
   "metadata": {
    "colab": {
     "base_uri": "https://localhost:8080/",
     "height": 195
    },
    "colab_type": "code",
    "id": "sxEnwbYekOda",
    "outputId": "dd0a4694-5368-4df7-d282-a9c0082d9947"
   },
   "outputs": [
    {
     "data": {
      "text/html": [
       "<div>\n",
       "<style scoped>\n",
       "    .dataframe tbody tr th:only-of-type {\n",
       "        vertical-align: middle;\n",
       "    }\n",
       "\n",
       "    .dataframe tbody tr th {\n",
       "        vertical-align: top;\n",
       "    }\n",
       "\n",
       "    .dataframe thead th {\n",
       "        text-align: right;\n",
       "    }\n",
       "</style>\n",
       "<table border=\"1\" class=\"dataframe\">\n",
       "  <thead>\n",
       "    <tr style=\"text-align: right;\">\n",
       "      <th></th>\n",
       "      <th>LGA</th>\n",
       "      <th>POP</th>\n",
       "      <th>latitude</th>\n",
       "      <th>longitude</th>\n",
       "    </tr>\n",
       "  </thead>\n",
       "  <tbody>\n",
       "    <tr>\n",
       "      <td>15</td>\n",
       "      <td>Badagry</td>\n",
       "      <td>241437</td>\n",
       "      <td>6.438730</td>\n",
       "      <td>2.907486</td>\n",
       "    </tr>\n",
       "    <tr>\n",
       "      <td>16</td>\n",
       "      <td>Apapa</td>\n",
       "      <td>217661</td>\n",
       "      <td>6.445187</td>\n",
       "      <td>3.368373</td>\n",
       "    </tr>\n",
       "    <tr>\n",
       "      <td>17</td>\n",
       "      <td>Lagos Island</td>\n",
       "      <td>209665</td>\n",
       "      <td>6.514861</td>\n",
       "      <td>3.490866</td>\n",
       "    </tr>\n",
       "    <tr>\n",
       "      <td>18</td>\n",
       "      <td>Epe</td>\n",
       "      <td>181715</td>\n",
       "      <td>6.524750</td>\n",
       "      <td>4.057246</td>\n",
       "    </tr>\n",
       "    <tr>\n",
       "      <td>19</td>\n",
       "      <td>Ibeju-Lekki</td>\n",
       "      <td>117542</td>\n",
       "      <td>6.471125</td>\n",
       "      <td>3.814750</td>\n",
       "    </tr>\n",
       "  </tbody>\n",
       "</table>\n",
       "</div>"
      ],
      "text/plain": [
       "             LGA     POP  latitude  longitude\n",
       "15       Badagry  241437  6.438730   2.907486\n",
       "16         Apapa  217661  6.445187   3.368373\n",
       "17  Lagos Island  209665  6.514861   3.490866\n",
       "18           Epe  181715  6.524750   4.057246\n",
       "19   Ibeju-Lekki  117542  6.471125   3.814750"
      ]
     },
     "execution_count": 72,
     "metadata": {},
     "output_type": "execute_result"
    }
   ],
   "source": [
    "compiled_df.tail()"
   ]
  },
  {
   "cell_type": "code",
   "execution_count": 73,
   "metadata": {
    "colab": {},
    "colab_type": "code",
    "id": "P37EYX3PhGf7"
   },
   "outputs": [],
   "source": [
    "# insert clustering labels\n",
    "lga_venues_sorted.insert(0, 'Cluster Labels', kmeans.labels_)\n",
    "\n",
    "# Let's select LGA, latitude and longitude data columns from lagos_df\n",
    "lagos_merged = compiled_df[['LGA', 'latitude', 'longitude']]\n",
    "\n",
    "# merge lagos_merged with lga_venues_sorted to add latitude/longitude for each neighborhood\n",
    "lagos_merged = lagos_merged.join(lga_venues_sorted.set_index('LGA'), on='LGA')"
   ]
  },
  {
   "cell_type": "code",
   "execution_count": 74,
   "metadata": {
    "colab": {
     "base_uri": "https://localhost:8080/",
     "height": 1000
    },
    "colab_type": "code",
    "id": "s7kSmfdsmdII",
    "outputId": "e8d95dab-82fc-4669-dd82-fc9d6d60d4da",
    "scrolled": true
   },
   "outputs": [
    {
     "data": {
      "text/html": [
       "<div>\n",
       "<style scoped>\n",
       "    .dataframe tbody tr th:only-of-type {\n",
       "        vertical-align: middle;\n",
       "    }\n",
       "\n",
       "    .dataframe tbody tr th {\n",
       "        vertical-align: top;\n",
       "    }\n",
       "\n",
       "    .dataframe thead th {\n",
       "        text-align: right;\n",
       "    }\n",
       "</style>\n",
       "<table border=\"1\" class=\"dataframe\">\n",
       "  <thead>\n",
       "    <tr style=\"text-align: right;\">\n",
       "      <th></th>\n",
       "      <th>LGA</th>\n",
       "      <th>latitude</th>\n",
       "      <th>longitude</th>\n",
       "      <th>Cluster Labels</th>\n",
       "      <th>1st Most Common Venue</th>\n",
       "      <th>2nd Most Common Venue</th>\n",
       "      <th>3rd Most Common Venue</th>\n",
       "      <th>4th Most Common Venue</th>\n",
       "      <th>5th Most Common Venue</th>\n",
       "      <th>6th Most Common Venue</th>\n",
       "      <th>7th Most Common Venue</th>\n",
       "      <th>8th Most Common Venue</th>\n",
       "      <th>9th Most Common Venue</th>\n",
       "      <th>10th Most Common Venue</th>\n",
       "    </tr>\n",
       "  </thead>\n",
       "  <tbody>\n",
       "    <tr>\n",
       "      <td>0</td>\n",
       "      <td>Alimosho</td>\n",
       "      <td>6.584343</td>\n",
       "      <td>3.257631</td>\n",
       "      <td>0</td>\n",
       "      <td>Fast Food Restaurant</td>\n",
       "      <td>Hotel</td>\n",
       "      <td>Pizza Place</td>\n",
       "      <td>Lounge</td>\n",
       "      <td>Shopping Mall</td>\n",
       "      <td>Burger Joint</td>\n",
       "      <td>Restaurant</td>\n",
       "      <td>Airport Lounge</td>\n",
       "      <td>Airport</td>\n",
       "      <td>Department Store</td>\n",
       "    </tr>\n",
       "    <tr>\n",
       "      <td>1</td>\n",
       "      <td>Ajeromi-Ifelodun</td>\n",
       "      <td>6.455122</td>\n",
       "      <td>3.335946</td>\n",
       "      <td>0</td>\n",
       "      <td>African Restaurant</td>\n",
       "      <td>Pizza Place</td>\n",
       "      <td>Lounge</td>\n",
       "      <td>Hotel</td>\n",
       "      <td>Movie Theater</td>\n",
       "      <td>Art Gallery</td>\n",
       "      <td>Chinese Restaurant</td>\n",
       "      <td>Japanese Restaurant</td>\n",
       "      <td>Nightclub</td>\n",
       "      <td>Park</td>\n",
       "    </tr>\n",
       "    <tr>\n",
       "      <td>2</td>\n",
       "      <td>Kosofe</td>\n",
       "      <td>6.581974</td>\n",
       "      <td>3.414836</td>\n",
       "      <td>0</td>\n",
       "      <td>Fast Food Restaurant</td>\n",
       "      <td>Shopping Mall</td>\n",
       "      <td>African Restaurant</td>\n",
       "      <td>Bar</td>\n",
       "      <td>Convenience Store</td>\n",
       "      <td>Nightclub</td>\n",
       "      <td>Pizza Place</td>\n",
       "      <td>BBQ Joint</td>\n",
       "      <td>Chinese Restaurant</td>\n",
       "      <td>Department Store</td>\n",
       "    </tr>\n",
       "    <tr>\n",
       "      <td>3</td>\n",
       "      <td>Mushin</td>\n",
       "      <td>6.527300</td>\n",
       "      <td>3.341400</td>\n",
       "      <td>0</td>\n",
       "      <td>Fast Food Restaurant</td>\n",
       "      <td>Hotel</td>\n",
       "      <td>Shopping Mall</td>\n",
       "      <td>Pizza Place</td>\n",
       "      <td>African Restaurant</td>\n",
       "      <td>Restaurant</td>\n",
       "      <td>Lounge</td>\n",
       "      <td>Bar</td>\n",
       "      <td>Ice Cream Shop</td>\n",
       "      <td>Nightclub</td>\n",
       "    </tr>\n",
       "    <tr>\n",
       "      <td>4</td>\n",
       "      <td>Oshodi-Isolo</td>\n",
       "      <td>6.540010</td>\n",
       "      <td>3.312415</td>\n",
       "      <td>0</td>\n",
       "      <td>Fast Food Restaurant</td>\n",
       "      <td>Hotel</td>\n",
       "      <td>Shopping Mall</td>\n",
       "      <td>Pizza Place</td>\n",
       "      <td>African Restaurant</td>\n",
       "      <td>Bar</td>\n",
       "      <td>Bakery</td>\n",
       "      <td>Lounge</td>\n",
       "      <td>Nightclub</td>\n",
       "      <td>Department Store</td>\n",
       "    </tr>\n",
       "    <tr>\n",
       "      <td>5</td>\n",
       "      <td>Ojo</td>\n",
       "      <td>6.457900</td>\n",
       "      <td>3.158000</td>\n",
       "      <td>2</td>\n",
       "      <td>Park</td>\n",
       "      <td>Strip Club</td>\n",
       "      <td>Flea Market</td>\n",
       "      <td>Pub</td>\n",
       "      <td>Department Store</td>\n",
       "      <td>Campground</td>\n",
       "      <td>Chinese Restaurant</td>\n",
       "      <td>Clothing Store</td>\n",
       "      <td>Cocktail Bar</td>\n",
       "      <td>Coffee Shop</td>\n",
       "    </tr>\n",
       "    <tr>\n",
       "      <td>6</td>\n",
       "      <td>Ikorodu</td>\n",
       "      <td>6.619123</td>\n",
       "      <td>3.504127</td>\n",
       "      <td>0</td>\n",
       "      <td>Bus Station</td>\n",
       "      <td>Pizza Place</td>\n",
       "      <td>Beach</td>\n",
       "      <td>Mobile Phone Shop</td>\n",
       "      <td>Campground</td>\n",
       "      <td>Clothing Store</td>\n",
       "      <td>Cocktail Bar</td>\n",
       "      <td>Coffee Shop</td>\n",
       "      <td>Comedy Club</td>\n",
       "      <td>Comfort Food Restaurant</td>\n",
       "    </tr>\n",
       "    <tr>\n",
       "      <td>7</td>\n",
       "      <td>Surulere</td>\n",
       "      <td>6.487201</td>\n",
       "      <td>3.353259</td>\n",
       "      <td>0</td>\n",
       "      <td>Hotel</td>\n",
       "      <td>Lounge</td>\n",
       "      <td>African Restaurant</td>\n",
       "      <td>Nightclub</td>\n",
       "      <td>Department Store</td>\n",
       "      <td>Shopping Mall</td>\n",
       "      <td>Pizza Place</td>\n",
       "      <td>Bar</td>\n",
       "      <td>Fast Food Restaurant</td>\n",
       "      <td>Park</td>\n",
       "    </tr>\n",
       "    <tr>\n",
       "      <td>8</td>\n",
       "      <td>Agege</td>\n",
       "      <td>6.625256</td>\n",
       "      <td>3.311209</td>\n",
       "      <td>0</td>\n",
       "      <td>Fast Food Restaurant</td>\n",
       "      <td>Shopping Mall</td>\n",
       "      <td>Hotel</td>\n",
       "      <td>Pizza Place</td>\n",
       "      <td>Bar</td>\n",
       "      <td>Convenience Store</td>\n",
       "      <td>Lounge</td>\n",
       "      <td>BBQ Joint</td>\n",
       "      <td>Burger Joint</td>\n",
       "      <td>Chinese Restaurant</td>\n",
       "    </tr>\n",
       "    <tr>\n",
       "      <td>9</td>\n",
       "      <td>Ifako-Ijaiye</td>\n",
       "      <td>6.663602</td>\n",
       "      <td>3.289491</td>\n",
       "      <td>0</td>\n",
       "      <td>Fast Food Restaurant</td>\n",
       "      <td>Shopping Mall</td>\n",
       "      <td>Hotel</td>\n",
       "      <td>Pizza Place</td>\n",
       "      <td>Convenience Store</td>\n",
       "      <td>Chinese Restaurant</td>\n",
       "      <td>Bus Station</td>\n",
       "      <td>Burger Joint</td>\n",
       "      <td>Beer Garden</td>\n",
       "      <td>Park</td>\n",
       "    </tr>\n",
       "    <tr>\n",
       "      <td>10</td>\n",
       "      <td>Somolu</td>\n",
       "      <td>6.539303</td>\n",
       "      <td>3.379089</td>\n",
       "      <td>0</td>\n",
       "      <td>Fast Food Restaurant</td>\n",
       "      <td>Shopping Mall</td>\n",
       "      <td>Pizza Place</td>\n",
       "      <td>African Restaurant</td>\n",
       "      <td>Bar</td>\n",
       "      <td>Department Store</td>\n",
       "      <td>Lounge</td>\n",
       "      <td>Nightclub</td>\n",
       "      <td>Hotel</td>\n",
       "      <td>BBQ Joint</td>\n",
       "    </tr>\n",
       "    <tr>\n",
       "      <td>11</td>\n",
       "      <td>Amuwo-Odofin</td>\n",
       "      <td>6.447023</td>\n",
       "      <td>3.266280</td>\n",
       "      <td>0</td>\n",
       "      <td>Hotel</td>\n",
       "      <td>Fast Food Restaurant</td>\n",
       "      <td>Shopping Mall</td>\n",
       "      <td>Bakery</td>\n",
       "      <td>Beach</td>\n",
       "      <td>Bike Rental / Bike Share</td>\n",
       "      <td>Chinese Restaurant</td>\n",
       "      <td>Diner</td>\n",
       "      <td>Flea Market</td>\n",
       "      <td>Food</td>\n",
       "    </tr>\n",
       "    <tr>\n",
       "      <td>12</td>\n",
       "      <td>Lagos Mainland</td>\n",
       "      <td>6.493061</td>\n",
       "      <td>3.388250</td>\n",
       "      <td>0</td>\n",
       "      <td>Lounge</td>\n",
       "      <td>Hotel</td>\n",
       "      <td>Shopping Mall</td>\n",
       "      <td>African Restaurant</td>\n",
       "      <td>Department Store</td>\n",
       "      <td>Fast Food Restaurant</td>\n",
       "      <td>Bar</td>\n",
       "      <td>Pizza Place</td>\n",
       "      <td>Nightclub</td>\n",
       "      <td>Art Gallery</td>\n",
       "    </tr>\n",
       "    <tr>\n",
       "      <td>13</td>\n",
       "      <td>Ikeja</td>\n",
       "      <td>6.604859</td>\n",
       "      <td>3.353204</td>\n",
       "      <td>0</td>\n",
       "      <td>Fast Food Restaurant</td>\n",
       "      <td>Pizza Place</td>\n",
       "      <td>Hotel</td>\n",
       "      <td>Shopping Mall</td>\n",
       "      <td>Bar</td>\n",
       "      <td>Convenience Store</td>\n",
       "      <td>Lounge</td>\n",
       "      <td>BBQ Joint</td>\n",
       "      <td>Chinese Restaurant</td>\n",
       "      <td>Department Store</td>\n",
       "    </tr>\n",
       "    <tr>\n",
       "      <td>14</td>\n",
       "      <td>Eti-Osa</td>\n",
       "      <td>6.460231</td>\n",
       "      <td>3.532181</td>\n",
       "      <td>0</td>\n",
       "      <td>Lounge</td>\n",
       "      <td>Hotel</td>\n",
       "      <td>Bar</td>\n",
       "      <td>Beach</td>\n",
       "      <td>Convenience Store</td>\n",
       "      <td>Pizza Place</td>\n",
       "      <td>Ice Cream Shop</td>\n",
       "      <td>Shopping Mall</td>\n",
       "      <td>Fast Food Restaurant</td>\n",
       "      <td>Department Store</td>\n",
       "    </tr>\n",
       "    <tr>\n",
       "      <td>15</td>\n",
       "      <td>Badagry</td>\n",
       "      <td>6.438730</td>\n",
       "      <td>2.907486</td>\n",
       "      <td>4</td>\n",
       "      <td>History Museum</td>\n",
       "      <td>Museum</td>\n",
       "      <td>Beer Garden</td>\n",
       "      <td>Fast Food Restaurant</td>\n",
       "      <td>Dessert Shop</td>\n",
       "      <td>Clothing Store</td>\n",
       "      <td>Cocktail Bar</td>\n",
       "      <td>Coffee Shop</td>\n",
       "      <td>Comedy Club</td>\n",
       "      <td>Comfort Food Restaurant</td>\n",
       "    </tr>\n",
       "    <tr>\n",
       "      <td>16</td>\n",
       "      <td>Apapa</td>\n",
       "      <td>6.445187</td>\n",
       "      <td>3.368373</td>\n",
       "      <td>0</td>\n",
       "      <td>Hotel</td>\n",
       "      <td>Lounge</td>\n",
       "      <td>African Restaurant</td>\n",
       "      <td>Nightclub</td>\n",
       "      <td>Pizza Place</td>\n",
       "      <td>Restaurant</td>\n",
       "      <td>Art Gallery</td>\n",
       "      <td>Ice Cream Shop</td>\n",
       "      <td>Bar</td>\n",
       "      <td>Movie Theater</td>\n",
       "    </tr>\n",
       "    <tr>\n",
       "      <td>17</td>\n",
       "      <td>Lagos Island</td>\n",
       "      <td>6.514861</td>\n",
       "      <td>3.490866</td>\n",
       "      <td>0</td>\n",
       "      <td>Lounge</td>\n",
       "      <td>Hotel</td>\n",
       "      <td>Bar</td>\n",
       "      <td>Ice Cream Shop</td>\n",
       "      <td>Beach</td>\n",
       "      <td>Convenience Store</td>\n",
       "      <td>Shopping Mall</td>\n",
       "      <td>Flea Market</td>\n",
       "      <td>Movie Theater</td>\n",
       "      <td>Hotel Pool</td>\n",
       "    </tr>\n",
       "    <tr>\n",
       "      <td>18</td>\n",
       "      <td>Epe</td>\n",
       "      <td>6.524750</td>\n",
       "      <td>4.057246</td>\n",
       "      <td>1</td>\n",
       "      <td>Hotel</td>\n",
       "      <td>Other Great Outdoors</td>\n",
       "      <td>Heliport</td>\n",
       "      <td>Dessert Shop</td>\n",
       "      <td>Chinese Restaurant</td>\n",
       "      <td>Clothing Store</td>\n",
       "      <td>Cocktail Bar</td>\n",
       "      <td>Coffee Shop</td>\n",
       "      <td>Comedy Club</td>\n",
       "      <td>Comfort Food Restaurant</td>\n",
       "    </tr>\n",
       "    <tr>\n",
       "      <td>19</td>\n",
       "      <td>Ibeju-Lekki</td>\n",
       "      <td>6.471125</td>\n",
       "      <td>3.814750</td>\n",
       "      <td>3</td>\n",
       "      <td>Golf Course</td>\n",
       "      <td>Arcade</td>\n",
       "      <td>Beach</td>\n",
       "      <td>Resort</td>\n",
       "      <td>Vineyard</td>\n",
       "      <td>Dessert Shop</td>\n",
       "      <td>Clothing Store</td>\n",
       "      <td>Cocktail Bar</td>\n",
       "      <td>Coffee Shop</td>\n",
       "      <td>Comedy Club</td>\n",
       "    </tr>\n",
       "  </tbody>\n",
       "</table>\n",
       "</div>"
      ],
      "text/plain": [
       "                 LGA  latitude  longitude  Cluster Labels  \\\n",
       "0           Alimosho  6.584343   3.257631               0   \n",
       "1   Ajeromi-Ifelodun  6.455122   3.335946               0   \n",
       "2             Kosofe  6.581974   3.414836               0   \n",
       "3             Mushin  6.527300   3.341400               0   \n",
       "4       Oshodi-Isolo  6.540010   3.312415               0   \n",
       "5                Ojo  6.457900   3.158000               2   \n",
       "6            Ikorodu  6.619123   3.504127               0   \n",
       "7           Surulere  6.487201   3.353259               0   \n",
       "8              Agege  6.625256   3.311209               0   \n",
       "9       Ifako-Ijaiye  6.663602   3.289491               0   \n",
       "10            Somolu  6.539303   3.379089               0   \n",
       "11      Amuwo-Odofin  6.447023   3.266280               0   \n",
       "12    Lagos Mainland  6.493061   3.388250               0   \n",
       "13             Ikeja  6.604859   3.353204               0   \n",
       "14           Eti-Osa  6.460231   3.532181               0   \n",
       "15           Badagry  6.438730   2.907486               4   \n",
       "16             Apapa  6.445187   3.368373               0   \n",
       "17      Lagos Island  6.514861   3.490866               0   \n",
       "18               Epe  6.524750   4.057246               1   \n",
       "19       Ibeju-Lekki  6.471125   3.814750               3   \n",
       "\n",
       "   1st Most Common Venue 2nd Most Common Venue 3rd Most Common Venue  \\\n",
       "0   Fast Food Restaurant                 Hotel           Pizza Place   \n",
       "1     African Restaurant           Pizza Place                Lounge   \n",
       "2   Fast Food Restaurant         Shopping Mall    African Restaurant   \n",
       "3   Fast Food Restaurant                 Hotel         Shopping Mall   \n",
       "4   Fast Food Restaurant                 Hotel         Shopping Mall   \n",
       "5                   Park            Strip Club           Flea Market   \n",
       "6            Bus Station           Pizza Place                 Beach   \n",
       "7                  Hotel                Lounge    African Restaurant   \n",
       "8   Fast Food Restaurant         Shopping Mall                 Hotel   \n",
       "9   Fast Food Restaurant         Shopping Mall                 Hotel   \n",
       "10  Fast Food Restaurant         Shopping Mall           Pizza Place   \n",
       "11                 Hotel  Fast Food Restaurant         Shopping Mall   \n",
       "12                Lounge                 Hotel         Shopping Mall   \n",
       "13  Fast Food Restaurant           Pizza Place                 Hotel   \n",
       "14                Lounge                 Hotel                   Bar   \n",
       "15        History Museum                Museum           Beer Garden   \n",
       "16                 Hotel                Lounge    African Restaurant   \n",
       "17                Lounge                 Hotel                   Bar   \n",
       "18                 Hotel  Other Great Outdoors              Heliport   \n",
       "19           Golf Course                Arcade                 Beach   \n",
       "\n",
       "   4th Most Common Venue 5th Most Common Venue     6th Most Common Venue  \\\n",
       "0                 Lounge         Shopping Mall              Burger Joint   \n",
       "1                  Hotel         Movie Theater               Art Gallery   \n",
       "2                    Bar     Convenience Store                 Nightclub   \n",
       "3            Pizza Place    African Restaurant                Restaurant   \n",
       "4            Pizza Place    African Restaurant                       Bar   \n",
       "5                    Pub      Department Store                Campground   \n",
       "6      Mobile Phone Shop            Campground            Clothing Store   \n",
       "7              Nightclub      Department Store             Shopping Mall   \n",
       "8            Pizza Place                   Bar         Convenience Store   \n",
       "9            Pizza Place     Convenience Store        Chinese Restaurant   \n",
       "10    African Restaurant                   Bar          Department Store   \n",
       "11                Bakery                 Beach  Bike Rental / Bike Share   \n",
       "12    African Restaurant      Department Store      Fast Food Restaurant   \n",
       "13         Shopping Mall                   Bar         Convenience Store   \n",
       "14                 Beach     Convenience Store               Pizza Place   \n",
       "15  Fast Food Restaurant          Dessert Shop            Clothing Store   \n",
       "16             Nightclub           Pizza Place                Restaurant   \n",
       "17        Ice Cream Shop                 Beach         Convenience Store   \n",
       "18          Dessert Shop    Chinese Restaurant            Clothing Store   \n",
       "19                Resort              Vineyard              Dessert Shop   \n",
       "\n",
       "   7th Most Common Venue 8th Most Common Venue 9th Most Common Venue  \\\n",
       "0             Restaurant        Airport Lounge               Airport   \n",
       "1     Chinese Restaurant   Japanese Restaurant             Nightclub   \n",
       "2            Pizza Place             BBQ Joint    Chinese Restaurant   \n",
       "3                 Lounge                   Bar        Ice Cream Shop   \n",
       "4                 Bakery                Lounge             Nightclub   \n",
       "5     Chinese Restaurant        Clothing Store          Cocktail Bar   \n",
       "6           Cocktail Bar           Coffee Shop           Comedy Club   \n",
       "7            Pizza Place                   Bar  Fast Food Restaurant   \n",
       "8                 Lounge             BBQ Joint          Burger Joint   \n",
       "9            Bus Station          Burger Joint           Beer Garden   \n",
       "10                Lounge             Nightclub                 Hotel   \n",
       "11    Chinese Restaurant                 Diner           Flea Market   \n",
       "12                   Bar           Pizza Place             Nightclub   \n",
       "13                Lounge             BBQ Joint    Chinese Restaurant   \n",
       "14        Ice Cream Shop         Shopping Mall  Fast Food Restaurant   \n",
       "15          Cocktail Bar           Coffee Shop           Comedy Club   \n",
       "16           Art Gallery        Ice Cream Shop                   Bar   \n",
       "17         Shopping Mall           Flea Market         Movie Theater   \n",
       "18          Cocktail Bar           Coffee Shop           Comedy Club   \n",
       "19        Clothing Store          Cocktail Bar           Coffee Shop   \n",
       "\n",
       "     10th Most Common Venue  \n",
       "0          Department Store  \n",
       "1                      Park  \n",
       "2          Department Store  \n",
       "3                 Nightclub  \n",
       "4          Department Store  \n",
       "5               Coffee Shop  \n",
       "6   Comfort Food Restaurant  \n",
       "7                      Park  \n",
       "8        Chinese Restaurant  \n",
       "9                      Park  \n",
       "10                BBQ Joint  \n",
       "11                     Food  \n",
       "12              Art Gallery  \n",
       "13         Department Store  \n",
       "14         Department Store  \n",
       "15  Comfort Food Restaurant  \n",
       "16            Movie Theater  \n",
       "17               Hotel Pool  \n",
       "18  Comfort Food Restaurant  \n",
       "19              Comedy Club  "
      ]
     },
     "execution_count": 74,
     "metadata": {},
     "output_type": "execute_result"
    }
   ],
   "source": [
    "lagos_merged"
   ]
  },
  {
   "cell_type": "code",
   "execution_count": 75,
   "metadata": {},
   "outputs": [
    {
     "data": {
      "application/vnd.plotly.v1+json": {
       "config": {
        "plotlyServerURL": "https://plot.ly"
       },
       "data": [
        {
         "hoverlabel": {
          "namelength": 0
         },
         "hovertemplate": "LGA=%{x}<br>Cluster Labels=%{y}",
         "legendgroup": "",
         "marker": {
          "color": "#636efa",
          "symbol": "circle"
         },
         "mode": "markers",
         "name": "",
         "showlegend": false,
         "type": "scatter",
         "x": [
          "Alimosho",
          "Ajeromi-Ifelodun",
          "Kosofe",
          "Mushin",
          "Oshodi-Isolo",
          "Ojo",
          "Ikorodu",
          "Surulere",
          "Agege",
          "Ifako-Ijaiye",
          "Somolu",
          "Amuwo-Odofin",
          "Lagos Mainland",
          "Ikeja",
          "Eti-Osa",
          "Badagry",
          "Apapa",
          "Lagos Island",
          "Epe",
          "Ibeju-Lekki"
         ],
         "xaxis": "x",
         "y": [
          0,
          0,
          0,
          0,
          0,
          2,
          0,
          0,
          0,
          0,
          0,
          0,
          0,
          0,
          0,
          4,
          0,
          0,
          1,
          3
         ],
         "yaxis": "y"
        }
       ],
       "layout": {
        "legend": {
         "tracegroupgap": 0
        },
        "margin": {
         "t": 60
        },
        "template": {
         "data": {
          "bar": [
           {
            "error_x": {
             "color": "#2a3f5f"
            },
            "error_y": {
             "color": "#2a3f5f"
            },
            "marker": {
             "line": {
              "color": "#E5ECF6",
              "width": 0.5
             }
            },
            "type": "bar"
           }
          ],
          "barpolar": [
           {
            "marker": {
             "line": {
              "color": "#E5ECF6",
              "width": 0.5
             }
            },
            "type": "barpolar"
           }
          ],
          "carpet": [
           {
            "aaxis": {
             "endlinecolor": "#2a3f5f",
             "gridcolor": "white",
             "linecolor": "white",
             "minorgridcolor": "white",
             "startlinecolor": "#2a3f5f"
            },
            "baxis": {
             "endlinecolor": "#2a3f5f",
             "gridcolor": "white",
             "linecolor": "white",
             "minorgridcolor": "white",
             "startlinecolor": "#2a3f5f"
            },
            "type": "carpet"
           }
          ],
          "choropleth": [
           {
            "colorbar": {
             "outlinewidth": 0,
             "ticks": ""
            },
            "type": "choropleth"
           }
          ],
          "contour": [
           {
            "colorbar": {
             "outlinewidth": 0,
             "ticks": ""
            },
            "colorscale": [
             [
              0,
              "#0d0887"
             ],
             [
              0.1111111111111111,
              "#46039f"
             ],
             [
              0.2222222222222222,
              "#7201a8"
             ],
             [
              0.3333333333333333,
              "#9c179e"
             ],
             [
              0.4444444444444444,
              "#bd3786"
             ],
             [
              0.5555555555555556,
              "#d8576b"
             ],
             [
              0.6666666666666666,
              "#ed7953"
             ],
             [
              0.7777777777777778,
              "#fb9f3a"
             ],
             [
              0.8888888888888888,
              "#fdca26"
             ],
             [
              1,
              "#f0f921"
             ]
            ],
            "type": "contour"
           }
          ],
          "contourcarpet": [
           {
            "colorbar": {
             "outlinewidth": 0,
             "ticks": ""
            },
            "type": "contourcarpet"
           }
          ],
          "heatmap": [
           {
            "colorbar": {
             "outlinewidth": 0,
             "ticks": ""
            },
            "colorscale": [
             [
              0,
              "#0d0887"
             ],
             [
              0.1111111111111111,
              "#46039f"
             ],
             [
              0.2222222222222222,
              "#7201a8"
             ],
             [
              0.3333333333333333,
              "#9c179e"
             ],
             [
              0.4444444444444444,
              "#bd3786"
             ],
             [
              0.5555555555555556,
              "#d8576b"
             ],
             [
              0.6666666666666666,
              "#ed7953"
             ],
             [
              0.7777777777777778,
              "#fb9f3a"
             ],
             [
              0.8888888888888888,
              "#fdca26"
             ],
             [
              1,
              "#f0f921"
             ]
            ],
            "type": "heatmap"
           }
          ],
          "heatmapgl": [
           {
            "colorbar": {
             "outlinewidth": 0,
             "ticks": ""
            },
            "colorscale": [
             [
              0,
              "#0d0887"
             ],
             [
              0.1111111111111111,
              "#46039f"
             ],
             [
              0.2222222222222222,
              "#7201a8"
             ],
             [
              0.3333333333333333,
              "#9c179e"
             ],
             [
              0.4444444444444444,
              "#bd3786"
             ],
             [
              0.5555555555555556,
              "#d8576b"
             ],
             [
              0.6666666666666666,
              "#ed7953"
             ],
             [
              0.7777777777777778,
              "#fb9f3a"
             ],
             [
              0.8888888888888888,
              "#fdca26"
             ],
             [
              1,
              "#f0f921"
             ]
            ],
            "type": "heatmapgl"
           }
          ],
          "histogram": [
           {
            "marker": {
             "colorbar": {
              "outlinewidth": 0,
              "ticks": ""
             }
            },
            "type": "histogram"
           }
          ],
          "histogram2d": [
           {
            "colorbar": {
             "outlinewidth": 0,
             "ticks": ""
            },
            "colorscale": [
             [
              0,
              "#0d0887"
             ],
             [
              0.1111111111111111,
              "#46039f"
             ],
             [
              0.2222222222222222,
              "#7201a8"
             ],
             [
              0.3333333333333333,
              "#9c179e"
             ],
             [
              0.4444444444444444,
              "#bd3786"
             ],
             [
              0.5555555555555556,
              "#d8576b"
             ],
             [
              0.6666666666666666,
              "#ed7953"
             ],
             [
              0.7777777777777778,
              "#fb9f3a"
             ],
             [
              0.8888888888888888,
              "#fdca26"
             ],
             [
              1,
              "#f0f921"
             ]
            ],
            "type": "histogram2d"
           }
          ],
          "histogram2dcontour": [
           {
            "colorbar": {
             "outlinewidth": 0,
             "ticks": ""
            },
            "colorscale": [
             [
              0,
              "#0d0887"
             ],
             [
              0.1111111111111111,
              "#46039f"
             ],
             [
              0.2222222222222222,
              "#7201a8"
             ],
             [
              0.3333333333333333,
              "#9c179e"
             ],
             [
              0.4444444444444444,
              "#bd3786"
             ],
             [
              0.5555555555555556,
              "#d8576b"
             ],
             [
              0.6666666666666666,
              "#ed7953"
             ],
             [
              0.7777777777777778,
              "#fb9f3a"
             ],
             [
              0.8888888888888888,
              "#fdca26"
             ],
             [
              1,
              "#f0f921"
             ]
            ],
            "type": "histogram2dcontour"
           }
          ],
          "mesh3d": [
           {
            "colorbar": {
             "outlinewidth": 0,
             "ticks": ""
            },
            "type": "mesh3d"
           }
          ],
          "parcoords": [
           {
            "line": {
             "colorbar": {
              "outlinewidth": 0,
              "ticks": ""
             }
            },
            "type": "parcoords"
           }
          ],
          "pie": [
           {
            "automargin": true,
            "type": "pie"
           }
          ],
          "scatter": [
           {
            "marker": {
             "colorbar": {
              "outlinewidth": 0,
              "ticks": ""
             }
            },
            "type": "scatter"
           }
          ],
          "scatter3d": [
           {
            "line": {
             "colorbar": {
              "outlinewidth": 0,
              "ticks": ""
             }
            },
            "marker": {
             "colorbar": {
              "outlinewidth": 0,
              "ticks": ""
             }
            },
            "type": "scatter3d"
           }
          ],
          "scattercarpet": [
           {
            "marker": {
             "colorbar": {
              "outlinewidth": 0,
              "ticks": ""
             }
            },
            "type": "scattercarpet"
           }
          ],
          "scattergeo": [
           {
            "marker": {
             "colorbar": {
              "outlinewidth": 0,
              "ticks": ""
             }
            },
            "type": "scattergeo"
           }
          ],
          "scattergl": [
           {
            "marker": {
             "colorbar": {
              "outlinewidth": 0,
              "ticks": ""
             }
            },
            "type": "scattergl"
           }
          ],
          "scattermapbox": [
           {
            "marker": {
             "colorbar": {
              "outlinewidth": 0,
              "ticks": ""
             }
            },
            "type": "scattermapbox"
           }
          ],
          "scatterpolar": [
           {
            "marker": {
             "colorbar": {
              "outlinewidth": 0,
              "ticks": ""
             }
            },
            "type": "scatterpolar"
           }
          ],
          "scatterpolargl": [
           {
            "marker": {
             "colorbar": {
              "outlinewidth": 0,
              "ticks": ""
             }
            },
            "type": "scatterpolargl"
           }
          ],
          "scatterternary": [
           {
            "marker": {
             "colorbar": {
              "outlinewidth": 0,
              "ticks": ""
             }
            },
            "type": "scatterternary"
           }
          ],
          "surface": [
           {
            "colorbar": {
             "outlinewidth": 0,
             "ticks": ""
            },
            "colorscale": [
             [
              0,
              "#0d0887"
             ],
             [
              0.1111111111111111,
              "#46039f"
             ],
             [
              0.2222222222222222,
              "#7201a8"
             ],
             [
              0.3333333333333333,
              "#9c179e"
             ],
             [
              0.4444444444444444,
              "#bd3786"
             ],
             [
              0.5555555555555556,
              "#d8576b"
             ],
             [
              0.6666666666666666,
              "#ed7953"
             ],
             [
              0.7777777777777778,
              "#fb9f3a"
             ],
             [
              0.8888888888888888,
              "#fdca26"
             ],
             [
              1,
              "#f0f921"
             ]
            ],
            "type": "surface"
           }
          ],
          "table": [
           {
            "cells": {
             "fill": {
              "color": "#EBF0F8"
             },
             "line": {
              "color": "white"
             }
            },
            "header": {
             "fill": {
              "color": "#C8D4E3"
             },
             "line": {
              "color": "white"
             }
            },
            "type": "table"
           }
          ]
         },
         "layout": {
          "annotationdefaults": {
           "arrowcolor": "#2a3f5f",
           "arrowhead": 0,
           "arrowwidth": 1
          },
          "coloraxis": {
           "colorbar": {
            "outlinewidth": 0,
            "ticks": ""
           }
          },
          "colorscale": {
           "diverging": [
            [
             0,
             "#8e0152"
            ],
            [
             0.1,
             "#c51b7d"
            ],
            [
             0.2,
             "#de77ae"
            ],
            [
             0.3,
             "#f1b6da"
            ],
            [
             0.4,
             "#fde0ef"
            ],
            [
             0.5,
             "#f7f7f7"
            ],
            [
             0.6,
             "#e6f5d0"
            ],
            [
             0.7,
             "#b8e186"
            ],
            [
             0.8,
             "#7fbc41"
            ],
            [
             0.9,
             "#4d9221"
            ],
            [
             1,
             "#276419"
            ]
           ],
           "sequential": [
            [
             0,
             "#0d0887"
            ],
            [
             0.1111111111111111,
             "#46039f"
            ],
            [
             0.2222222222222222,
             "#7201a8"
            ],
            [
             0.3333333333333333,
             "#9c179e"
            ],
            [
             0.4444444444444444,
             "#bd3786"
            ],
            [
             0.5555555555555556,
             "#d8576b"
            ],
            [
             0.6666666666666666,
             "#ed7953"
            ],
            [
             0.7777777777777778,
             "#fb9f3a"
            ],
            [
             0.8888888888888888,
             "#fdca26"
            ],
            [
             1,
             "#f0f921"
            ]
           ],
           "sequentialminus": [
            [
             0,
             "#0d0887"
            ],
            [
             0.1111111111111111,
             "#46039f"
            ],
            [
             0.2222222222222222,
             "#7201a8"
            ],
            [
             0.3333333333333333,
             "#9c179e"
            ],
            [
             0.4444444444444444,
             "#bd3786"
            ],
            [
             0.5555555555555556,
             "#d8576b"
            ],
            [
             0.6666666666666666,
             "#ed7953"
            ],
            [
             0.7777777777777778,
             "#fb9f3a"
            ],
            [
             0.8888888888888888,
             "#fdca26"
            ],
            [
             1,
             "#f0f921"
            ]
           ]
          },
          "colorway": [
           "#636efa",
           "#EF553B",
           "#00cc96",
           "#ab63fa",
           "#FFA15A",
           "#19d3f3",
           "#FF6692",
           "#B6E880",
           "#FF97FF",
           "#FECB52"
          ],
          "font": {
           "color": "#2a3f5f"
          },
          "geo": {
           "bgcolor": "white",
           "lakecolor": "white",
           "landcolor": "#E5ECF6",
           "showlakes": true,
           "showland": true,
           "subunitcolor": "white"
          },
          "hoverlabel": {
           "align": "left"
          },
          "hovermode": "closest",
          "mapbox": {
           "style": "light"
          },
          "paper_bgcolor": "white",
          "plot_bgcolor": "#E5ECF6",
          "polar": {
           "angularaxis": {
            "gridcolor": "white",
            "linecolor": "white",
            "ticks": ""
           },
           "bgcolor": "#E5ECF6",
           "radialaxis": {
            "gridcolor": "white",
            "linecolor": "white",
            "ticks": ""
           }
          },
          "scene": {
           "xaxis": {
            "backgroundcolor": "#E5ECF6",
            "gridcolor": "white",
            "gridwidth": 2,
            "linecolor": "white",
            "showbackground": true,
            "ticks": "",
            "zerolinecolor": "white"
           },
           "yaxis": {
            "backgroundcolor": "#E5ECF6",
            "gridcolor": "white",
            "gridwidth": 2,
            "linecolor": "white",
            "showbackground": true,
            "ticks": "",
            "zerolinecolor": "white"
           },
           "zaxis": {
            "backgroundcolor": "#E5ECF6",
            "gridcolor": "white",
            "gridwidth": 2,
            "linecolor": "white",
            "showbackground": true,
            "ticks": "",
            "zerolinecolor": "white"
           }
          },
          "shapedefaults": {
           "line": {
            "color": "#2a3f5f"
           }
          },
          "ternary": {
           "aaxis": {
            "gridcolor": "white",
            "linecolor": "white",
            "ticks": ""
           },
           "baxis": {
            "gridcolor": "white",
            "linecolor": "white",
            "ticks": ""
           },
           "bgcolor": "#E5ECF6",
           "caxis": {
            "gridcolor": "white",
            "linecolor": "white",
            "ticks": ""
           }
          },
          "title": {
           "x": 0.05
          },
          "xaxis": {
           "automargin": true,
           "gridcolor": "white",
           "linecolor": "white",
           "ticks": "",
           "title": {
            "standoff": 15
           },
           "zerolinecolor": "white",
           "zerolinewidth": 2
          },
          "yaxis": {
           "automargin": true,
           "gridcolor": "white",
           "linecolor": "white",
           "ticks": "",
           "title": {
            "standoff": 15
           },
           "zerolinecolor": "white",
           "zerolinewidth": 2
          }
         }
        },
        "xaxis": {
         "anchor": "y",
         "domain": [
          0,
          1
         ],
         "title": {
          "text": "LGA"
         }
        },
        "yaxis": {
         "anchor": "x",
         "domain": [
          0,
          1
         ],
         "title": {
          "text": "Cluster Labels"
         }
        }
       }
      },
      "text/html": [
       "<div>\n",
       "        \n",
       "        \n",
       "            <div id=\"ea496b54-96d7-4fbe-8e8b-e7a364d56a72\" class=\"plotly-graph-div\" style=\"height:525px; width:100%;\"></div>\n",
       "            <script type=\"text/javascript\">\n",
       "                require([\"plotly\"], function(Plotly) {\n",
       "                    window.PLOTLYENV=window.PLOTLYENV || {};\n",
       "                    \n",
       "                if (document.getElementById(\"ea496b54-96d7-4fbe-8e8b-e7a364d56a72\")) {\n",
       "                    Plotly.newPlot(\n",
       "                        'ea496b54-96d7-4fbe-8e8b-e7a364d56a72',\n",
       "                        [{\"hoverlabel\": {\"namelength\": 0}, \"hovertemplate\": \"LGA=%{x}<br>Cluster Labels=%{y}\", \"legendgroup\": \"\", \"marker\": {\"color\": \"#636efa\", \"symbol\": \"circle\"}, \"mode\": \"markers\", \"name\": \"\", \"showlegend\": false, \"type\": \"scatter\", \"x\": [\"Alimosho\", \"Ajeromi-Ifelodun\", \"Kosofe\", \"Mushin\", \"Oshodi-Isolo\", \"Ojo\", \"Ikorodu\", \"Surulere\", \"Agege\", \"Ifako-Ijaiye\", \"Somolu\", \"Amuwo-Odofin\", \"Lagos Mainland\", \"Ikeja\", \"Eti-Osa\", \"Badagry\", \"Apapa\", \"Lagos Island\", \"Epe\", \"Ibeju-Lekki\"], \"xaxis\": \"x\", \"y\": [0, 0, 0, 0, 0, 2, 0, 0, 0, 0, 0, 0, 0, 0, 0, 4, 0, 0, 1, 3], \"yaxis\": \"y\"}],\n",
       "                        {\"legend\": {\"tracegroupgap\": 0}, \"margin\": {\"t\": 60}, \"template\": {\"data\": {\"bar\": [{\"error_x\": {\"color\": \"#2a3f5f\"}, \"error_y\": {\"color\": \"#2a3f5f\"}, \"marker\": {\"line\": {\"color\": \"#E5ECF6\", \"width\": 0.5}}, \"type\": \"bar\"}], \"barpolar\": [{\"marker\": {\"line\": {\"color\": \"#E5ECF6\", \"width\": 0.5}}, \"type\": \"barpolar\"}], \"carpet\": [{\"aaxis\": {\"endlinecolor\": \"#2a3f5f\", \"gridcolor\": \"white\", \"linecolor\": \"white\", \"minorgridcolor\": \"white\", \"startlinecolor\": \"#2a3f5f\"}, \"baxis\": {\"endlinecolor\": \"#2a3f5f\", \"gridcolor\": \"white\", \"linecolor\": \"white\", \"minorgridcolor\": \"white\", \"startlinecolor\": \"#2a3f5f\"}, \"type\": \"carpet\"}], \"choropleth\": [{\"colorbar\": {\"outlinewidth\": 0, \"ticks\": \"\"}, \"type\": \"choropleth\"}], \"contour\": [{\"colorbar\": {\"outlinewidth\": 0, \"ticks\": \"\"}, \"colorscale\": [[0.0, \"#0d0887\"], [0.1111111111111111, \"#46039f\"], [0.2222222222222222, \"#7201a8\"], [0.3333333333333333, \"#9c179e\"], [0.4444444444444444, \"#bd3786\"], [0.5555555555555556, \"#d8576b\"], [0.6666666666666666, \"#ed7953\"], [0.7777777777777778, \"#fb9f3a\"], [0.8888888888888888, \"#fdca26\"], [1.0, \"#f0f921\"]], \"type\": \"contour\"}], \"contourcarpet\": [{\"colorbar\": {\"outlinewidth\": 0, \"ticks\": \"\"}, \"type\": \"contourcarpet\"}], \"heatmap\": [{\"colorbar\": {\"outlinewidth\": 0, \"ticks\": \"\"}, \"colorscale\": [[0.0, \"#0d0887\"], [0.1111111111111111, \"#46039f\"], [0.2222222222222222, \"#7201a8\"], [0.3333333333333333, \"#9c179e\"], [0.4444444444444444, \"#bd3786\"], [0.5555555555555556, \"#d8576b\"], [0.6666666666666666, \"#ed7953\"], [0.7777777777777778, \"#fb9f3a\"], [0.8888888888888888, \"#fdca26\"], [1.0, \"#f0f921\"]], \"type\": \"heatmap\"}], \"heatmapgl\": [{\"colorbar\": {\"outlinewidth\": 0, \"ticks\": \"\"}, \"colorscale\": [[0.0, \"#0d0887\"], [0.1111111111111111, \"#46039f\"], [0.2222222222222222, \"#7201a8\"], [0.3333333333333333, \"#9c179e\"], [0.4444444444444444, \"#bd3786\"], [0.5555555555555556, \"#d8576b\"], [0.6666666666666666, \"#ed7953\"], [0.7777777777777778, \"#fb9f3a\"], [0.8888888888888888, \"#fdca26\"], [1.0, \"#f0f921\"]], \"type\": \"heatmapgl\"}], \"histogram\": [{\"marker\": {\"colorbar\": {\"outlinewidth\": 0, \"ticks\": \"\"}}, \"type\": \"histogram\"}], \"histogram2d\": [{\"colorbar\": {\"outlinewidth\": 0, \"ticks\": \"\"}, \"colorscale\": [[0.0, \"#0d0887\"], [0.1111111111111111, \"#46039f\"], [0.2222222222222222, \"#7201a8\"], [0.3333333333333333, \"#9c179e\"], [0.4444444444444444, \"#bd3786\"], [0.5555555555555556, \"#d8576b\"], [0.6666666666666666, \"#ed7953\"], [0.7777777777777778, \"#fb9f3a\"], [0.8888888888888888, \"#fdca26\"], [1.0, \"#f0f921\"]], \"type\": \"histogram2d\"}], \"histogram2dcontour\": [{\"colorbar\": {\"outlinewidth\": 0, \"ticks\": \"\"}, \"colorscale\": [[0.0, \"#0d0887\"], [0.1111111111111111, \"#46039f\"], [0.2222222222222222, \"#7201a8\"], [0.3333333333333333, \"#9c179e\"], [0.4444444444444444, \"#bd3786\"], [0.5555555555555556, \"#d8576b\"], [0.6666666666666666, \"#ed7953\"], [0.7777777777777778, \"#fb9f3a\"], [0.8888888888888888, \"#fdca26\"], [1.0, \"#f0f921\"]], \"type\": \"histogram2dcontour\"}], \"mesh3d\": [{\"colorbar\": {\"outlinewidth\": 0, \"ticks\": \"\"}, \"type\": \"mesh3d\"}], \"parcoords\": [{\"line\": {\"colorbar\": {\"outlinewidth\": 0, \"ticks\": \"\"}}, \"type\": \"parcoords\"}], \"pie\": [{\"automargin\": true, \"type\": \"pie\"}], \"scatter\": [{\"marker\": {\"colorbar\": {\"outlinewidth\": 0, \"ticks\": \"\"}}, \"type\": \"scatter\"}], \"scatter3d\": [{\"line\": {\"colorbar\": {\"outlinewidth\": 0, \"ticks\": \"\"}}, \"marker\": {\"colorbar\": {\"outlinewidth\": 0, \"ticks\": \"\"}}, \"type\": \"scatter3d\"}], \"scattercarpet\": [{\"marker\": {\"colorbar\": {\"outlinewidth\": 0, \"ticks\": \"\"}}, \"type\": \"scattercarpet\"}], \"scattergeo\": [{\"marker\": {\"colorbar\": {\"outlinewidth\": 0, \"ticks\": \"\"}}, \"type\": \"scattergeo\"}], \"scattergl\": [{\"marker\": {\"colorbar\": {\"outlinewidth\": 0, \"ticks\": \"\"}}, \"type\": \"scattergl\"}], \"scattermapbox\": [{\"marker\": {\"colorbar\": {\"outlinewidth\": 0, \"ticks\": \"\"}}, \"type\": \"scattermapbox\"}], \"scatterpolar\": [{\"marker\": {\"colorbar\": {\"outlinewidth\": 0, \"ticks\": \"\"}}, \"type\": \"scatterpolar\"}], \"scatterpolargl\": [{\"marker\": {\"colorbar\": {\"outlinewidth\": 0, \"ticks\": \"\"}}, \"type\": \"scatterpolargl\"}], \"scatterternary\": [{\"marker\": {\"colorbar\": {\"outlinewidth\": 0, \"ticks\": \"\"}}, \"type\": \"scatterternary\"}], \"surface\": [{\"colorbar\": {\"outlinewidth\": 0, \"ticks\": \"\"}, \"colorscale\": [[0.0, \"#0d0887\"], [0.1111111111111111, \"#46039f\"], [0.2222222222222222, \"#7201a8\"], [0.3333333333333333, \"#9c179e\"], [0.4444444444444444, \"#bd3786\"], [0.5555555555555556, \"#d8576b\"], [0.6666666666666666, \"#ed7953\"], [0.7777777777777778, \"#fb9f3a\"], [0.8888888888888888, \"#fdca26\"], [1.0, \"#f0f921\"]], \"type\": \"surface\"}], \"table\": [{\"cells\": {\"fill\": {\"color\": \"#EBF0F8\"}, \"line\": {\"color\": \"white\"}}, \"header\": {\"fill\": {\"color\": \"#C8D4E3\"}, \"line\": {\"color\": \"white\"}}, \"type\": \"table\"}]}, \"layout\": {\"annotationdefaults\": {\"arrowcolor\": \"#2a3f5f\", \"arrowhead\": 0, \"arrowwidth\": 1}, \"coloraxis\": {\"colorbar\": {\"outlinewidth\": 0, \"ticks\": \"\"}}, \"colorscale\": {\"diverging\": [[0, \"#8e0152\"], [0.1, \"#c51b7d\"], [0.2, \"#de77ae\"], [0.3, \"#f1b6da\"], [0.4, \"#fde0ef\"], [0.5, \"#f7f7f7\"], [0.6, \"#e6f5d0\"], [0.7, \"#b8e186\"], [0.8, \"#7fbc41\"], [0.9, \"#4d9221\"], [1, \"#276419\"]], \"sequential\": [[0.0, \"#0d0887\"], [0.1111111111111111, \"#46039f\"], [0.2222222222222222, \"#7201a8\"], [0.3333333333333333, \"#9c179e\"], [0.4444444444444444, \"#bd3786\"], [0.5555555555555556, \"#d8576b\"], [0.6666666666666666, \"#ed7953\"], [0.7777777777777778, \"#fb9f3a\"], [0.8888888888888888, \"#fdca26\"], [1.0, \"#f0f921\"]], \"sequentialminus\": [[0.0, \"#0d0887\"], [0.1111111111111111, \"#46039f\"], [0.2222222222222222, \"#7201a8\"], [0.3333333333333333, \"#9c179e\"], [0.4444444444444444, \"#bd3786\"], [0.5555555555555556, \"#d8576b\"], [0.6666666666666666, \"#ed7953\"], [0.7777777777777778, \"#fb9f3a\"], [0.8888888888888888, \"#fdca26\"], [1.0, \"#f0f921\"]]}, \"colorway\": [\"#636efa\", \"#EF553B\", \"#00cc96\", \"#ab63fa\", \"#FFA15A\", \"#19d3f3\", \"#FF6692\", \"#B6E880\", \"#FF97FF\", \"#FECB52\"], \"font\": {\"color\": \"#2a3f5f\"}, \"geo\": {\"bgcolor\": \"white\", \"lakecolor\": \"white\", \"landcolor\": \"#E5ECF6\", \"showlakes\": true, \"showland\": true, \"subunitcolor\": \"white\"}, \"hoverlabel\": {\"align\": \"left\"}, \"hovermode\": \"closest\", \"mapbox\": {\"style\": \"light\"}, \"paper_bgcolor\": \"white\", \"plot_bgcolor\": \"#E5ECF6\", \"polar\": {\"angularaxis\": {\"gridcolor\": \"white\", \"linecolor\": \"white\", \"ticks\": \"\"}, \"bgcolor\": \"#E5ECF6\", \"radialaxis\": {\"gridcolor\": \"white\", \"linecolor\": \"white\", \"ticks\": \"\"}}, \"scene\": {\"xaxis\": {\"backgroundcolor\": \"#E5ECF6\", \"gridcolor\": \"white\", \"gridwidth\": 2, \"linecolor\": \"white\", \"showbackground\": true, \"ticks\": \"\", \"zerolinecolor\": \"white\"}, \"yaxis\": {\"backgroundcolor\": \"#E5ECF6\", \"gridcolor\": \"white\", \"gridwidth\": 2, \"linecolor\": \"white\", \"showbackground\": true, \"ticks\": \"\", \"zerolinecolor\": \"white\"}, \"zaxis\": {\"backgroundcolor\": \"#E5ECF6\", \"gridcolor\": \"white\", \"gridwidth\": 2, \"linecolor\": \"white\", \"showbackground\": true, \"ticks\": \"\", \"zerolinecolor\": \"white\"}}, \"shapedefaults\": {\"line\": {\"color\": \"#2a3f5f\"}}, \"ternary\": {\"aaxis\": {\"gridcolor\": \"white\", \"linecolor\": \"white\", \"ticks\": \"\"}, \"baxis\": {\"gridcolor\": \"white\", \"linecolor\": \"white\", \"ticks\": \"\"}, \"bgcolor\": \"#E5ECF6\", \"caxis\": {\"gridcolor\": \"white\", \"linecolor\": \"white\", \"ticks\": \"\"}}, \"title\": {\"x\": 0.05}, \"xaxis\": {\"automargin\": true, \"gridcolor\": \"white\", \"linecolor\": \"white\", \"ticks\": \"\", \"title\": {\"standoff\": 15}, \"zerolinecolor\": \"white\", \"zerolinewidth\": 2}, \"yaxis\": {\"automargin\": true, \"gridcolor\": \"white\", \"linecolor\": \"white\", \"ticks\": \"\", \"title\": {\"standoff\": 15}, \"zerolinecolor\": \"white\", \"zerolinewidth\": 2}}}, \"xaxis\": {\"anchor\": \"y\", \"domain\": [0.0, 1.0], \"title\": {\"text\": \"LGA\"}}, \"yaxis\": {\"anchor\": \"x\", \"domain\": [0.0, 1.0], \"title\": {\"text\": \"Cluster Labels\"}}},\n",
       "                        {\"responsive\": true}\n",
       "                    ).then(function(){\n",
       "                            \n",
       "var gd = document.getElementById('ea496b54-96d7-4fbe-8e8b-e7a364d56a72');\n",
       "var x = new MutationObserver(function (mutations, observer) {{\n",
       "        var display = window.getComputedStyle(gd).display;\n",
       "        if (!display || display === 'none') {{\n",
       "            console.log([gd, 'removed!']);\n",
       "            Plotly.purge(gd);\n",
       "            observer.disconnect();\n",
       "        }}\n",
       "}});\n",
       "\n",
       "// Listen for the removal of the full notebook cells\n",
       "var notebookContainer = gd.closest('#notebook-container');\n",
       "if (notebookContainer) {{\n",
       "    x.observe(notebookContainer, {childList: true});\n",
       "}}\n",
       "\n",
       "// Listen for the clearing of the current output cell\n",
       "var outputEl = gd.closest('.output');\n",
       "if (outputEl) {{\n",
       "    x.observe(outputEl, {childList: true});\n",
       "}}\n",
       "\n",
       "                        })\n",
       "                };\n",
       "                });\n",
       "            </script>\n",
       "        </div>"
      ]
     },
     "metadata": {},
     "output_type": "display_data"
    }
   ],
   "source": [
    "import plotly.express as px\n",
    "fig = px.scatter(lagos_merged, x=\"LGA\", y=\"Cluster Labels\")\n",
    "fig.show()"
   ]
  },
  {
   "cell_type": "markdown",
   "metadata": {
    "colab_type": "text",
    "id": "FNQ0QWmuntpt"
   },
   "source": [
    "####  let's visualize the resulting clusters\n"
   ]
  },
  {
   "cell_type": "code",
   "execution_count": 76,
   "metadata": {
    "colab": {
     "base_uri": "https://localhost:8080/",
     "height": 858
    },
    "colab_type": "code",
    "id": "BVMZeNACnr0n",
    "outputId": "71c2252f-4b32-41f0-84a4-5a2aed45938c",
    "scrolled": true
   },
   "outputs": [
    {
     "data": {
      "text/html": [
       "<div style=\"width:100%;\"><div style=\"position:relative;width:100%;height:0;padding-bottom:60%;\"><span style=\"color:#565656\">Make this Notebook Trusted to load map: File -> Trust Notebook</span><iframe src=\"about:blank\" style=\"position:absolute;width:100%;height:100%;left:0;top:0;border:none !important;\" data-html=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 onload=\"this.contentDocument.open();this.contentDocument.write(atob(this.getAttribute('data-html')));this.contentDocument.close();\" allowfullscreen webkitallowfullscreen mozallowfullscreen></iframe></div></div>"
      ],
      "text/plain": [
       "<folium.folium.Map at 0x22836874988>"
      ]
     },
     "execution_count": 76,
     "metadata": {},
     "output_type": "execute_result"
    }
   ],
   "source": [
    "# create map\n",
    "map_clusters = folium.Map(location=[latitude, longitude], zoom_start=10)\n",
    "\n",
    "# set color scheme for the clusters\n",
    "x = np.arange(kclusters)\n",
    "ys = [i + x + (i*x)**2 for i in range(kclusters)]\n",
    "colors_array = cm.rainbow(np.linspace(0, 1, len(ys)))\n",
    "rainbow = [colors.rgb2hex(i) for i in colors_array]\n",
    "\n",
    "# add markers to the map\n",
    "markers_colors = []\n",
    "for lat, lon, poi, cluster in zip(lagos_merged['latitude'], lagos_merged['longitude'], lagos_merged['LGA'], lagos_merged['Cluster Labels']):\n",
    "    label = folium.Popup(str(poi) + ' Cluster ' + str(cluster), parse_html=True)\n",
    "    folium.CircleMarker(\n",
    "        [lat, lon],\n",
    "        radius=5,\n",
    "        popup=label,\n",
    "        color=rainbow[cluster-1],\n",
    "        fill=True,\n",
    "        fill_color= rainbow[cluster-1],\n",
    "        fill_opacity=0.7).add_to(map_clusters)\n",
    "       \n",
    "map_clusters"
   ]
  },
  {
   "cell_type": "markdown",
   "metadata": {
    "colab_type": "text",
    "id": "vGq1z2uYqctm"
   },
   "source": [
    "#### Inspecting The Clusters"
   ]
  },
  {
   "cell_type": "markdown",
   "metadata": {
    "colab_type": "text",
    "id": "cBUXrfNSqnlO"
   },
   "source": [
    "Now, we can examine each cluster and determine the discriminating venue categories that distinguish each cluster. Based on the defining categories, we can then assign a name to each cluster."
   ]
  },
  {
   "cell_type": "code",
   "execution_count": 77,
   "metadata": {
    "colab": {
     "base_uri": "https://localhost:8080/",
     "height": 101
    },
    "colab_type": "code",
    "id": "5shMGbmCppGE",
    "outputId": "6b7375ea-cd72-4d86-a814-c85f06809fbe"
   },
   "outputs": [
    {
     "name": "stdout",
     "output_type": "stream",
     "text": [
      "cluster1 shape is (16, 14)\n",
      "cluster2 shape is (1, 14)\n",
      "cluster3 shape is (1, 14)\n",
      "cluster4 shape is (1, 14)\n",
      "cluster5 shape is (1, 14)\n"
     ]
    }
   ],
   "source": [
    "cluster1 = lagos_merged[lagos_merged['Cluster Labels'] == 0]\n",
    "cluster2 = lagos_merged[lagos_merged['Cluster Labels'] == 1]\n",
    "cluster3 = lagos_merged[lagos_merged['Cluster Labels'] == 2]\n",
    "cluster4 = lagos_merged[lagos_merged['Cluster Labels'] == 3]\n",
    "cluster5 = lagos_merged[lagos_merged['Cluster Labels'] == 4]\n",
    "\n",
    "for i in range(5):\n",
    "    x = lagos_merged[lagos_merged['Cluster Labels'] == i]\n",
    "    print('cluster'+str(i+1) + ' shape is {}'.format(x.shape))"
   ]
  },
  {
   "cell_type": "markdown",
   "metadata": {
    "colab_type": "text",
    "id": "RB6ekaahqSAk"
   },
   "source": [
    "We can inspect Cluster One closely"
   ]
  },
  {
   "cell_type": "code",
   "execution_count": 78,
   "metadata": {
    "colab": {
     "base_uri": "https://localhost:8080/",
     "height": 823
    },
    "colab_type": "code",
    "id": "o-FD2g_Vpu16",
    "outputId": "7b87640b-e47e-476d-e67d-d9b1a9ef8b2d"
   },
   "outputs": [
    {
     "data": {
      "text/html": [
       "<div>\n",
       "<style scoped>\n",
       "    .dataframe tbody tr th:only-of-type {\n",
       "        vertical-align: middle;\n",
       "    }\n",
       "\n",
       "    .dataframe tbody tr th {\n",
       "        vertical-align: top;\n",
       "    }\n",
       "\n",
       "    .dataframe thead th {\n",
       "        text-align: right;\n",
       "    }\n",
       "</style>\n",
       "<table border=\"1\" class=\"dataframe\">\n",
       "  <thead>\n",
       "    <tr style=\"text-align: right;\">\n",
       "      <th></th>\n",
       "      <th>LGA</th>\n",
       "      <th>latitude</th>\n",
       "      <th>longitude</th>\n",
       "      <th>Cluster Labels</th>\n",
       "      <th>1st Most Common Venue</th>\n",
       "      <th>2nd Most Common Venue</th>\n",
       "      <th>3rd Most Common Venue</th>\n",
       "      <th>4th Most Common Venue</th>\n",
       "      <th>5th Most Common Venue</th>\n",
       "      <th>6th Most Common Venue</th>\n",
       "      <th>7th Most Common Venue</th>\n",
       "      <th>8th Most Common Venue</th>\n",
       "      <th>9th Most Common Venue</th>\n",
       "      <th>10th Most Common Venue</th>\n",
       "    </tr>\n",
       "  </thead>\n",
       "  <tbody>\n",
       "    <tr>\n",
       "      <td>0</td>\n",
       "      <td>Alimosho</td>\n",
       "      <td>6.584343</td>\n",
       "      <td>3.257631</td>\n",
       "      <td>0</td>\n",
       "      <td>Fast Food Restaurant</td>\n",
       "      <td>Hotel</td>\n",
       "      <td>Pizza Place</td>\n",
       "      <td>Lounge</td>\n",
       "      <td>Shopping Mall</td>\n",
       "      <td>Burger Joint</td>\n",
       "      <td>Restaurant</td>\n",
       "      <td>Airport Lounge</td>\n",
       "      <td>Airport</td>\n",
       "      <td>Department Store</td>\n",
       "    </tr>\n",
       "    <tr>\n",
       "      <td>1</td>\n",
       "      <td>Ajeromi-Ifelodun</td>\n",
       "      <td>6.455122</td>\n",
       "      <td>3.335946</td>\n",
       "      <td>0</td>\n",
       "      <td>African Restaurant</td>\n",
       "      <td>Pizza Place</td>\n",
       "      <td>Lounge</td>\n",
       "      <td>Hotel</td>\n",
       "      <td>Movie Theater</td>\n",
       "      <td>Art Gallery</td>\n",
       "      <td>Chinese Restaurant</td>\n",
       "      <td>Japanese Restaurant</td>\n",
       "      <td>Nightclub</td>\n",
       "      <td>Park</td>\n",
       "    </tr>\n",
       "    <tr>\n",
       "      <td>2</td>\n",
       "      <td>Kosofe</td>\n",
       "      <td>6.581974</td>\n",
       "      <td>3.414836</td>\n",
       "      <td>0</td>\n",
       "      <td>Fast Food Restaurant</td>\n",
       "      <td>Shopping Mall</td>\n",
       "      <td>African Restaurant</td>\n",
       "      <td>Bar</td>\n",
       "      <td>Convenience Store</td>\n",
       "      <td>Nightclub</td>\n",
       "      <td>Pizza Place</td>\n",
       "      <td>BBQ Joint</td>\n",
       "      <td>Chinese Restaurant</td>\n",
       "      <td>Department Store</td>\n",
       "    </tr>\n",
       "    <tr>\n",
       "      <td>3</td>\n",
       "      <td>Mushin</td>\n",
       "      <td>6.527300</td>\n",
       "      <td>3.341400</td>\n",
       "      <td>0</td>\n",
       "      <td>Fast Food Restaurant</td>\n",
       "      <td>Hotel</td>\n",
       "      <td>Shopping Mall</td>\n",
       "      <td>Pizza Place</td>\n",
       "      <td>African Restaurant</td>\n",
       "      <td>Restaurant</td>\n",
       "      <td>Lounge</td>\n",
       "      <td>Bar</td>\n",
       "      <td>Ice Cream Shop</td>\n",
       "      <td>Nightclub</td>\n",
       "    </tr>\n",
       "    <tr>\n",
       "      <td>4</td>\n",
       "      <td>Oshodi-Isolo</td>\n",
       "      <td>6.540010</td>\n",
       "      <td>3.312415</td>\n",
       "      <td>0</td>\n",
       "      <td>Fast Food Restaurant</td>\n",
       "      <td>Hotel</td>\n",
       "      <td>Shopping Mall</td>\n",
       "      <td>Pizza Place</td>\n",
       "      <td>African Restaurant</td>\n",
       "      <td>Bar</td>\n",
       "      <td>Bakery</td>\n",
       "      <td>Lounge</td>\n",
       "      <td>Nightclub</td>\n",
       "      <td>Department Store</td>\n",
       "    </tr>\n",
       "    <tr>\n",
       "      <td>6</td>\n",
       "      <td>Ikorodu</td>\n",
       "      <td>6.619123</td>\n",
       "      <td>3.504127</td>\n",
       "      <td>0</td>\n",
       "      <td>Bus Station</td>\n",
       "      <td>Pizza Place</td>\n",
       "      <td>Beach</td>\n",
       "      <td>Mobile Phone Shop</td>\n",
       "      <td>Campground</td>\n",
       "      <td>Clothing Store</td>\n",
       "      <td>Cocktail Bar</td>\n",
       "      <td>Coffee Shop</td>\n",
       "      <td>Comedy Club</td>\n",
       "      <td>Comfort Food Restaurant</td>\n",
       "    </tr>\n",
       "    <tr>\n",
       "      <td>7</td>\n",
       "      <td>Surulere</td>\n",
       "      <td>6.487201</td>\n",
       "      <td>3.353259</td>\n",
       "      <td>0</td>\n",
       "      <td>Hotel</td>\n",
       "      <td>Lounge</td>\n",
       "      <td>African Restaurant</td>\n",
       "      <td>Nightclub</td>\n",
       "      <td>Department Store</td>\n",
       "      <td>Shopping Mall</td>\n",
       "      <td>Pizza Place</td>\n",
       "      <td>Bar</td>\n",
       "      <td>Fast Food Restaurant</td>\n",
       "      <td>Park</td>\n",
       "    </tr>\n",
       "    <tr>\n",
       "      <td>8</td>\n",
       "      <td>Agege</td>\n",
       "      <td>6.625256</td>\n",
       "      <td>3.311209</td>\n",
       "      <td>0</td>\n",
       "      <td>Fast Food Restaurant</td>\n",
       "      <td>Shopping Mall</td>\n",
       "      <td>Hotel</td>\n",
       "      <td>Pizza Place</td>\n",
       "      <td>Bar</td>\n",
       "      <td>Convenience Store</td>\n",
       "      <td>Lounge</td>\n",
       "      <td>BBQ Joint</td>\n",
       "      <td>Burger Joint</td>\n",
       "      <td>Chinese Restaurant</td>\n",
       "    </tr>\n",
       "    <tr>\n",
       "      <td>9</td>\n",
       "      <td>Ifako-Ijaiye</td>\n",
       "      <td>6.663602</td>\n",
       "      <td>3.289491</td>\n",
       "      <td>0</td>\n",
       "      <td>Fast Food Restaurant</td>\n",
       "      <td>Shopping Mall</td>\n",
       "      <td>Hotel</td>\n",
       "      <td>Pizza Place</td>\n",
       "      <td>Convenience Store</td>\n",
       "      <td>Chinese Restaurant</td>\n",
       "      <td>Bus Station</td>\n",
       "      <td>Burger Joint</td>\n",
       "      <td>Beer Garden</td>\n",
       "      <td>Park</td>\n",
       "    </tr>\n",
       "    <tr>\n",
       "      <td>10</td>\n",
       "      <td>Somolu</td>\n",
       "      <td>6.539303</td>\n",
       "      <td>3.379089</td>\n",
       "      <td>0</td>\n",
       "      <td>Fast Food Restaurant</td>\n",
       "      <td>Shopping Mall</td>\n",
       "      <td>Pizza Place</td>\n",
       "      <td>African Restaurant</td>\n",
       "      <td>Bar</td>\n",
       "      <td>Department Store</td>\n",
       "      <td>Lounge</td>\n",
       "      <td>Nightclub</td>\n",
       "      <td>Hotel</td>\n",
       "      <td>BBQ Joint</td>\n",
       "    </tr>\n",
       "    <tr>\n",
       "      <td>11</td>\n",
       "      <td>Amuwo-Odofin</td>\n",
       "      <td>6.447023</td>\n",
       "      <td>3.266280</td>\n",
       "      <td>0</td>\n",
       "      <td>Hotel</td>\n",
       "      <td>Fast Food Restaurant</td>\n",
       "      <td>Shopping Mall</td>\n",
       "      <td>Bakery</td>\n",
       "      <td>Beach</td>\n",
       "      <td>Bike Rental / Bike Share</td>\n",
       "      <td>Chinese Restaurant</td>\n",
       "      <td>Diner</td>\n",
       "      <td>Flea Market</td>\n",
       "      <td>Food</td>\n",
       "    </tr>\n",
       "    <tr>\n",
       "      <td>12</td>\n",
       "      <td>Lagos Mainland</td>\n",
       "      <td>6.493061</td>\n",
       "      <td>3.388250</td>\n",
       "      <td>0</td>\n",
       "      <td>Lounge</td>\n",
       "      <td>Hotel</td>\n",
       "      <td>Shopping Mall</td>\n",
       "      <td>African Restaurant</td>\n",
       "      <td>Department Store</td>\n",
       "      <td>Fast Food Restaurant</td>\n",
       "      <td>Bar</td>\n",
       "      <td>Pizza Place</td>\n",
       "      <td>Nightclub</td>\n",
       "      <td>Art Gallery</td>\n",
       "    </tr>\n",
       "    <tr>\n",
       "      <td>13</td>\n",
       "      <td>Ikeja</td>\n",
       "      <td>6.604859</td>\n",
       "      <td>3.353204</td>\n",
       "      <td>0</td>\n",
       "      <td>Fast Food Restaurant</td>\n",
       "      <td>Pizza Place</td>\n",
       "      <td>Hotel</td>\n",
       "      <td>Shopping Mall</td>\n",
       "      <td>Bar</td>\n",
       "      <td>Convenience Store</td>\n",
       "      <td>Lounge</td>\n",
       "      <td>BBQ Joint</td>\n",
       "      <td>Chinese Restaurant</td>\n",
       "      <td>Department Store</td>\n",
       "    </tr>\n",
       "    <tr>\n",
       "      <td>14</td>\n",
       "      <td>Eti-Osa</td>\n",
       "      <td>6.460231</td>\n",
       "      <td>3.532181</td>\n",
       "      <td>0</td>\n",
       "      <td>Lounge</td>\n",
       "      <td>Hotel</td>\n",
       "      <td>Bar</td>\n",
       "      <td>Beach</td>\n",
       "      <td>Convenience Store</td>\n",
       "      <td>Pizza Place</td>\n",
       "      <td>Ice Cream Shop</td>\n",
       "      <td>Shopping Mall</td>\n",
       "      <td>Fast Food Restaurant</td>\n",
       "      <td>Department Store</td>\n",
       "    </tr>\n",
       "    <tr>\n",
       "      <td>16</td>\n",
       "      <td>Apapa</td>\n",
       "      <td>6.445187</td>\n",
       "      <td>3.368373</td>\n",
       "      <td>0</td>\n",
       "      <td>Hotel</td>\n",
       "      <td>Lounge</td>\n",
       "      <td>African Restaurant</td>\n",
       "      <td>Nightclub</td>\n",
       "      <td>Pizza Place</td>\n",
       "      <td>Restaurant</td>\n",
       "      <td>Art Gallery</td>\n",
       "      <td>Ice Cream Shop</td>\n",
       "      <td>Bar</td>\n",
       "      <td>Movie Theater</td>\n",
       "    </tr>\n",
       "    <tr>\n",
       "      <td>17</td>\n",
       "      <td>Lagos Island</td>\n",
       "      <td>6.514861</td>\n",
       "      <td>3.490866</td>\n",
       "      <td>0</td>\n",
       "      <td>Lounge</td>\n",
       "      <td>Hotel</td>\n",
       "      <td>Bar</td>\n",
       "      <td>Ice Cream Shop</td>\n",
       "      <td>Beach</td>\n",
       "      <td>Convenience Store</td>\n",
       "      <td>Shopping Mall</td>\n",
       "      <td>Flea Market</td>\n",
       "      <td>Movie Theater</td>\n",
       "      <td>Hotel Pool</td>\n",
       "    </tr>\n",
       "  </tbody>\n",
       "</table>\n",
       "</div>"
      ],
      "text/plain": [
       "                 LGA  latitude  longitude  Cluster Labels  \\\n",
       "0           Alimosho  6.584343   3.257631               0   \n",
       "1   Ajeromi-Ifelodun  6.455122   3.335946               0   \n",
       "2             Kosofe  6.581974   3.414836               0   \n",
       "3             Mushin  6.527300   3.341400               0   \n",
       "4       Oshodi-Isolo  6.540010   3.312415               0   \n",
       "6            Ikorodu  6.619123   3.504127               0   \n",
       "7           Surulere  6.487201   3.353259               0   \n",
       "8              Agege  6.625256   3.311209               0   \n",
       "9       Ifako-Ijaiye  6.663602   3.289491               0   \n",
       "10            Somolu  6.539303   3.379089               0   \n",
       "11      Amuwo-Odofin  6.447023   3.266280               0   \n",
       "12    Lagos Mainland  6.493061   3.388250               0   \n",
       "13             Ikeja  6.604859   3.353204               0   \n",
       "14           Eti-Osa  6.460231   3.532181               0   \n",
       "16             Apapa  6.445187   3.368373               0   \n",
       "17      Lagos Island  6.514861   3.490866               0   \n",
       "\n",
       "   1st Most Common Venue 2nd Most Common Venue 3rd Most Common Venue  \\\n",
       "0   Fast Food Restaurant                 Hotel           Pizza Place   \n",
       "1     African Restaurant           Pizza Place                Lounge   \n",
       "2   Fast Food Restaurant         Shopping Mall    African Restaurant   \n",
       "3   Fast Food Restaurant                 Hotel         Shopping Mall   \n",
       "4   Fast Food Restaurant                 Hotel         Shopping Mall   \n",
       "6            Bus Station           Pizza Place                 Beach   \n",
       "7                  Hotel                Lounge    African Restaurant   \n",
       "8   Fast Food Restaurant         Shopping Mall                 Hotel   \n",
       "9   Fast Food Restaurant         Shopping Mall                 Hotel   \n",
       "10  Fast Food Restaurant         Shopping Mall           Pizza Place   \n",
       "11                 Hotel  Fast Food Restaurant         Shopping Mall   \n",
       "12                Lounge                 Hotel         Shopping Mall   \n",
       "13  Fast Food Restaurant           Pizza Place                 Hotel   \n",
       "14                Lounge                 Hotel                   Bar   \n",
       "16                 Hotel                Lounge    African Restaurant   \n",
       "17                Lounge                 Hotel                   Bar   \n",
       "\n",
       "   4th Most Common Venue 5th Most Common Venue     6th Most Common Venue  \\\n",
       "0                 Lounge         Shopping Mall              Burger Joint   \n",
       "1                  Hotel         Movie Theater               Art Gallery   \n",
       "2                    Bar     Convenience Store                 Nightclub   \n",
       "3            Pizza Place    African Restaurant                Restaurant   \n",
       "4            Pizza Place    African Restaurant                       Bar   \n",
       "6      Mobile Phone Shop            Campground            Clothing Store   \n",
       "7              Nightclub      Department Store             Shopping Mall   \n",
       "8            Pizza Place                   Bar         Convenience Store   \n",
       "9            Pizza Place     Convenience Store        Chinese Restaurant   \n",
       "10    African Restaurant                   Bar          Department Store   \n",
       "11                Bakery                 Beach  Bike Rental / Bike Share   \n",
       "12    African Restaurant      Department Store      Fast Food Restaurant   \n",
       "13         Shopping Mall                   Bar         Convenience Store   \n",
       "14                 Beach     Convenience Store               Pizza Place   \n",
       "16             Nightclub           Pizza Place                Restaurant   \n",
       "17        Ice Cream Shop                 Beach         Convenience Store   \n",
       "\n",
       "   7th Most Common Venue 8th Most Common Venue 9th Most Common Venue  \\\n",
       "0             Restaurant        Airport Lounge               Airport   \n",
       "1     Chinese Restaurant   Japanese Restaurant             Nightclub   \n",
       "2            Pizza Place             BBQ Joint    Chinese Restaurant   \n",
       "3                 Lounge                   Bar        Ice Cream Shop   \n",
       "4                 Bakery                Lounge             Nightclub   \n",
       "6           Cocktail Bar           Coffee Shop           Comedy Club   \n",
       "7            Pizza Place                   Bar  Fast Food Restaurant   \n",
       "8                 Lounge             BBQ Joint          Burger Joint   \n",
       "9            Bus Station          Burger Joint           Beer Garden   \n",
       "10                Lounge             Nightclub                 Hotel   \n",
       "11    Chinese Restaurant                 Diner           Flea Market   \n",
       "12                   Bar           Pizza Place             Nightclub   \n",
       "13                Lounge             BBQ Joint    Chinese Restaurant   \n",
       "14        Ice Cream Shop         Shopping Mall  Fast Food Restaurant   \n",
       "16           Art Gallery        Ice Cream Shop                   Bar   \n",
       "17         Shopping Mall           Flea Market         Movie Theater   \n",
       "\n",
       "     10th Most Common Venue  \n",
       "0          Department Store  \n",
       "1                      Park  \n",
       "2          Department Store  \n",
       "3                 Nightclub  \n",
       "4          Department Store  \n",
       "6   Comfort Food Restaurant  \n",
       "7                      Park  \n",
       "8        Chinese Restaurant  \n",
       "9                      Park  \n",
       "10                BBQ Joint  \n",
       "11                     Food  \n",
       "12              Art Gallery  \n",
       "13         Department Store  \n",
       "14         Department Store  \n",
       "16            Movie Theater  \n",
       "17               Hotel Pool  "
      ]
     },
     "execution_count": 78,
     "metadata": {},
     "output_type": "execute_result"
    }
   ],
   "source": [
    "cluster_one = lagos_merged[lagos_merged['Cluster Labels'] == 0]\n",
    "cluster_one"
   ]
  },
  {
   "cell_type": "code",
   "execution_count": null,
   "metadata": {},
   "outputs": [],
   "source": []
  },
  {
   "cell_type": "code",
   "execution_count": 79,
   "metadata": {
    "colab": {
     "base_uri": "https://localhost:8080/",
     "height": 286
    },
    "colab_type": "code",
    "id": "yBtHf9P21wsm",
    "outputId": "74fb1f03-6a85-4a03-eed8-7545c030cc51"
   },
   "outputs": [
    {
     "data": {
      "text/html": [
       "<div>\n",
       "<style scoped>\n",
       "    .dataframe tbody tr th:only-of-type {\n",
       "        vertical-align: middle;\n",
       "    }\n",
       "\n",
       "    .dataframe tbody tr th {\n",
       "        vertical-align: top;\n",
       "    }\n",
       "\n",
       "    .dataframe thead th {\n",
       "        text-align: right;\n",
       "    }\n",
       "</style>\n",
       "<table border=\"1\" class=\"dataframe\">\n",
       "  <thead>\n",
       "    <tr style=\"text-align: right;\">\n",
       "      <th></th>\n",
       "      <th>LGA</th>\n",
       "    </tr>\n",
       "  </thead>\n",
       "  <tbody>\n",
       "    <tr>\n",
       "      <td>0</td>\n",
       "      <td>Alimosho</td>\n",
       "    </tr>\n",
       "    <tr>\n",
       "      <td>1</td>\n",
       "      <td>Ajeromi-Ifelodun</td>\n",
       "    </tr>\n",
       "    <tr>\n",
       "      <td>2</td>\n",
       "      <td>Kosofe</td>\n",
       "    </tr>\n",
       "    <tr>\n",
       "      <td>3</td>\n",
       "      <td>Mushin</td>\n",
       "    </tr>\n",
       "    <tr>\n",
       "      <td>4</td>\n",
       "      <td>Oshodi-Isolo</td>\n",
       "    </tr>\n",
       "    <tr>\n",
       "      <td>6</td>\n",
       "      <td>Ikorodu</td>\n",
       "    </tr>\n",
       "    <tr>\n",
       "      <td>7</td>\n",
       "      <td>Surulere</td>\n",
       "    </tr>\n",
       "    <tr>\n",
       "      <td>8</td>\n",
       "      <td>Agege</td>\n",
       "    </tr>\n",
       "    <tr>\n",
       "      <td>9</td>\n",
       "      <td>Ifako-Ijaiye</td>\n",
       "    </tr>\n",
       "    <tr>\n",
       "      <td>10</td>\n",
       "      <td>Somolu</td>\n",
       "    </tr>\n",
       "    <tr>\n",
       "      <td>11</td>\n",
       "      <td>Amuwo-Odofin</td>\n",
       "    </tr>\n",
       "    <tr>\n",
       "      <td>12</td>\n",
       "      <td>Lagos Mainland</td>\n",
       "    </tr>\n",
       "    <tr>\n",
       "      <td>13</td>\n",
       "      <td>Ikeja</td>\n",
       "    </tr>\n",
       "    <tr>\n",
       "      <td>14</td>\n",
       "      <td>Eti-Osa</td>\n",
       "    </tr>\n",
       "    <tr>\n",
       "      <td>16</td>\n",
       "      <td>Apapa</td>\n",
       "    </tr>\n",
       "    <tr>\n",
       "      <td>17</td>\n",
       "      <td>Lagos Island</td>\n",
       "    </tr>\n",
       "  </tbody>\n",
       "</table>\n",
       "</div>"
      ],
      "text/plain": [
       "                 LGA\n",
       "0           Alimosho\n",
       "1   Ajeromi-Ifelodun\n",
       "2             Kosofe\n",
       "3             Mushin\n",
       "4       Oshodi-Isolo\n",
       "6            Ikorodu\n",
       "7           Surulere\n",
       "8              Agege\n",
       "9       Ifako-Ijaiye\n",
       "10            Somolu\n",
       "11      Amuwo-Odofin\n",
       "12    Lagos Mainland\n",
       "13             Ikeja\n",
       "14           Eti-Osa\n",
       "16             Apapa\n",
       "17      Lagos Island"
      ]
     },
     "execution_count": 79,
     "metadata": {},
     "output_type": "execute_result"
    }
   ],
   "source": [
    "cluster1_lgas = (cluster1['LGA'])\n",
    "cluster1_lgas\n",
    "cluster1_lgas.to_frame() \n"
   ]
  },
  {
   "cell_type": "markdown",
   "metadata": {
    "colab_type": "text",
    "id": "yi-hisBkq4NV"
   },
   "source": [
    "We can inspect Cluster Two closely"
   ]
  },
  {
   "cell_type": "code",
   "execution_count": 80,
   "metadata": {
    "colab": {
     "base_uri": "https://localhost:8080/",
     "height": 110
    },
    "colab_type": "code",
    "id": "NsdQ2Oraq7x3",
    "outputId": "8827b304-7834-4a68-f5a6-738f6dfb3587"
   },
   "outputs": [
    {
     "data": {
      "text/html": [
       "<div>\n",
       "<style scoped>\n",
       "    .dataframe tbody tr th:only-of-type {\n",
       "        vertical-align: middle;\n",
       "    }\n",
       "\n",
       "    .dataframe tbody tr th {\n",
       "        vertical-align: top;\n",
       "    }\n",
       "\n",
       "    .dataframe thead th {\n",
       "        text-align: right;\n",
       "    }\n",
       "</style>\n",
       "<table border=\"1\" class=\"dataframe\">\n",
       "  <thead>\n",
       "    <tr style=\"text-align: right;\">\n",
       "      <th></th>\n",
       "      <th>LGA</th>\n",
       "      <th>latitude</th>\n",
       "      <th>longitude</th>\n",
       "      <th>Cluster Labels</th>\n",
       "      <th>1st Most Common Venue</th>\n",
       "      <th>2nd Most Common Venue</th>\n",
       "      <th>3rd Most Common Venue</th>\n",
       "      <th>4th Most Common Venue</th>\n",
       "      <th>5th Most Common Venue</th>\n",
       "      <th>6th Most Common Venue</th>\n",
       "      <th>7th Most Common Venue</th>\n",
       "      <th>8th Most Common Venue</th>\n",
       "      <th>9th Most Common Venue</th>\n",
       "      <th>10th Most Common Venue</th>\n",
       "    </tr>\n",
       "  </thead>\n",
       "  <tbody>\n",
       "    <tr>\n",
       "      <td>18</td>\n",
       "      <td>Epe</td>\n",
       "      <td>6.52475</td>\n",
       "      <td>4.057246</td>\n",
       "      <td>1</td>\n",
       "      <td>Hotel</td>\n",
       "      <td>Other Great Outdoors</td>\n",
       "      <td>Heliport</td>\n",
       "      <td>Dessert Shop</td>\n",
       "      <td>Chinese Restaurant</td>\n",
       "      <td>Clothing Store</td>\n",
       "      <td>Cocktail Bar</td>\n",
       "      <td>Coffee Shop</td>\n",
       "      <td>Comedy Club</td>\n",
       "      <td>Comfort Food Restaurant</td>\n",
       "    </tr>\n",
       "  </tbody>\n",
       "</table>\n",
       "</div>"
      ],
      "text/plain": [
       "    LGA  latitude  longitude  Cluster Labels 1st Most Common Venue  \\\n",
       "18  Epe   6.52475   4.057246               1                 Hotel   \n",
       "\n",
       "   2nd Most Common Venue 3rd Most Common Venue 4th Most Common Venue  \\\n",
       "18  Other Great Outdoors              Heliport          Dessert Shop   \n",
       "\n",
       "   5th Most Common Venue 6th Most Common Venue 7th Most Common Venue  \\\n",
       "18    Chinese Restaurant        Clothing Store          Cocktail Bar   \n",
       "\n",
       "   8th Most Common Venue 9th Most Common Venue   10th Most Common Venue  \n",
       "18           Coffee Shop           Comedy Club  Comfort Food Restaurant  "
      ]
     },
     "execution_count": 80,
     "metadata": {},
     "output_type": "execute_result"
    }
   ],
   "source": [
    "cluster_two = lagos_merged[lagos_merged['Cluster Labels'] == 1]\n",
    "cluster_two"
   ]
  },
  {
   "cell_type": "markdown",
   "metadata": {
    "colab_type": "text",
    "id": "AmhYWNyGrbsQ"
   },
   "source": [
    "We can inspect Cluster Three closely"
   ]
  },
  {
   "cell_type": "code",
   "execution_count": 81,
   "metadata": {
    "colab": {
     "base_uri": "https://localhost:8080/",
     "height": 110
    },
    "colab_type": "code",
    "id": "RlLDaTPWrd0f",
    "outputId": "15e0c9b7-9390-443a-87f0-6d88deb05ca5"
   },
   "outputs": [
    {
     "data": {
      "text/html": [
       "<div>\n",
       "<style scoped>\n",
       "    .dataframe tbody tr th:only-of-type {\n",
       "        vertical-align: middle;\n",
       "    }\n",
       "\n",
       "    .dataframe tbody tr th {\n",
       "        vertical-align: top;\n",
       "    }\n",
       "\n",
       "    .dataframe thead th {\n",
       "        text-align: right;\n",
       "    }\n",
       "</style>\n",
       "<table border=\"1\" class=\"dataframe\">\n",
       "  <thead>\n",
       "    <tr style=\"text-align: right;\">\n",
       "      <th></th>\n",
       "      <th>LGA</th>\n",
       "      <th>latitude</th>\n",
       "      <th>longitude</th>\n",
       "      <th>Cluster Labels</th>\n",
       "      <th>1st Most Common Venue</th>\n",
       "      <th>2nd Most Common Venue</th>\n",
       "      <th>3rd Most Common Venue</th>\n",
       "      <th>4th Most Common Venue</th>\n",
       "      <th>5th Most Common Venue</th>\n",
       "      <th>6th Most Common Venue</th>\n",
       "      <th>7th Most Common Venue</th>\n",
       "      <th>8th Most Common Venue</th>\n",
       "      <th>9th Most Common Venue</th>\n",
       "      <th>10th Most Common Venue</th>\n",
       "    </tr>\n",
       "  </thead>\n",
       "  <tbody>\n",
       "    <tr>\n",
       "      <td>5</td>\n",
       "      <td>Ojo</td>\n",
       "      <td>6.4579</td>\n",
       "      <td>3.158</td>\n",
       "      <td>2</td>\n",
       "      <td>Park</td>\n",
       "      <td>Strip Club</td>\n",
       "      <td>Flea Market</td>\n",
       "      <td>Pub</td>\n",
       "      <td>Department Store</td>\n",
       "      <td>Campground</td>\n",
       "      <td>Chinese Restaurant</td>\n",
       "      <td>Clothing Store</td>\n",
       "      <td>Cocktail Bar</td>\n",
       "      <td>Coffee Shop</td>\n",
       "    </tr>\n",
       "  </tbody>\n",
       "</table>\n",
       "</div>"
      ],
      "text/plain": [
       "   LGA  latitude  longitude  Cluster Labels 1st Most Common Venue  \\\n",
       "5  Ojo    6.4579      3.158               2                  Park   \n",
       "\n",
       "  2nd Most Common Venue 3rd Most Common Venue 4th Most Common Venue  \\\n",
       "5            Strip Club           Flea Market                   Pub   \n",
       "\n",
       "  5th Most Common Venue 6th Most Common Venue 7th Most Common Venue  \\\n",
       "5      Department Store            Campground    Chinese Restaurant   \n",
       "\n",
       "  8th Most Common Venue 9th Most Common Venue 10th Most Common Venue  \n",
       "5        Clothing Store          Cocktail Bar            Coffee Shop  "
      ]
     },
     "execution_count": 81,
     "metadata": {},
     "output_type": "execute_result"
    }
   ],
   "source": [
    "cluster_three = lagos_merged[lagos_merged['Cluster Labels'] == 2]\n",
    "cluster_three"
   ]
  },
  {
   "cell_type": "markdown",
   "metadata": {
    "colab_type": "text",
    "id": "ZAjvvCz0rn38"
   },
   "source": [
    "We can inspect Cluster Four closely"
   ]
  },
  {
   "cell_type": "code",
   "execution_count": 82,
   "metadata": {
    "colab": {
     "base_uri": "https://localhost:8080/",
     "height": 110
    },
    "colab_type": "code",
    "id": "iBCE8gNlro-5",
    "outputId": "5461a1fd-1c51-462f-af09-6f1e5fa60361"
   },
   "outputs": [
    {
     "data": {
      "text/html": [
       "<div>\n",
       "<style scoped>\n",
       "    .dataframe tbody tr th:only-of-type {\n",
       "        vertical-align: middle;\n",
       "    }\n",
       "\n",
       "    .dataframe tbody tr th {\n",
       "        vertical-align: top;\n",
       "    }\n",
       "\n",
       "    .dataframe thead th {\n",
       "        text-align: right;\n",
       "    }\n",
       "</style>\n",
       "<table border=\"1\" class=\"dataframe\">\n",
       "  <thead>\n",
       "    <tr style=\"text-align: right;\">\n",
       "      <th></th>\n",
       "      <th>LGA</th>\n",
       "      <th>latitude</th>\n",
       "      <th>longitude</th>\n",
       "      <th>Cluster Labels</th>\n",
       "      <th>1st Most Common Venue</th>\n",
       "      <th>2nd Most Common Venue</th>\n",
       "      <th>3rd Most Common Venue</th>\n",
       "      <th>4th Most Common Venue</th>\n",
       "      <th>5th Most Common Venue</th>\n",
       "      <th>6th Most Common Venue</th>\n",
       "      <th>7th Most Common Venue</th>\n",
       "      <th>8th Most Common Venue</th>\n",
       "      <th>9th Most Common Venue</th>\n",
       "      <th>10th Most Common Venue</th>\n",
       "    </tr>\n",
       "  </thead>\n",
       "  <tbody>\n",
       "    <tr>\n",
       "      <td>19</td>\n",
       "      <td>Ibeju-Lekki</td>\n",
       "      <td>6.471125</td>\n",
       "      <td>3.81475</td>\n",
       "      <td>3</td>\n",
       "      <td>Golf Course</td>\n",
       "      <td>Arcade</td>\n",
       "      <td>Beach</td>\n",
       "      <td>Resort</td>\n",
       "      <td>Vineyard</td>\n",
       "      <td>Dessert Shop</td>\n",
       "      <td>Clothing Store</td>\n",
       "      <td>Cocktail Bar</td>\n",
       "      <td>Coffee Shop</td>\n",
       "      <td>Comedy Club</td>\n",
       "    </tr>\n",
       "  </tbody>\n",
       "</table>\n",
       "</div>"
      ],
      "text/plain": [
       "            LGA  latitude  longitude  Cluster Labels 1st Most Common Venue  \\\n",
       "19  Ibeju-Lekki  6.471125    3.81475               3           Golf Course   \n",
       "\n",
       "   2nd Most Common Venue 3rd Most Common Venue 4th Most Common Venue  \\\n",
       "19                Arcade                 Beach                Resort   \n",
       "\n",
       "   5th Most Common Venue 6th Most Common Venue 7th Most Common Venue  \\\n",
       "19              Vineyard          Dessert Shop        Clothing Store   \n",
       "\n",
       "   8th Most Common Venue 9th Most Common Venue 10th Most Common Venue  \n",
       "19          Cocktail Bar           Coffee Shop            Comedy Club  "
      ]
     },
     "execution_count": 82,
     "metadata": {},
     "output_type": "execute_result"
    }
   ],
   "source": [
    "cluster_four = lagos_merged[lagos_merged['Cluster Labels'] == 3]\n",
    "cluster_four"
   ]
  },
  {
   "cell_type": "markdown",
   "metadata": {
    "colab_type": "text",
    "id": "jSnoZNAzrxVE"
   },
   "source": [
    "We can inspect Cluster Five closely"
   ]
  },
  {
   "cell_type": "code",
   "execution_count": 83,
   "metadata": {
    "colab": {
     "base_uri": "https://localhost:8080/",
     "height": 110
    },
    "colab_type": "code",
    "id": "aG7PJ-Larycm",
    "outputId": "f48aa361-f0b7-467f-aa06-e99dad459604"
   },
   "outputs": [
    {
     "data": {
      "text/html": [
       "<div>\n",
       "<style scoped>\n",
       "    .dataframe tbody tr th:only-of-type {\n",
       "        vertical-align: middle;\n",
       "    }\n",
       "\n",
       "    .dataframe tbody tr th {\n",
       "        vertical-align: top;\n",
       "    }\n",
       "\n",
       "    .dataframe thead th {\n",
       "        text-align: right;\n",
       "    }\n",
       "</style>\n",
       "<table border=\"1\" class=\"dataframe\">\n",
       "  <thead>\n",
       "    <tr style=\"text-align: right;\">\n",
       "      <th></th>\n",
       "      <th>LGA</th>\n",
       "      <th>latitude</th>\n",
       "      <th>longitude</th>\n",
       "      <th>Cluster Labels</th>\n",
       "      <th>1st Most Common Venue</th>\n",
       "      <th>2nd Most Common Venue</th>\n",
       "      <th>3rd Most Common Venue</th>\n",
       "      <th>4th Most Common Venue</th>\n",
       "      <th>5th Most Common Venue</th>\n",
       "      <th>6th Most Common Venue</th>\n",
       "      <th>7th Most Common Venue</th>\n",
       "      <th>8th Most Common Venue</th>\n",
       "      <th>9th Most Common Venue</th>\n",
       "      <th>10th Most Common Venue</th>\n",
       "    </tr>\n",
       "  </thead>\n",
       "  <tbody>\n",
       "    <tr>\n",
       "      <td>15</td>\n",
       "      <td>Badagry</td>\n",
       "      <td>6.43873</td>\n",
       "      <td>2.907486</td>\n",
       "      <td>4</td>\n",
       "      <td>History Museum</td>\n",
       "      <td>Museum</td>\n",
       "      <td>Beer Garden</td>\n",
       "      <td>Fast Food Restaurant</td>\n",
       "      <td>Dessert Shop</td>\n",
       "      <td>Clothing Store</td>\n",
       "      <td>Cocktail Bar</td>\n",
       "      <td>Coffee Shop</td>\n",
       "      <td>Comedy Club</td>\n",
       "      <td>Comfort Food Restaurant</td>\n",
       "    </tr>\n",
       "  </tbody>\n",
       "</table>\n",
       "</div>"
      ],
      "text/plain": [
       "        LGA  latitude  longitude  Cluster Labels 1st Most Common Venue  \\\n",
       "15  Badagry   6.43873   2.907486               4        History Museum   \n",
       "\n",
       "   2nd Most Common Venue 3rd Most Common Venue 4th Most Common Venue  \\\n",
       "15                Museum           Beer Garden  Fast Food Restaurant   \n",
       "\n",
       "   5th Most Common Venue 6th Most Common Venue 7th Most Common Venue  \\\n",
       "15          Dessert Shop        Clothing Store          Cocktail Bar   \n",
       "\n",
       "   8th Most Common Venue 9th Most Common Venue   10th Most Common Venue  \n",
       "15           Coffee Shop           Comedy Club  Comfort Food Restaurant  "
      ]
     },
     "execution_count": 83,
     "metadata": {},
     "output_type": "execute_result"
    }
   ],
   "source": [
    "cluster_five = lagos_merged[lagos_merged['Cluster Labels'] == 4]\n",
    "cluster_five"
   ]
  },
  {
   "cell_type": "markdown",
   "metadata": {
    "colab_type": "text",
    "id": "7XOaHfMSuow4"
   },
   "source": [
    "#### Next let's display the names of the Top 10 venues from each LGA in Lagos State, using the word cloud application."
   ]
  },
  {
   "cell_type": "markdown",
   "metadata": {
    "colab_type": "text",
    "id": "qbx4QQevcIYF"
   },
   "source": [
    "The word cloud object emphasizes the most frequent words in a document or string, by making them bigger than others. In other words, the more frequent a word is in the word cloud object, the bigger the word becomes in comparison to other words."
   ]
  },
  {
   "cell_type": "code",
   "execution_count": 84,
   "metadata": {
    "colab": {
     "base_uri": "https://localhost:8080/",
     "height": 34
    },
    "colab_type": "code",
    "id": "OY3h-wUDNhRJ",
    "outputId": "d2abadbe-18ca-49d6-cc6f-9e3f5cc10b65"
   },
   "outputs": [
    {
     "name": "stdout",
     "output_type": "stream",
     "text": [
      "Requirement already satisfied: wordcloud in c:\\programdata\\anaconda3\\lib\\site-packages (1.7.0)\n",
      "Requirement already satisfied: numpy>=1.6.1 in c:\\programdata\\anaconda3\\lib\\site-packages (from wordcloud) (1.18.2)\n",
      "Requirement already satisfied: pillow in c:\\programdata\\anaconda3\\lib\\site-packages (from wordcloud) (6.2.0)\n",
      "Requirement already satisfied: matplotlib in c:\\programdata\\anaconda3\\lib\\site-packages (from wordcloud) (3.1.1)\n",
      "Requirement already satisfied: cycler>=0.10 in c:\\programdata\\anaconda3\\lib\\site-packages (from matplotlib->wordcloud) (0.10.0)\n",
      "Requirement already satisfied: kiwisolver>=1.0.1 in c:\\programdata\\anaconda3\\lib\\site-packages (from matplotlib->wordcloud) (1.1.0)\n",
      "Requirement already satisfied: pyparsing!=2.0.4,!=2.1.2,!=2.1.6,>=2.0.1 in c:\\programdata\\anaconda3\\lib\\site-packages (from matplotlib->wordcloud) (2.4.2)\n",
      "Requirement already satisfied: python-dateutil>=2.1 in c:\\programdata\\anaconda3\\lib\\site-packages (from matplotlib->wordcloud) (2.8.0)\n",
      "Requirement already satisfied: six in c:\\programdata\\anaconda3\\lib\\site-packages (from cycler>=0.10->matplotlib->wordcloud) (1.12.0)\n",
      "Requirement already satisfied: setuptools in c:\\programdata\\anaconda3\\lib\\site-packages (from kiwisolver>=1.0.1->matplotlib->wordcloud) (41.4.0)\n",
      "Wordcloud is installed and imported!\n"
     ]
    }
   ],
   "source": [
    "from PIL import Image # Used for converting images into arrays\n",
    "!pip install wordcloud\n",
    "# import wordcloud package and its set of stopwords\n",
    "from wordcloud import WordCloud, STOPWORDS\n",
    "\n",
    "print ('Wordcloud is installed and imported!')"
   ]
  },
  {
   "cell_type": "markdown",
   "metadata": {
    "colab_type": "text",
    "id": "dqLpXeUSOAXP"
   },
   "source": [
    "Next, let's use the stopwords that we imported from word_cloud. We use the function set to remove any redundant stopwords.\n",
    "\n"
   ]
  },
  {
   "cell_type": "code",
   "execution_count": 85,
   "metadata": {
    "colab": {},
    "colab_type": "code",
    "id": "AO2srIc6OCO8"
   },
   "outputs": [],
   "source": [
    "stopwords = set(STOPWORDS)"
   ]
  },
  {
   "cell_type": "markdown",
   "metadata": {
    "colab_type": "text",
    "id": "NNzE6Q5Tbp81"
   },
   "source": [
    "Next, let's select only needed columns from the DataFrame for our wordCloud object"
   ]
  },
  {
   "cell_type": "code",
   "execution_count": 86,
   "metadata": {
    "colab": {
     "base_uri": "https://localhost:8080/",
     "height": 296
    },
    "colab_type": "code",
    "id": "ERlc465eQDKQ",
    "outputId": "e04c84a4-7abb-4dd2-f9af-a4163ba9ec3a"
   },
   "outputs": [
    {
     "data": {
      "text/html": [
       "<div>\n",
       "<style scoped>\n",
       "    .dataframe tbody tr th:only-of-type {\n",
       "        vertical-align: middle;\n",
       "    }\n",
       "\n",
       "    .dataframe tbody tr th {\n",
       "        vertical-align: top;\n",
       "    }\n",
       "\n",
       "    .dataframe thead th {\n",
       "        text-align: right;\n",
       "    }\n",
       "</style>\n",
       "<table border=\"1\" class=\"dataframe\">\n",
       "  <thead>\n",
       "    <tr style=\"text-align: right;\">\n",
       "      <th></th>\n",
       "      <th>1st Most Common Venue</th>\n",
       "      <th>2nd Most Common Venue</th>\n",
       "      <th>3rd Most Common Venue</th>\n",
       "      <th>4th Most Common Venue</th>\n",
       "      <th>5th Most Common Venue</th>\n",
       "      <th>6th Most Common Venue</th>\n",
       "      <th>7th Most Common Venue</th>\n",
       "      <th>8th Most Common Venue</th>\n",
       "      <th>9th Most Common Venue</th>\n",
       "      <th>10th Most Common Venue</th>\n",
       "    </tr>\n",
       "  </thead>\n",
       "  <tbody>\n",
       "    <tr>\n",
       "      <td>0</td>\n",
       "      <td>Fast Food Restaurant</td>\n",
       "      <td>Hotel</td>\n",
       "      <td>Pizza Place</td>\n",
       "      <td>Lounge</td>\n",
       "      <td>Shopping Mall</td>\n",
       "      <td>Burger Joint</td>\n",
       "      <td>Restaurant</td>\n",
       "      <td>Airport Lounge</td>\n",
       "      <td>Airport</td>\n",
       "      <td>Department Store</td>\n",
       "    </tr>\n",
       "    <tr>\n",
       "      <td>1</td>\n",
       "      <td>African Restaurant</td>\n",
       "      <td>Pizza Place</td>\n",
       "      <td>Lounge</td>\n",
       "      <td>Hotel</td>\n",
       "      <td>Movie Theater</td>\n",
       "      <td>Art Gallery</td>\n",
       "      <td>Chinese Restaurant</td>\n",
       "      <td>Japanese Restaurant</td>\n",
       "      <td>Nightclub</td>\n",
       "      <td>Park</td>\n",
       "    </tr>\n",
       "    <tr>\n",
       "      <td>2</td>\n",
       "      <td>Fast Food Restaurant</td>\n",
       "      <td>Shopping Mall</td>\n",
       "      <td>African Restaurant</td>\n",
       "      <td>Bar</td>\n",
       "      <td>Convenience Store</td>\n",
       "      <td>Nightclub</td>\n",
       "      <td>Pizza Place</td>\n",
       "      <td>BBQ Joint</td>\n",
       "      <td>Chinese Restaurant</td>\n",
       "      <td>Department Store</td>\n",
       "    </tr>\n",
       "    <tr>\n",
       "      <td>3</td>\n",
       "      <td>Fast Food Restaurant</td>\n",
       "      <td>Hotel</td>\n",
       "      <td>Shopping Mall</td>\n",
       "      <td>Pizza Place</td>\n",
       "      <td>African Restaurant</td>\n",
       "      <td>Restaurant</td>\n",
       "      <td>Lounge</td>\n",
       "      <td>Bar</td>\n",
       "      <td>Ice Cream Shop</td>\n",
       "      <td>Nightclub</td>\n",
       "    </tr>\n",
       "    <tr>\n",
       "      <td>4</td>\n",
       "      <td>Fast Food Restaurant</td>\n",
       "      <td>Hotel</td>\n",
       "      <td>Shopping Mall</td>\n",
       "      <td>Pizza Place</td>\n",
       "      <td>African Restaurant</td>\n",
       "      <td>Bar</td>\n",
       "      <td>Bakery</td>\n",
       "      <td>Lounge</td>\n",
       "      <td>Nightclub</td>\n",
       "      <td>Department Store</td>\n",
       "    </tr>\n",
       "  </tbody>\n",
       "</table>\n",
       "</div>"
      ],
      "text/plain": [
       "  1st Most Common Venue 2nd Most Common Venue 3rd Most Common Venue  \\\n",
       "0  Fast Food Restaurant                 Hotel           Pizza Place   \n",
       "1    African Restaurant           Pizza Place                Lounge   \n",
       "2  Fast Food Restaurant         Shopping Mall    African Restaurant   \n",
       "3  Fast Food Restaurant                 Hotel         Shopping Mall   \n",
       "4  Fast Food Restaurant                 Hotel         Shopping Mall   \n",
       "\n",
       "  4th Most Common Venue 5th Most Common Venue 6th Most Common Venue  \\\n",
       "0                Lounge         Shopping Mall          Burger Joint   \n",
       "1                 Hotel         Movie Theater           Art Gallery   \n",
       "2                   Bar     Convenience Store             Nightclub   \n",
       "3           Pizza Place    African Restaurant            Restaurant   \n",
       "4           Pizza Place    African Restaurant                   Bar   \n",
       "\n",
       "  7th Most Common Venue 8th Most Common Venue 9th Most Common Venue  \\\n",
       "0            Restaurant        Airport Lounge               Airport   \n",
       "1    Chinese Restaurant   Japanese Restaurant             Nightclub   \n",
       "2           Pizza Place             BBQ Joint    Chinese Restaurant   \n",
       "3                Lounge                   Bar        Ice Cream Shop   \n",
       "4                Bakery                Lounge             Nightclub   \n",
       "\n",
       "  10th Most Common Venue  \n",
       "0       Department Store  \n",
       "1                   Park  \n",
       "2       Department Store  \n",
       "3              Nightclub  \n",
       "4       Department Store  "
      ]
     },
     "execution_count": 86,
     "metadata": {},
     "output_type": "execute_result"
    }
   ],
   "source": [
    "# Let's select only the columns in lagos_merged DataFrame that we need\n",
    "selection = lagos_merged.iloc[:, 4:]\n",
    "\n",
    "# Let's view the first 5 rows of our selection\n",
    "selection.head()"
   ]
  },
  {
   "cell_type": "markdown",
   "metadata": {
    "colab_type": "text",
    "id": "W89RmyUDOPkO"
   },
   "source": [
    "Next, let's create a string object with all the venue category words from the DataFrame showing the first 10 Top categories per LGA (lagos_merged)."
   ]
  },
  {
   "cell_type": "code",
   "execution_count": 87,
   "metadata": {
    "colab": {
     "base_uri": "https://localhost:8080/",
     "height": 70
    },
    "colab_type": "code",
    "id": "qzBDiMesRDYb",
    "outputId": "21429030-9dcd-4c0c-a8ee-21ba50365c28"
   },
   "outputs": [
    {
     "name": "stdout",
     "output_type": "stream",
     "text": [
      "2675\n"
     ]
    },
    {
     "data": {
      "text/plain": [
       "'Fast Food Restaurant, African Restaurant, Fast Food Restaurant, Fast Food Restaurant, Fast Food Restaurant, Park, Bus Station, Hotel, Fast Food Restaurant, Fast Food Restaurant, Fast Food Restaurant, Hotel, Lounge, Fast Food Restaurant, Lounge, History Museum, Hotel, Lounge, Hotel, Golf Course, Hotel, Pizza Place, Shopping Mall, Hotel, Hotel, Strip Club, Pizza Place, Lounge, Shopping Mall, Shopping Mall, Shopping Mall, Fast Food Restaurant, Hotel, Pizza Place, Hotel, Museum, Lounge, Hotel, Other Great Outdoors, Arcade, Pizza Place, Lounge, African Restaurant, Shopping Mall, Shopping Mall, Flea Market, Beach, African Restaurant, Hotel, Hotel, Pizza Place, Shopping Mall, Shopping Mall, Hotel, Bar, Beer Garden, African Restaurant, Bar, Heliport, Beach, Lounge, Hotel, Bar, Pizza Place, Pizza Place, Pub, Mobile Phone Shop, Nightclub, Pizza Place, Pizza Place, African Restaurant, Bakery, African Restaurant, Shopping Mall, Beach, Fast Food Restaurant, Nightclub, Ice Cream Shop, Dessert Shop, Resort, Shopping Mall, Movie Theater, Convenience Store, African Restaurant, African Restaurant, Department Store, Campground, Department Store, Bar, Convenience Store, Bar, Beach, Department Store, Bar, Convenience Store, Dessert Shop, Pizza Place, Beach, Chinese Restaurant, Vineyard, Burger Joint, Art Gallery, Nightclub, Restaurant, Bar, Campground, Clothing Store, Shopping Mall, Convenience Store, Chinese Restaurant, Department Store, Bike Rental / Bike Share, Fast Food Restaurant, Convenience Store, Pizza Place, Clothing Store, Restaurant, Convenience Store, Clothing Store, Dessert Shop, Restaurant, Chinese Restaurant, Pizza Place, Lounge, Bakery, Chinese Restaurant, Cocktail Bar, Pizza Place, Lounge, Bus Station, Lounge, Chinese Restaurant, Bar, Lounge, Ice Cream Shop, Cocktail Bar, Art Gallery, Shopping Mall, Cocktail Bar, Clothing Store, Airport Lounge, Japanese Restaurant, BBQ Joint, Bar, Lounge, Clothing Store, Coffee Shop, Bar, BBQ Joint, Burger Joint, Nightclub, Diner, Pizza Place, BBQ Joint, Shopping Mall, Coffee Shop, Ice Cream Shop, Flea Market, Coffee Shop, Cocktail Bar, Airport, Nightclub, Chinese Restaurant, Ice Cream Shop, Nightclub, Cocktail Bar, Comedy Club, Fast Food Restaurant, Burger Joint, Beer Garden, Hotel, Flea Market, Nightclub, Chinese Restaurant, Fast Food Restaurant, Comedy Club, Bar, Movie Theater, Comedy Club, Coffee Shop, Department Store, Park, Department Store, Nightclub, Department Store, Coffee Shop, Comfort Food Restaurant, Park, Chinese Restaurant, Park, BBQ Joint, Food, Art Gallery, Department Store, Department Store, Comfort Food Restaurant, Movie Theater, Hotel Pool, Comfort Food Restaurant, Comedy Club, '"
      ]
     },
     "execution_count": 87,
     "metadata": {},
     "output_type": "execute_result"
    }
   ],
   "source": [
    "# Next lets write code to iterate through each column of our selection DataFrame and append each category word to a string object\n",
    "\n",
    "col_list = list(selection.columns)\n",
    "\n",
    "words = ''\n",
    "\n",
    "for i in col_list:\n",
    "    for j in list(selection[i]):\n",
    "        words += j\n",
    "        words += ', '\n",
    "\n",
    "print(len(words))\n",
    "words"
   ]
  },
  {
   "cell_type": "markdown",
   "metadata": {
    "colab_type": "text",
    "id": "L9azUJHeXHG4"
   },
   "source": [
    "We have about 2690 words for our wordCloud application. let's go on."
   ]
  },
  {
   "cell_type": "markdown",
   "metadata": {
    "colab_type": "text",
    "id": "ffnU3OpUXXY-"
   },
   "source": [
    "Create a word cloud object and generate a word cloud."
   ]
  },
  {
   "cell_type": "code",
   "execution_count": 88,
   "metadata": {
    "colab": {
     "base_uri": "https://localhost:8080/",
     "height": 34
    },
    "colab_type": "code",
    "id": "-_OKTNgFXjOt",
    "outputId": "b485a087-1a9d-43c2-b630-473efd01f0a3"
   },
   "outputs": [
    {
     "data": {
      "text/plain": [
       "<wordcloud.wordcloud.WordCloud at 0x22837b0d848>"
      ]
     },
     "execution_count": 88,
     "metadata": {},
     "output_type": "execute_result"
    }
   ],
   "source": [
    "# Instantiate a WordCloud object\n",
    "top_venues_wc = WordCloud(max_font_size=50,\n",
    "          background_color='white',\n",
    "          max_words= len(words),\n",
    "          stopwords=stopwords)\n",
    "\n",
    "# Generate the WordCloud\n",
    "top_venues_wc.generate(words)"
   ]
  },
  {
   "cell_type": "markdown",
   "metadata": {
    "colab_type": "text",
    "id": "_hc8cGhnYVOb"
   },
   "source": [
    "Awesome! Now that the word cloud is created, let's visualize it."
   ]
  },
  {
   "cell_type": "code",
   "execution_count": 89,
   "metadata": {
    "colab": {
     "base_uri": "https://localhost:8080/",
     "height": 533
    },
    "colab_type": "code",
    "id": "Q3FbIBt-aW7L",
    "outputId": "7f0d5289-beb8-4c97-90ac-102ef2db83ee"
   },
   "outputs": [
    {
     "data": {
      "image/png": "[encoded data removed]",
      "text/plain": [
       "<Figure size 720x1080 with 1 Axes>"
      ]
     },
     "metadata": {
      "needs_background": "light"
     },
     "output_type": "display_data"
    }
   ],
   "source": [
    "# Generate the WordCloud\n",
    "top_venues_wc.generate(words)\n",
    "\n",
    "# Set the Size\n",
    "plt.figure(figsize=(10, 15))\n",
    "\n",
    "# Display the WC\n",
    "plt.imshow(top_venues_wc, interpolation='bilinear')\n",
    "plt.axis('off')\n",
    "plt.show()"
   ]
  },
  {
   "cell_type": "markdown",
   "metadata": {
    "colab_type": "text",
    "id": "0goTbxFxcrOE"
   },
   "source": [
    "Interesting! So the most common or freqent venues in all of Lagos State are:-\n",
    "<br>**Food Restaurant**,\n",
    "<br>**Hotel**,\n",
    "<br>**Fast Food**,\n",
    "<br>**Shopping Mall**,\n",
    "<br>**Lounge**,\n",
    "<br>**Restaurant**,\n",
    "<br>**Pizza Place**"
   ]
  },
  {
   "cell_type": "markdown",
   "metadata": {
    "colab_type": "text",
    "id": "Cl951UPqefBv"
   },
   "source": [
    "### To Recap:"
   ]
  },
  {
   "cell_type": "markdown",
   "metadata": {
    "colab_type": "text",
    "id": "3mKTloasei4c"
   },
   "source": [
    "In this notebook we explored Lagos State using it's [wikipedia page](https://en.wikipedia.org/wiki/List_of_Lagos_State_local_government_areas_by_population). We scraped the page using Beautiful soup and acquired its data using the request library and eventually we converted same from JSON format to a DataFrame using the json_normalize module.<br>\n",
    "We used the foursquare API to get the details of venues for each location, using the geopy library to convert addresses to latitude and longitude.<br>\n",
    "<br> Then we clustered Lagos state into 5 clusters using the K-means algorithm, and finally we displayed the Top venue categories in Lagos state using a word cloud object.\n",
    "<br> "
   ]
  }
 ],
 "metadata": {
  "accelerator": "GPU",
  "colab": {
   "collapsed_sections": [],
   "include_colab_link": true,
   "name": "applied_data_science_capstone_project.ipynb",
   "provenance": []
  },
  "kernelspec": {
   "display_name": "Python 3",
   "language": "python",
   "name": "python3"
  },
  "language_info": {
   "codemirror_mode": {
    "name": "ipython",
    "version": 3
   },
   "file_extension": ".py",
   "mimetype": "text/x-python",
   "name": "python",
   "nbconvert_exporter": "python",
   "pygments_lexer": "ipython3",
   "version": "3.7.4"
  },
  "toc": {
   "base_numbering": 1,
   "nav_menu": {},
   "number_sections": true,
   "sideBar": true,
   "skip_h1_title": false,
   "title_cell": "Table of Contents",
   "title_sidebar": "Contents",
   "toc_cell": false,
   "toc_position": {},
   "toc_section_display": true,
   "toc_window_display": false
  }
 },
 "nbformat": 4,
 "nbformat_minor": 1
}
